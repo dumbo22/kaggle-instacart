{
 "cells": [
  {
   "cell_type": "markdown",
   "metadata": {},
   "source": [
    "# Tasks\n",
    "\n",
    "_Feature eng_\n",
    "- user, prod, user-prod\n",
    "- category (aisle)\n",
    "- timeslot-prod\n",
    "\n",
    "_Training with xgboost_\n",
    "- search hyper-params\n",
    "  - **approx splitting, loss guided growing**\n",
    "  - lr schedule\n",
    "- threshold setting\n",
    "- test importance of random feature\n",
    "\n",
    "_Advanced feature eng_\n",
    "- customer segmentation - 根据user-aisle购买比例作为每个user的feature来做clustering，形成segment\n",
    "  - s feature 把用户分类成segment\n",
    "  - sp feature\n",
    "- **data augmentation**\n",
    "  - create \"augment/fake users\" which have a copied subset version of orders from a real user\n",
    "\n",
    "_Discussion_\n",
    "- **None handling**\n",
    "    - https://www.kaggle.com/c/instacart-market-basket-analysis/discussion/35716\n",
    "    - https://www.kaggle.com/c/instacart-market-basket-analysis/discussion/37016\n",
    "    - https://www.kaggle.com/c/instacart-market-basket-analysis/discussion/36848\n",
    "- **optimize F1 score**\n",
    "    - https://www.kaggle.com/c/instacart-market-basket-analysis/discussion/37221\n",
    "    - https://arxiv.org/pdf/1206.4625.pdf\n",
    "    - https://www.kaggle.com/mmueller/f1-score-expectation-maximization-in-o-n/code\n",
    "- collaborative filtering"
   ]
  },
  {
   "cell_type": "markdown",
   "metadata": {},
   "source": [
    "# Feature engineering"
   ]
  },
  {
   "cell_type": "markdown",
   "metadata": {},
   "source": [
    "```\n",
    "priors.dtype={\n",
    "                'order_id': np.int32,\n",
    "                'product_id': np.uint16,\n",
    "                'add_to_cart_order': np.int16,\n",
    "                'reordered': np.int8})\n",
    "train.dtype={\n",
    "                'order_id': np.int32,\n",
    "                'product_id': np.uint16,\n",
    "                'add_to_cart_order': np.int16,\n",
    "                'reordered': np.int8})\n",
    "orders.dtype={\n",
    "                'order_id': np.int32,\n",
    "                'user_id': np.int64,\n",
    "                'eval_set': 'category',\n",
    "                'order_number': np.int16,\n",
    "                'order_dow': np.int8,\n",
    "                'order_hour_of_day': np.int8,\n",
    "                'days_since_prior_order': np.float32})\n",
    "products.dtype={\n",
    "                'product_id'\n",
    "                'product_name'\n",
    "                'aisle_id'\n",
    "                'department_id'}\n",
    "```"
   ]
  },
  {
   "cell_type": "markdown",
   "metadata": {},
   "source": [
    "```\n",
    "priors_orders_detail = orders.merge(priors, how='inner', on='order_id')\n",
    "_user_buy_product_times: 用户在此单（包括）之前一共买过几次该商品\n",
    "```"
   ]
  },
  {
   "cell_type": "markdown",
   "metadata": {},
   "source": [
    "## Product feature"
   ]
  },
  {
   "cell_type": "markdown",
   "metadata": {},
   "source": [
    "- `_prod_total_cnt`: 商品被买的总次数\n",
    "\n",
    "reorder stats\n",
    "- `_prod_reorder_total_cnt`: 商品被reorder的总次数\n",
    "- `_prod_user_cnt`: 有多少人买过这个商品\n",
    "- `_prod_return_user_cnt`: 有多少人第二次买这个商品\n",
    "- `_prod_user_reorder_ratio`: 有百分之多少的人第一次买了还买了第二次\n",
    "- `_prod_product_reorder_ratio`: 商品被reorder的总次数/商品被买的总次数\n",
    "\n",
    "~~`_prod_reorder_times`~~\n"
   ]
  },
  {
   "cell_type": "markdown",
   "metadata": {},
   "source": [
    "## User feature"
   ]
  },
  {
   "cell_type": "markdown",
   "metadata": {},
   "source": [
    "counts\n",
    "- `_user_total_orders`: order数，用户下的prior总单数\n",
    "- `_user_total_products`: 商品数，用户从第一单到最后一单prior的总商品数\n",
    "- `_user_distinct_products`: unique商品数，用户从第一单到最后一单prior的unique商品数\n",
    "\n",
    "rates\n",
    "- `_user_mean_days_since_prior_order`: 下单频率，用户从第一单到最后一单prior的平均间隔天数\n",
    "- `_user_reorder_ratio`: reorder比例，从第二单到最后一单prior，用户reorder的商品比例\n",
    "- `_user_average_basket`: 平均cart大小，总商品数/总单数\n",
    "\n",
    "timeline\n",
    "- `_user_sum_days_since_prior_order`: cart龄，用户从第一单到最后一单prior的总天数间隔\n",
    "- `time_since_last_order`: user的最后一单(train/test)距离最后一单prior的天数\n"
   ]
  },
  {
   "cell_type": "markdown",
   "metadata": {},
   "source": [
    "## User-Product feature"
   ]
  },
  {
   "cell_type": "markdown",
   "metadata": {},
   "source": [
    "\n",
    "timeline\n",
    "- `_up_first_order_number`: 该用户买该商品的第一单\n",
    "- `_up_last_order_number`: 该用户买该商品的最后一单\n",
    "- `_up_order_since_last_order`: 用户下的prior总单数-该用户买该商品的最后一单\n",
    "- [] days since last order\n",
    "\n",
    "order rate\n",
    "- `_up_order_rate`: 该用户买该商品次数/用户下的prior总单数\n",
    "- `_up_order_rate_since_first_order`: 该用户买该商品次数/(用户下的prior总单数 - 该用户买该商品的第一单 + 1)\n",
    "\n",
    "others\n",
    "- `_up_order_count`: 该用户买该商品次数\n",
    "- `_up_average_cart_position`: 该用户买该商品的平均加入cart位置\n",
    "\n",
    "- ~~[] recent orders最近用户是不是买过该产品（最近五单/最近30天）~~\n"
   ]
  },
  {
   "cell_type": "markdown",
   "metadata": {},
   "source": [
    "## Category feature"
   ]
  },
  {
   "cell_type": "markdown",
   "metadata": {},
   "source": [
    "- `cat_total_bought_cnts`\n",
    "- `cat_total_reorder_cnts`\n",
    "- `cat_user_cnt`\n",
    "- `cat_return_user_cnt`\n",
    "- `cat_user_reorder_ratio`\n",
    "- `cat_reorder_ratio`\n",
    "- `cat_num_of_prods_a_user_buys_in_this_cat_(mean/std/max/median)`"
   ]
  },
  {
   "cell_type": "markdown",
   "metadata": {
    "collapsed": true
   },
   "source": [
    "## Timeslot-Product feature\n",
    "\n",
    "- for a given product, what is the \"market share\" of each timeslot as compared with other timeslots"
   ]
  },
  {
   "cell_type": "code",
   "execution_count": null,
   "metadata": {
    "collapsed": true
   },
   "outputs": [],
   "source": []
  },
  {
   "cell_type": "code",
   "execution_count": null,
   "metadata": {
    "collapsed": true
   },
   "outputs": [],
   "source": []
  }
 ],
 "metadata": {
  "celltoolbar": "Raw Cell Format",
  "kernelspec": {
   "display_name": "Python 3",
   "language": "python",
   "name": "python3"
  },
  "language_info": {
   "codemirror_mode": {
    "name": "ipython",
    "version": 3
   },
   "file_extension": ".py",
   "mimetype": "text/x-python",
   "name": "python",
   "nbconvert_exporter": "python",
   "pygments_lexer": "ipython3",
   "version": "3.6.0"
  }
 },
 "nbformat": 4,
 "nbformat_minor": 2
}
