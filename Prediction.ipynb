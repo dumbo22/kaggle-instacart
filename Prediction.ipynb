{
 "cells": [
  {
   "cell_type": "markdown",
   "metadata": {},
   "source": [
    "![train](http://3.bp.blogspot.com/-Nt8l3SY2UiY/VHHLVsm8cFI/AAAAAAAAJGg/sPXvFN41aaU/s1600/contr%C3%A1rio.jpg)"
   ]
  },
  {
   "cell_type": "code",
   "execution_count": 1,
   "metadata": {
    "collapsed": false
   },
   "outputs": [],
   "source": [
    "import numpy as np\n",
    "np.random.seed(1019)\n",
    "\n",
    "import pandas as pd\n",
    "import matplotlib.pyplot as plt\n",
    "import seaborn as sns\n",
    "\n",
    "%matplotlib inline\n",
    "\n",
    "import xgboost\n",
    "\n",
    "import sklearn\n",
    "from sklearn.model_selection import train_test_split \n",
    "\n",
    "import sys, os, gc, types\n",
    "import time\n",
    "from subprocess import check_output"
   ]
  },
  {
   "cell_type": "code",
   "execution_count": 2,
   "metadata": {
    "collapsed": false
   },
   "outputs": [],
   "source": [
    "sys.path.append('./utils')\n",
    "\n",
    "from training import cv, train\n",
    "from plotting import plot_importance\n",
    "from data import Data"
   ]
  },
  {
   "cell_type": "code",
   "execution_count": 3,
   "metadata": {
    "collapsed": false
   },
   "outputs": [],
   "source": [
    "root_paths = [\n",
    "    \"/data/kaggle-instacart\",\n",
    "    \"/Users/jiayou/Dropbox/珺珺的程序/Kaggle/Instacart\",\n",
    "    \"/Users/jiayou/Dropbox/Documents/珺珺的程序/Kaggle/Instacart\"\n",
    "]\n",
    "root = None\n",
    "for p in root_paths:\n",
    "    if os.path.exists(p):\n",
    "        root = p\n",
    "        break"
   ]
  },
  {
   "cell_type": "code",
   "execution_count": 37,
   "metadata": {
    "collapsed": true
   },
   "outputs": [],
   "source": [
    "class F1Optimizer():\n",
    "    def __init__(self):\n",
    "        pass\n",
    "\n",
    "    @staticmethod\n",
    "    def get_expectations(P, pNone=None):\n",
    "        expectations = []\n",
    "        P = np.sort(P)[::-1]\n",
    "\n",
    "        n = np.array(P).shape[0]\n",
    "        DP_C = np.zeros((n + 2, n + 1))\n",
    "        if pNone is None:\n",
    "            pNone = (1.0 - P).prod()\n",
    "\n",
    "        DP_C[0][0] = 1.0\n",
    "        for j in range(1, n):\n",
    "            DP_C[0][j] = (1.0 - P[j - 1]) * DP_C[0, j - 1]\n",
    "\n",
    "        for i in range(1, n + 1):\n",
    "            DP_C[i, i] = DP_C[i - 1, i - 1] * P[i - 1]\n",
    "            for j in range(i + 1, n + 1):\n",
    "                DP_C[i, j] = P[j - 1] * DP_C[i - 1, j - 1] + (1.0 - P[j - 1]) * DP_C[i, j - 1]\n",
    "\n",
    "        DP_S = np.zeros((2 * n + 1,))\n",
    "        DP_SNone = np.zeros((2 * n + 1,))\n",
    "        for i in range(1, 2 * n + 1):\n",
    "            DP_S[i] = 1. / (1. * i)\n",
    "            DP_SNone[i] = 1. / (1. * i + 1)\n",
    "        for k in range(n + 1)[::-1]:\n",
    "            f1 = 0\n",
    "            f1None = 0\n",
    "            for k1 in range(n + 1):\n",
    "                f1 += 2 * k1 * DP_C[k1][k] * DP_S[k + k1]\n",
    "                f1None += 2 * k1 * DP_C[k1][k] * DP_SNone[k + k1]\n",
    "            for i in range(1, 2 * k - 1):\n",
    "                DP_S[i] = (1 - P[k - 1]) * DP_S[i] + P[k - 1] * DP_S[i + 1]\n",
    "                DP_SNone[i] = (1 - P[k - 1]) * DP_SNone[i] + P[k - 1] * DP_SNone[i + 1]\n",
    "            expectations.append([f1None + 2 * pNone / (2 + k), f1])\n",
    "\n",
    "        return np.array(expectations[::-1]).T\n",
    "\n",
    "    @staticmethod\n",
    "    def maximize_expectation(P, pNone=None):\n",
    "        expectations = F1Optimizer.get_expectations(P, pNone)\n",
    "\n",
    "        ix_max = np.unravel_index(expectations.argmax(), expectations.shape)\n",
    "        max_f1 = expectations[ix_max]\n",
    "\n",
    "        predNone = True if ix_max[0] == 0 else False\n",
    "        best_k = ix_max[1]\n",
    "\n",
    "        return best_k, predNone, max_f1\n",
    "\n",
    "    @staticmethod\n",
    "    def _F1(tp, fp, fn):\n",
    "        return 2 * tp / (2 * tp + fp + fn)\n",
    "\n",
    "    @staticmethod\n",
    "    def _Fbeta(tp, fp, fn, beta=1.0):\n",
    "        beta_squared = beta ** 2\n",
    "        return (1.0 + beta_squared) * tp / ((1.0 + beta_squared) * tp + fp + beta_squared * fn)\n"
   ]
  },
  {
   "cell_type": "code",
   "execution_count": 4,
   "metadata": {
    "collapsed": false
   },
   "outputs": [],
   "source": [
    "def predict(bst):\n",
    "    d_test = xgboost.DMatrix(\n",
    "        test.drop(['eval_set', 'order_id', 'reordered', 'product_id'], axis=1))\n",
    "    return bst.predict(d_test)\n",
    "\n",
    "def ensemble(preds):\n",
    "    # Average ensemble\n",
    "    r = None\n",
    "    for p in preds:\n",
    "        if r is None:\n",
    "            r = p\n",
    "        else:\n",
    "            r += p\n",
    "    return r / len(preds)\n",
    "\n",
    "def ensemble_predict(bsts):\n",
    "    preds = []\n",
    "    for bst in bsts:\n",
    "        preds.append(predict(bst))\n",
    "    return ensemble(preds)\n",
    "\n",
    "def thresholding(pred):\n",
    "    return (pred > 0.21).astype(int)"
   ]
  },
  {
   "cell_type": "code",
   "execution_count": 5,
   "metadata": {
    "collapsed": true
   },
   "outputs": [],
   "source": [
    "name = 'v3-test'\n",
    "down_sample = 10\n",
    "num_searches = 1"
   ]
  },
  {
   "cell_type": "code",
   "execution_count": 6,
   "metadata": {
    "collapsed": true
   },
   "outputs": [],
   "source": [
    "bsts = []\n",
    "for i in range(num_searches):\n",
    "    bsts.append(xgboost.Booster(model_file=os.path.join(root, 'train-{}-n{}.bst'.format(name, i))))"
   ]
  },
  {
   "cell_type": "code",
   "execution_count": 7,
   "metadata": {
    "collapsed": true
   },
   "outputs": [],
   "source": [
    "test = Data.test(down_sample=down_sample)"
   ]
  },
  {
   "cell_type": "markdown",
   "metadata": {},
   "source": [
    "# Prediction with F1 optimization"
   ]
  },
  {
   "cell_type": "code",
   "execution_count": 8,
   "metadata": {
    "collapsed": true
   },
   "outputs": [],
   "source": [
    "test['reordered'] = ensemble_predict([bst for bst in bsts])"
   ]
  },
  {
   "cell_type": "code",
   "execution_count": 16,
   "metadata": {
    "collapsed": false
   },
   "outputs": [
    {
     "data": {
      "text/html": [
       "<div>\n",
       "<table border=\"1\" class=\"dataframe\">\n",
       "  <thead>\n",
       "    <tr style=\"text-align: right;\">\n",
       "      <th></th>\n",
       "      <th>product_id</th>\n",
       "      <th>order_id</th>\n",
       "      <th>reordered</th>\n",
       "    </tr>\n",
       "  </thead>\n",
       "  <tbody>\n",
       "    <tr>\n",
       "      <th>20</th>\n",
       "      <td>260</td>\n",
       "      <td>1017560</td>\n",
       "      <td>0.035462</td>\n",
       "    </tr>\n",
       "    <tr>\n",
       "      <th>21</th>\n",
       "      <td>21137</td>\n",
       "      <td>1017560</td>\n",
       "      <td>0.031505</td>\n",
       "    </tr>\n",
       "    <tr>\n",
       "      <th>22</th>\n",
       "      <td>47766</td>\n",
       "      <td>1017560</td>\n",
       "      <td>0.044791</td>\n",
       "    </tr>\n",
       "    <tr>\n",
       "      <th>117</th>\n",
       "      <td>260</td>\n",
       "      <td>2939110</td>\n",
       "      <td>0.020977</td>\n",
       "    </tr>\n",
       "    <tr>\n",
       "      <th>118</th>\n",
       "      <td>11782</td>\n",
       "      <td>2939110</td>\n",
       "      <td>0.025118</td>\n",
       "    </tr>\n",
       "  </tbody>\n",
       "</table>\n",
       "</div>"
      ],
      "text/plain": [
       "     product_id  order_id  reordered\n",
       "20          260   1017560   0.035462\n",
       "21        21137   1017560   0.031505\n",
       "22        47766   1017560   0.044791\n",
       "117         260   2939110   0.020977\n",
       "118       11782   2939110   0.025118"
      ]
     },
     "execution_count": 16,
     "metadata": {},
     "output_type": "execute_result"
    }
   ],
   "source": [
    "test_result = test[['product_id', 'order_id', 'reordered']]\n",
    "test_result.head()"
   ]
  },
  {
   "cell_type": "code",
   "execution_count": 77,
   "metadata": {
    "collapsed": false
   },
   "outputs": [
    {
     "data": {
      "text/plain": [
       "0.19991157948970795"
      ]
     },
     "execution_count": 77,
     "metadata": {},
     "output_type": "execute_result"
    }
   ],
   "source": [
    "test_none = pd.read_csv(os.path.join(root, 'none_prediction.csv'))\n",
    "test_none.loc[test_none.order_id == 3302990, 'is_none'].values[0]"
   ]
  },
  {
   "cell_type": "code",
   "execution_count": 91,
   "metadata": {
    "collapsed": false
   },
   "outputs": [],
   "source": [
    "test_order_id = test_result.order_id.unique()\n",
    "submission = []\n",
    "\n",
    "def predict_wf1(w_none = False):\n",
    "    start_time = time.time()\n",
    "    for i in range(len(test_order_id)):\n",
    "#     for i in range(30):\n",
    "        df = test_result[test_result.order_id == test_order_id[i]]\n",
    "        df.sort_values(by = 'reordered', axis = 0, ascending = False, inplace = True)\n",
    "        if w_none:\n",
    "            p_none = test_none.loc[test_none.order_id == test_order_id[i], 'is_none'].values[0]\n",
    "            best_k = F1Optimizer.maximize_expectation(df.reordered, p_none)[0]\n",
    "        else:\n",
    "            best_k = F1Optimizer.maximize_expectation(df.reordered)[0]\n",
    "            \n",
    "        if best_k == 0:\n",
    "            submission.append({'order_id': test_order_id[i], 'products': 'None'})\n",
    "        else:\n",
    "            df.product_id = df.product_id.astype(str)\n",
    "            reordered_product = ' '.join(df.product_id[:best_k])\n",
    "            submission.append({'order_id': test_order_id[i], 'products': reordered_product})\n",
    "        if i % 10 == 0:\n",
    "            print('{} predictions have been saved'.format(i))\n",
    "            remaining_time = (time.time()-start_time) / (i+1) * (len(test_order_id) - i)\n",
    "            print('{:.2f}s remaining'.format(remaining_time))\n",
    "    "
   ]
  },
  {
   "cell_type": "code",
   "execution_count": 92,
   "metadata": {
    "collapsed": false
   },
   "outputs": [
    {
     "name": "stderr",
     "output_type": "stream",
     "text": [
      "/Users/jiayou/anaconda/lib/python3.6/site-packages/ipykernel/__main__.py:9: SettingWithCopyWarning: \n",
      "A value is trying to be set on a copy of a slice from a DataFrame\n",
      "\n",
      "See the caveats in the documentation: http://pandas.pydata.org/pandas-docs/stable/indexing.html#indexing-view-versus-copy\n",
      "/Users/jiayou/anaconda/lib/python3.6/site-packages/pandas/core/generic.py:2773: SettingWithCopyWarning: \n",
      "A value is trying to be set on a copy of a slice from a DataFrame.\n",
      "Try using .loc[row_indexer,col_indexer] = value instead\n",
      "\n",
      "See the caveats in the documentation: http://pandas.pydata.org/pandas-docs/stable/indexing.html#indexing-view-versus-copy\n",
      "  self[name] = value\n"
     ]
    },
    {
     "name": "stdout",
     "output_type": "stream",
     "text": [
      "0 predictions have been saved\n",
      "172.55s remaining\n",
      "10 predictions have been saved\n",
      "769.35s remaining\n",
      "20 predictions have been saved\n",
      "623.98s remaining\n"
     ]
    }
   ],
   "source": [
    "predict_wf1()\n",
    "submission_df = pd.DataFrame(data = submission)\n",
    "submission_df.sort_values(by = 'order_id', axis = 0, ascending = True, inplace = True)"
   ]
  },
  {
   "cell_type": "code",
   "execution_count": 87,
   "metadata": {
    "collapsed": false
   },
   "outputs": [
    {
     "data": {
      "text/plain": [
       "[{'order_id': 1017560,\n",
       "  'product_id': '30489 43654 44596 29370 18531 42710 39180 46886 48726 37754'},\n",
       " {'order_id': 2939110,\n",
       "  'product_id': '11520 42265 13176 19816 27845 5120 41213 26604 21405'},\n",
       " {'order_id': 1461650,\n",
       "  'product_id': '24852 4210 44042 9076 26348 43263 49683 41844 7058 48205 43967 33651 40706 49379 3732 43530 15650 26152 35511 877 48596'},\n",
       " {'order_id': 235350,\n",
       "  'product_id': '21137 24852 19171 39275 43988 39928 47144 49236 3896 11896 10132'},\n",
       " {'order_id': 3287420,\n",
       "  'product_id': '13176 19057 30776 33731 12935 27241 27966 41220 16759 31717 38647 19862 12395 21607 44359 14084 3952 12456 3896 24964 22935 21137 260'},\n",
       " {'order_id': 1021030,\n",
       "  'product_id': '21903 27845 47029 32655 3405 13249 3952'},\n",
       " {'order_id': 592160,\n",
       "  'product_id': '22993 25718 5876 46802 32537 28985 24964 21903 7781 46667 29217 1158 30776 27521 22963 17794 260 8230 44698 19125 11428 27104'},\n",
       " {'order_id': 2251990,\n",
       "  'product_id': '47209 42768 12935 5876 30489 26209 27966 18594 43504 17553 21137 28204 37947 42828 8518 12745 3561 44632 31717 10768 35221 26604 35121 12456 34969 42445 22935 10749 24964 13093 31886'},\n",
       " {'order_id': 1418610,\n",
       "  'product_id': '14778 10528 1616 25197 25670 39037 9076 20114 46654 23005 47766 23734 12980 24097 25824 43263 4137 49131 8424 13176'},\n",
       " {'order_id': 833650,\n",
       "  'product_id': '10031 13573 23909 34234 28204 43112 22959 36897 19691 15236 260 16965 27485 47144 9175 19511 3318 27801 19246 36316 35825'},\n",
       " {'order_id': 2425590,\n",
       "  'product_id': '47766 11629 49683 29487 36510 13031 47144 27355 21376 27104 11076 4942 46906 35163 10455 2067 248 40706 2295 19448 4920 16521 42265'},\n",
       " {'order_id': 766860,\n",
       "  'product_id': '13176 34448 41149 1463 39477 44632 41665 32566 27104 3081 3888'},\n",
       " {'order_id': 2992520,\n",
       "  'product_id': '21137 39275 35108 43961 28985 8518 38988 40706 41220 260 21405'},\n",
       " {'order_id': 387510,\n",
       "  'product_id': '21137 24852 27845 18465 13176 43961 24838 38689 47144 33754 21903'},\n",
       " {'order_id': 216680,\n",
       "  'product_id': '16797 14702 27966 13176 39877 14378 26604 45066 39180 260 41787 12576 36036 35951 49683 39871 21390 3988 29944 25506 11352 25513 19611 13166 34980 27104 11712 30117 35108 42803 8940 45064 25340 15290 13870 39947 41290 23375 37158 16521 33705 6532 11009'},\n",
       " {'order_id': 37890,\n",
       "  'product_id': '24852 23102 34024 45 38849 16797 4920 6244 47788 5603 23801 31003 47626 42450 27629 10106 24561 32650 17616 45066 22825 1197 8174 23047 36431 45116 26790 46703 10132 28993 27344 10255 45007 42585 25640'},\n",
       " {'order_id': 1226860, 'product_id': '432 21709 24852'},\n",
       " {'order_id': 1831300,\n",
       "  'product_id': '13176 47766 39475 37687 44359 17872 38400 21903 30391 45066'},\n",
       " {'order_id': 1540620,\n",
       "  'product_id': '28371 23909 29176 34862 48695 19624 5077 30597 29095 11869 10912 42450 32888'},\n",
       " {'order_id': 3059430,\n",
       "  'product_id': '38689 21903 28985 45007 23634 30776 32864 28914 8277'},\n",
       " {'order_id': 896380,\n",
       "  'product_id': '47626 29911 9068 47209 23341 47570 43295 21903 5782 34940 29778'},\n",
       " {'order_id': 1077750, 'product_id': '35921 13176 38827 26096'},\n",
       " {'order_id': 2032720,\n",
       "  'product_id': '47209 13176 17725 30169 24964 9018 46616 39928 34044 30391 5876 29117 19678 48034 27966 45007 260 47734 11182 21137 1463 23644 22935 39275 23643 14011 43234 33587'},\n",
       " {'order_id': 2409730,\n",
       "  'product_id': '25965 19057 3952 8022 13176 39314 17600 16953 40352 17284 40826 7461 49247 4065 21137 15406 19250 17794'},\n",
       " {'order_id': 950800,\n",
       "  'product_id': '27750 13176 27344 41315 25824 1188 37029 21506 25948 30233 13166 30391 42796 5337 7948 19816 24207 16759 34213 12341 22035 37646'},\n",
       " {'order_id': 1078140,\n",
       "  'product_id': '47766 24852 35547 27845 21903 15290 22825 7054 28985 22935 35921 8518 24964 21077 3481 25194 16797 20114 24184 28373 31717 34126 260 30720 39928 31343'},\n",
       " {'order_id': 2415280,\n",
       "  'product_id': '24852 37646 47209 25472 6348 17600 30117 22825 17284 46692 42265 12357 26209 7554 42828 32734 48628 27845 7835 38250 23044 28849 11115 47025 260 9595 25753 13870 24184 25513 21938 10527 14467 6046'},\n",
       " {'order_id': 2635000,\n",
       "  'product_id': '11520 30391 48632 33352 21367 2081 18825 47209 47626 37067 1406 34126 18382 39928'},\n",
       " {'order_id': 1421200, 'product_id': '24852 47626'},\n",
       " {'order_id': 162620,\n",
       "  'product_id': '30571 21137 27344 24852 32864 48415 45007 19057'}]"
      ]
     },
     "execution_count": 87,
     "metadata": {},
     "output_type": "execute_result"
    }
   ],
   "source": [
    "submission_df.head()"
   ]
  },
  {
   "cell_type": "code",
   "execution_count": 52,
   "metadata": {
    "collapsed": false
   },
   "outputs": [],
   "source": [
    "submission_df.to_csv(\"submission-{}.csv\".format(name), index=False)"
   ]
  },
  {
   "cell_type": "code",
   "execution_count": null,
   "metadata": {
    "collapsed": true
   },
   "outputs": [],
   "source": []
  },
  {
   "cell_type": "code",
   "execution_count": 8,
   "metadata": {
    "collapsed": true
   },
   "outputs": [],
   "source": [
    "# Prediction\n",
    "test['reordered'] = thresholding(ensemble_predict([bst for bst in bsts]))"
   ]
  },
  {
   "cell_type": "code",
   "execution_count": 9,
   "metadata": {
    "collapsed": false
   },
   "outputs": [],
   "source": [
    "# Submission file\n",
    "test['product_id'] = test.product_id.astype(str)\n",
    "submit = test[test.reordered == 1].groupby('order_id')['product_id'].agg([lambda x: ' '.join(set(x))]).reset_index()\n",
    "sample_submission = pd.read_csv(os.path.join(root, 'sample_submission.csv'))\n",
    "submit.columns = sample_submission.columns.tolist()\n",
    "submit_final = sample_submission[['order_id']].merge(submit, how='left').fillna('None')\n",
    "submit_final.to_csv(\"submission-{}.csv\".format(name), index=False)"
   ]
  },
  {
   "cell_type": "code",
   "execution_count": 10,
   "metadata": {
    "collapsed": false
   },
   "outputs": [
    {
     "name": "stdout",
     "output_type": "stream",
     "text": [
      "75000 pred orders; 743 of them non-empty\n",
      "Empty order ratio is 99.01%\n"
     ]
    }
   ],
   "source": [
    "# Stats\n",
    "print('{} pred orders; {} of them non-empty'.format(submit_final.shape[0], submit.shape[0]))\n",
    "empty_order_ratio = (submit_final.shape[0] - submit.shape[0]) * 100. / submit_final.shape[0]\n",
    "print('Empty order ratio is {:.2f}%'.format(empty_order_ratio))"
   ]
  },
  {
   "cell_type": "code",
   "execution_count": null,
   "metadata": {
    "collapsed": false
   },
   "outputs": [],
   "source": []
  },
  {
   "cell_type": "code",
   "execution_count": null,
   "metadata": {
    "collapsed": false
   },
   "outputs": [],
   "source": []
  },
  {
   "cell_type": "code",
   "execution_count": null,
   "metadata": {
    "collapsed": false
   },
   "outputs": [],
   "source": []
  },
  {
   "cell_type": "code",
   "execution_count": null,
   "metadata": {
    "collapsed": true
   },
   "outputs": [],
   "source": []
  }
 ],
 "metadata": {
  "kernelspec": {
   "display_name": "Python 3",
   "language": "python",
   "name": "python3"
  },
  "language_info": {
   "codemirror_mode": {
    "name": "ipython",
    "version": 3
   },
   "file_extension": ".py",
   "mimetype": "text/x-python",
   "name": "python",
   "nbconvert_exporter": "python",
   "pygments_lexer": "ipython3",
   "version": "3.6.0"
  }
 },
 "nbformat": 4,
 "nbformat_minor": 2
}
