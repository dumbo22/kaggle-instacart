{
 "cells": [
  {
   "cell_type": "markdown",
   "metadata": {},
   "source": [
    "![train](http://cliparting.com/wp-content/uploads/2016/06/Train-clipart-for-kids-free-free-clipart-images.gif)"
   ]
  },
  {
   "cell_type": "code",
   "execution_count": 12,
   "metadata": {
    "collapsed": false
   },
   "outputs": [],
   "source": [
    "import numpy as np\n",
    "np.random.seed(1019)\n",
    "\n",
    "import pandas as pd\n",
    "import matplotlib.pyplot as plt\n",
    "import seaborn as sns\n",
    "\n",
    "%matplotlib inline\n",
    "\n",
    "import xgboost\n",
    "\n",
    "import sklearn\n",
    "from sklearn.model_selection import train_test_split \n",
    "\n",
    "import sys, os, gc, types\n",
    "import time\n",
    "from subprocess import check_output"
   ]
  },
  {
   "cell_type": "code",
   "execution_count": 13,
   "metadata": {
    "collapsed": false
   },
   "outputs": [],
   "source": [
    "sys.path.append('./utils')\n",
    "\n",
    "from training import cv, train\n",
    "from plotting import plot_importance\n",
    "from data import Data"
   ]
  },
  {
   "cell_type": "code",
   "execution_count": 14,
   "metadata": {
    "collapsed": false
   },
   "outputs": [],
   "source": [
    "root_paths = [\n",
    "    \"/data/kaggle-instacart\",\n",
    "    \"/Users/jiayou/Dropbox/珺珺的程序/Kaggle/Instacart\",\n",
    "    \"/Users/jiayou/Dropbox/Documents/珺珺的程序/Kaggle/Instacart\"\n",
    "]\n",
    "root = None\n",
    "for p in root_paths:\n",
    "    if os.path.exists(p):\n",
    "        root = p\n",
    "        break"
   ]
  },
  {
   "cell_type": "code",
   "execution_count": null,
   "metadata": {
    "collapsed": false
   },
   "outputs": [],
   "source": []
  },
  {
   "cell_type": "markdown",
   "metadata": {},
   "source": [
    "# Hyper-Parameter Search"
   ]
  },
  {
   "cell_type": "code",
   "execution_count": 34,
   "metadata": {
    "collapsed": true
   },
   "outputs": [],
   "source": [
    "name = 'v7-r3'\n",
    "down_sample = None\n",
    "test_size = 0.2\n",
    "num_searches = 1\n",
    "boosting_rounds = 10000\n",
    "stopping_rounds = 10\n",
    "\n",
    "xgb_params_search = {\n",
    "#     \"learning_rate\"    : lambda: int(10**np.random.uniform(-2, -1) * 1e4) / 1e4,\n",
    "    \"max_depth\"        : lambda: np.random.randint(12, 13),\n",
    "#     \"subsample\"        : [0.5],\n",
    "    \"tree_method\"      : [\"hist\"]\n",
    "}"
   ]
  },
  {
   "cell_type": "markdown",
   "metadata": {},
   "source": [
    "-----------"
   ]
  },
  {
   "cell_type": "code",
   "execution_count": null,
   "metadata": {
    "collapsed": true
   },
   "outputs": [],
   "source": [
    "X_train, X_val, y_train, y_val = Data.train(down_sample=down_sample, test_size=test_size, aug=True, orig_val=True)"
   ]
  },
  {
   "cell_type": "code",
   "execution_count": 16,
   "metadata": {
    "collapsed": false
   },
   "outputs": [
    {
     "name": "stdout",
     "output_type": "stream",
     "text": [
      "69524 35\n",
      "17382 35\n"
     ]
    }
   ],
   "source": [
    "drop_list = [\n",
    "#     'up_average_cart_position',\n",
    "#     'prod_total_cnt',\n",
    "#     'prod_reorder_total_cnt',\n",
    "#     'prod_user_cnt',\n",
    "#     'prod_return_user_cnt',\n",
    "#     'user_total_orders',\n",
    "#     'user_sum_days_since_prior_order',\n",
    "#     'user_mean_days_since_prior_order',\n",
    "#     'user_total_products',\n",
    "#     'user_distinct_products',\n",
    "#     'user_average_basket',\n",
    "#     'days_since_prior_order',\n",
    "#     'cat_product_reorder_ratio',\n",
    "#     'prod_market_share_hod',\n",
    "#     'prod_market_share_dow',\n",
    "\n",
    "\n",
    "#     'up_order_since_last_order',\n",
    "#     'up_order_rate',\n",
    "#     'up_order_rate_since_first_order',\n",
    "#     'up_order_count',\n",
    "#     'up_days_since_last_order',\n",
    "#     'prod_user_reorder_ratio',\n",
    "#     'prod_product_reorder_ratio',\n",
    "#     'up_first_order_number',\n",
    "#     'up_last_order_number',\n",
    "#     'user_reorder_ratio',\n",
    "    \n",
    "\n",
    "    'cat_total_bought_cnt',\n",
    "    'cat_reorder_total_cnt',\n",
    "    'cat_user_cnt',\n",
    "    'cat_return_user_cnt',\n",
    "    'cat_user_reorder_ratio',\n",
    "    'cat_num_of_prods_a_user_buys_in_this_cat_mean',\n",
    "    'cat_num_of_prods_a_user_buys_in_this_cat_std',\n",
    "    'cat_num_of_prods_a_user_buys_in_this_cat_max',\n",
    "    \n",
    "    'rand_uniform',\n",
    "    'rand_normal',\n",
    "    'aug'\n",
    "]\n",
    "\n",
    "dtrain = xgboost.DMatrix(X_train.drop(drop_list, axis=1), y_train)\n",
    "dval = xgboost.DMatrix(X_val.drop(drop_list, axis=1), y_val)\n",
    "\n",
    "gc.collect()\n",
    "print(dtrain.num_row(), dtrain.num_col())\n",
    "print(dval.num_row(), dval.num_col())"
   ]
  },
  {
   "cell_type": "code",
   "execution_count": 17,
   "metadata": {
    "collapsed": false
   },
   "outputs": [],
   "source": [
    "def get_params(default, search):\n",
    "    np.random.seed(int(time.time()))\n",
    "    p = dict(default)\n",
    "    for k, gen in search.items():\n",
    "        v = None\n",
    "        if type(gen) == list:\n",
    "            v = gen[np.random.randint(0, len(gen))]\n",
    "        elif type(gen) == types.LambdaType:\n",
    "            v = gen()\n",
    "        p[k] = v\n",
    "    return p\n",
    "\n",
    "def print_params(params, keys):\n",
    "    print()\n",
    "    print([\"{} = {}\".format(k, params[k]) for k in keys])\n",
    "    print()"
   ]
  },
  {
   "cell_type": "code",
   "execution_count": 35,
   "metadata": {
    "collapsed": false
   },
   "outputs": [],
   "source": [
    "xgb_params_default = {\n",
    "    \"booster\"          : \"gbtree\",\n",
    "    \"tree_method\"      : \"auto\",\n",
    "    \"learning_rate\"    : 0.1,\n",
    "    \"max_depth\"        : 6,\n",
    "    \"min_child_weight\" : 100, # hessian weight\n",
    "    \"subsample\"        : 0.7,\n",
    "    \"colsample_bytree\" : 0.9,\n",
    "        \n",
    "    \"objective\"        : \"reg:logistic\",\n",
    "    \"eval_metric\"      : \"logloss\"\n",
    "    \n",
    "#     \"min_split_loss\"   : 10 # ?\n",
    "#     \"reg_alpha\"        : 2e-05,\n",
    "#     \"reg_lambda\"       : 10,\n",
    "#     \"grow_policy\"      : [\"lossguide\"]\n",
    "}"
   ]
  },
  {
   "cell_type": "code",
   "execution_count": null,
   "metadata": {
    "collapsed": true
   },
   "outputs": [],
   "source": [
    "from xgboost import rabit\n",
    "from xgboost.core import EarlyStopException\n",
    "\n",
    "\n",
    "def _fmt_metric(value, show_stdv=True):\n",
    "    \"\"\"format metric string\"\"\"\n",
    "    if len(value) == 2:\n",
    "        return '%s:%g' % (value[0], value[1])\n",
    "    elif len(value) == 3:\n",
    "        if show_stdv:\n",
    "            return '%s:%g+%g' % (value[0], value[1], value[2])\n",
    "        else:\n",
    "            return '%s:%g' % (value[0], value[1])\n",
    "    else:\n",
    "        raise ValueError(\"wrong metric value\")\n",
    "\n",
    "def adaptive_lr_schedule(stopping_rounds, maximize=False, verbose=True):\n",
    "    state = {}\n",
    "    lrs = [0.1]\n",
    "\n",
    "    def init(env):\n",
    "        \"\"\"internal function\"\"\"\n",
    "        bst = env.model\n",
    "\n",
    "        if len(env.evaluation_result_list) == 0:\n",
    "            raise ValueError('For early stopping you need at least one set in evals.')\n",
    "        if len(env.evaluation_result_list) > 1 and verbose:\n",
    "            msg = (\"Multiple eval metrics have been passed: \"\n",
    "                   \"'{0}' will be used for early stopping.\\n\\n\")\n",
    "            rabit.tracker_print(msg.format(env.evaluation_result_list[-1][0]))\n",
    "        maximize_metrics = ('auc', 'map', 'ndcg')\n",
    "        maximize_at_n_metrics = ('auc@', 'map@', 'ndcg@')\n",
    "        maximize_score = maximize\n",
    "        metric = env.evaluation_result_list[-1][0]\n",
    "\n",
    "        if any(env.evaluation_result_list[-1][0].split('-')[-1].startswith(x)\n",
    "               for x in maximize_at_n_metrics):\n",
    "            maximize_score = True\n",
    "\n",
    "        if any(env.evaluation_result_list[-1][0].split('-')[-1].split(\":\")[0] == x\n",
    "               for x in maximize_metrics):\n",
    "            maximize_score = True\n",
    "\n",
    "        if verbose and env.rank == 0:\n",
    "            msg = \"Will train until {} hasn't improved in {} rounds.\\n\"\n",
    "            rabit.tracker_print(msg.format(metric, stopping_rounds))\n",
    "\n",
    "        state['maximize_score'] = maximize_score\n",
    "        state['best_iteration'] = 0\n",
    "        if maximize_score:\n",
    "            state['best_score'] = float('-inf')\n",
    "        else:\n",
    "            state['best_score'] = float('inf')\n",
    "        state['lr_update'] = 0\n",
    "\n",
    "        if bst is not None:\n",
    "            if bst.attr('best_score') is not None:\n",
    "                state['best_score'] = float(bst.attr('best_score'))\n",
    "                state['best_iteration'] = int(bst.attr('best_iteration'))\n",
    "                state['best_msg'] = bst.attr('best_msg')\n",
    "            else:\n",
    "                bst.set_attr(best_iteration=str(state['best_iteration']))\n",
    "                bst.set_attr(best_score=str(state['best_score']))\n",
    "        else:\n",
    "            assert env.cvfolds is not None\n",
    "\n",
    "    def callback(env):\n",
    "        \"\"\"internal function\"\"\"\n",
    "        score = env.evaluation_result_list[-1][1]\n",
    "        if len(state) == 0:\n",
    "            init(env)\n",
    "        best_score = state['best_score']\n",
    "        best_iteration = state['best_iteration']\n",
    "        maximize_score = state['maximize_score']\n",
    "        lr_update = state['lr_update']\n",
    "        if (maximize_score and score > best_score) or \\\n",
    "                (not maximize_score and score < best_score):\n",
    "            msg = '[%d]\\t%s' % (\n",
    "                env.iteration,\n",
    "                '\\t'.join([_fmt_metric(x) for x in env.evaluation_result_list]))\n",
    "            state['best_msg'] = msg\n",
    "            state['best_score'] = score\n",
    "            state['best_iteration'] = env.iteration\n",
    "            # save the property to attributes, so they will occur in checkpoint.\n",
    "            if env.model is not None:\n",
    "                env.model.set_attr(best_score=str(state['best_score']),\n",
    "                                   best_iteration=str(state['best_iteration']),\n",
    "                                   best_msg=state['best_msg'])\n",
    "        elif env.iteration - best_iteration >= stopping_rounds and env.iteration - lr_update >= stopping_rounds:\n",
    "            lr = lrs[-1]\n",
    "            if lr >= 0.02:\n",
    "                lr -= 0.01\n",
    "                env.model.set_param('learning_rate', lr)\n",
    "                lrs.append(lr)\n",
    "                state['lr_update'] = env.iteration\n",
    "                msg = \"LR set to {}\\n\".format(lr)\n",
    "                rabit.tracker_print(msg)\n",
    "            else:\n",
    "                best_msg = state['best_msg']\n",
    "                if verbose and env.rank == 0:\n",
    "                    msg = \"Stopping. Best iteration:\\n{}\\n\\n\"\n",
    "                    rabit.tracker_print(msg.format(best_msg))\n",
    "                raise EarlyStopException(best_iteration)\n",
    "    return callback\n",
    "\n",
    "def lr_schedule(env):\n",
    "    bst, r = env.model, env.iteration\n",
    "    if r == 300:\n",
    "        bst.set_param('learning_rate', 0.05)\n",
    "    elif r == 500:\n",
    "        bst.set_param('learning_rate', 0.01)"
   ]
  },
  {
   "cell_type": "code",
   "execution_count": 47,
   "metadata": {
    "collapsed": false,
    "scrolled": true
   },
   "outputs": [],
   "source": [
    "results = []\n",
    "for i in range(num_searches):\n",
    "    xgb_params = get_params(default=xgb_params_default, search=xgb_params_search)\n",
    "    print_params(xgb_params, keys=xgb_params_search.keys())\n",
    "    \n",
    "    h = {}\n",
    "    bst = train(\n",
    "        xgb_params, dtrain, num_boost_round=boosting_rounds,\n",
    "        evals=[(dtrain, 'train'), (dval, 'val')],\n",
    "        callbacks=[\n",
    "            xgboost.callback.record_evaluation(h),\n",
    "#             xgboost.callback.early_stop(stopping_rounds=stopping_rounds),\n",
    "            adaptive_lr_schedule(stopping_rounds=stopping_rounds)\n",
    "        ])\n",
    "    bst.save_model(os.path.join(root, 'train-{}-n{}.bst'.format(name, i)))\n",
    "    results.append([xgb_params, h])\n",
    "    \n",
    "    _, axes = plt.subplots(nrows=1, ncols=5, figsize=(25,18))\n",
    "    measures = ['weight', 'gain', 'cover']\n",
    "    for i in range(3):\n",
    "        plot_importance(bst, height=1, ax=axes[2*i], importance_type=measures[i], title=measures[i])\n",
    "    plt.show()"
   ]
  },
  {
   "cell_type": "markdown",
   "metadata": {},
   "source": [
    "----"
   ]
  },
  {
   "cell_type": "code",
   "execution_count": 45,
   "metadata": {
    "collapsed": false
   },
   "outputs": [],
   "source": [
    "# Save search results\n",
    "params = []\n",
    "histories = []\n",
    "for i in range(num_searches):\n",
    "    p = dict(results[i][0])\n",
    "    h = pd.DataFrame({\n",
    "        'train-logloss': results[i][1]['train']['logloss'],\n",
    "        'val-logloss': results[i][1]['val']['logloss']    \n",
    "    })\n",
    "    \n",
    "    p['search_id'] = i\n",
    "    p['boost_rounds'] = h.shape[0]\n",
    "    p['last_val-logloss'] = h['val-logloss'][len(h) - 1]\n",
    "    p['last_train-logloss'] = h['train-logloss'][len(h) - 1]\n",
    "    params.append(p)\n",
    "    \n",
    "    h['search_id'] = i\n",
    "    h['boost_round'] = range(h.shape[0])\n",
    "    histories.append(h)\n",
    "    \n",
    "p = pd.DataFrame(params)\n",
    "p.to_csv(os.path.join(root, 'train-{}-params.csv'.format(name)), index=False)\n",
    "\n",
    "h = pd.concat(histories)\n",
    "h.to_csv(os.path.join(root, 'train-{}-histories.csv'.format(name)), index=False)"
   ]
  },
  {
   "cell_type": "code",
   "execution_count": null,
   "metadata": {
    "collapsed": false
   },
   "outputs": [],
   "source": []
  },
  {
   "cell_type": "code",
   "execution_count": 40,
   "metadata": {
    "collapsed": false
   },
   "outputs": [
    {
     "data": {
      "image/png": "[encoded data removed]",
      "text/plain": [
       "<matplotlib.figure.Figure at 0x1132f6390>"
      ]
     },
     "metadata": {},
     "output_type": "display_data"
    }
   ],
   "source": [
    "plt.figure(figsize=(18, 12))\n",
    "plt.ylim((0.23, 0.25))\n",
    "for i in range(num_searches):\n",
    "    plt.plot(h['boost_round'][h.search_id == i], h['val-logloss'][h.search_id == i])\n",
    "    plt.plot(h['boost_round'][h.search_id == i], h['train-logloss'][h.search_id == i], '--')\n",
    "plt.show()"
   ]
  },
  {
   "cell_type": "code",
   "execution_count": 46,
   "metadata": {
    "collapsed": false
   },
   "outputs": [
    {
     "data": {
      "text/html": [
       "<div>\n",
       "<table border=\"1\" class=\"dataframe\">\n",
       "  <thead>\n",
       "    <tr style=\"text-align: right;\">\n",
       "      <th></th>\n",
       "      <th>boost_rounds</th>\n",
       "      <th>booster</th>\n",
       "      <th>colsample_bytree</th>\n",
       "      <th>eval_metric</th>\n",
       "      <th>last_val-logloss</th>\n",
       "      <th>learning_rate</th>\n",
       "      <th>max_depth</th>\n",
       "      <th>min_child_weight</th>\n",
       "      <th>objective</th>\n",
       "      <th>search_id</th>\n",
       "      <th>subsample</th>\n",
       "      <th>tree_method</th>\n",
       "    </tr>\n",
       "  </thead>\n",
       "  <tbody>\n",
       "    <tr>\n",
       "      <th>0</th>\n",
       "      <td>163</td>\n",
       "      <td>gbtree</td>\n",
       "      <td>0.9</td>\n",
       "      <td>logloss</td>\n",
       "      <td>0.238877</td>\n",
       "      <td>0.1</td>\n",
       "      <td>8</td>\n",
       "      <td>100</td>\n",
       "      <td>reg:logistic</td>\n",
       "      <td>0</td>\n",
       "      <td>0.7</td>\n",
       "      <td>hist</td>\n",
       "    </tr>\n",
       "    <tr>\n",
       "      <th>7</th>\n",
       "      <td>163</td>\n",
       "      <td>gbtree</td>\n",
       "      <td>0.9</td>\n",
       "      <td>logloss</td>\n",
       "      <td>0.238877</td>\n",
       "      <td>0.1</td>\n",
       "      <td>8</td>\n",
       "      <td>100</td>\n",
       "      <td>reg:logistic</td>\n",
       "      <td>7</td>\n",
       "      <td>0.7</td>\n",
       "      <td>hist</td>\n",
       "    </tr>\n",
       "    <tr>\n",
       "      <th>8</th>\n",
       "      <td>163</td>\n",
       "      <td>gbtree</td>\n",
       "      <td>0.9</td>\n",
       "      <td>logloss</td>\n",
       "      <td>0.238877</td>\n",
       "      <td>0.1</td>\n",
       "      <td>8</td>\n",
       "      <td>100</td>\n",
       "      <td>reg:logistic</td>\n",
       "      <td>8</td>\n",
       "      <td>0.7</td>\n",
       "      <td>hist</td>\n",
       "    </tr>\n",
       "    <tr>\n",
       "      <th>5</th>\n",
       "      <td>113</td>\n",
       "      <td>gbtree</td>\n",
       "      <td>0.9</td>\n",
       "      <td>logloss</td>\n",
       "      <td>0.239910</td>\n",
       "      <td>0.1</td>\n",
       "      <td>12</td>\n",
       "      <td>100</td>\n",
       "      <td>reg:logistic</td>\n",
       "      <td>5</td>\n",
       "      <td>0.7</td>\n",
       "      <td>hist</td>\n",
       "    </tr>\n",
       "    <tr>\n",
       "      <th>2</th>\n",
       "      <td>103</td>\n",
       "      <td>gbtree</td>\n",
       "      <td>0.9</td>\n",
       "      <td>logloss</td>\n",
       "      <td>0.239980</td>\n",
       "      <td>0.1</td>\n",
       "      <td>13</td>\n",
       "      <td>100</td>\n",
       "      <td>reg:logistic</td>\n",
       "      <td>2</td>\n",
       "      <td>0.7</td>\n",
       "      <td>hist</td>\n",
       "    </tr>\n",
       "    <tr>\n",
       "      <th>1</th>\n",
       "      <td>119</td>\n",
       "      <td>gbtree</td>\n",
       "      <td>0.9</td>\n",
       "      <td>logloss</td>\n",
       "      <td>0.240002</td>\n",
       "      <td>0.1</td>\n",
       "      <td>15</td>\n",
       "      <td>100</td>\n",
       "      <td>reg:logistic</td>\n",
       "      <td>1</td>\n",
       "      <td>0.7</td>\n",
       "      <td>hist</td>\n",
       "    </tr>\n",
       "    <tr>\n",
       "      <th>4</th>\n",
       "      <td>107</td>\n",
       "      <td>gbtree</td>\n",
       "      <td>0.9</td>\n",
       "      <td>logloss</td>\n",
       "      <td>0.240080</td>\n",
       "      <td>0.1</td>\n",
       "      <td>9</td>\n",
       "      <td>100</td>\n",
       "      <td>reg:logistic</td>\n",
       "      <td>4</td>\n",
       "      <td>0.7</td>\n",
       "      <td>hist</td>\n",
       "    </tr>\n",
       "    <tr>\n",
       "      <th>9</th>\n",
       "      <td>107</td>\n",
       "      <td>gbtree</td>\n",
       "      <td>0.9</td>\n",
       "      <td>logloss</td>\n",
       "      <td>0.240080</td>\n",
       "      <td>0.1</td>\n",
       "      <td>9</td>\n",
       "      <td>100</td>\n",
       "      <td>reg:logistic</td>\n",
       "      <td>9</td>\n",
       "      <td>0.7</td>\n",
       "      <td>hist</td>\n",
       "    </tr>\n",
       "    <tr>\n",
       "      <th>6</th>\n",
       "      <td>86</td>\n",
       "      <td>gbtree</td>\n",
       "      <td>0.9</td>\n",
       "      <td>logloss</td>\n",
       "      <td>0.240121</td>\n",
       "      <td>0.1</td>\n",
       "      <td>7</td>\n",
       "      <td>100</td>\n",
       "      <td>reg:logistic</td>\n",
       "      <td>6</td>\n",
       "      <td>0.7</td>\n",
       "      <td>hist</td>\n",
       "    </tr>\n",
       "    <tr>\n",
       "      <th>3</th>\n",
       "      <td>83</td>\n",
       "      <td>gbtree</td>\n",
       "      <td>0.9</td>\n",
       "      <td>logloss</td>\n",
       "      <td>0.240216</td>\n",
       "      <td>0.1</td>\n",
       "      <td>14</td>\n",
       "      <td>100</td>\n",
       "      <td>reg:logistic</td>\n",
       "      <td>3</td>\n",
       "      <td>0.7</td>\n",
       "      <td>hist</td>\n",
       "    </tr>\n",
       "  </tbody>\n",
       "</table>\n",
       "</div>"
      ],
      "text/plain": [
       "   boost_rounds booster  colsample_bytree eval_metric  last_val-logloss  \\\n",
       "0           163  gbtree               0.9     logloss          0.238877   \n",
       "7           163  gbtree               0.9     logloss          0.238877   \n",
       "8           163  gbtree               0.9     logloss          0.238877   \n",
       "5           113  gbtree               0.9     logloss          0.239910   \n",
       "2           103  gbtree               0.9     logloss          0.239980   \n",
       "1           119  gbtree               0.9     logloss          0.240002   \n",
       "4           107  gbtree               0.9     logloss          0.240080   \n",
       "9           107  gbtree               0.9     logloss          0.240080   \n",
       "6            86  gbtree               0.9     logloss          0.240121   \n",
       "3            83  gbtree               0.9     logloss          0.240216   \n",
       "\n",
       "   learning_rate  max_depth  min_child_weight     objective  search_id  \\\n",
       "0            0.1          8               100  reg:logistic          0   \n",
       "7            0.1          8               100  reg:logistic          7   \n",
       "8            0.1          8               100  reg:logistic          8   \n",
       "5            0.1         12               100  reg:logistic          5   \n",
       "2            0.1         13               100  reg:logistic          2   \n",
       "1            0.1         15               100  reg:logistic          1   \n",
       "4            0.1          9               100  reg:logistic          4   \n",
       "9            0.1          9               100  reg:logistic          9   \n",
       "6            0.1          7               100  reg:logistic          6   \n",
       "3            0.1         14               100  reg:logistic          3   \n",
       "\n",
       "   subsample tree_method  \n",
       "0        0.7        hist  \n",
       "7        0.7        hist  \n",
       "8        0.7        hist  \n",
       "5        0.7        hist  \n",
       "2        0.7        hist  \n",
       "1        0.7        hist  \n",
       "4        0.7        hist  \n",
       "9        0.7        hist  \n",
       "6        0.7        hist  \n",
       "3        0.7        hist  "
      ]
     },
     "execution_count": 46,
     "metadata": {},
     "output_type": "execute_result"
    }
   ],
   "source": [
    "p.sort_values(by='last_val-logloss')"
   ]
  },
  {
   "cell_type": "code",
   "execution_count": null,
   "metadata": {
    "collapsed": false
   },
   "outputs": [],
   "source": []
  },
  {
   "cell_type": "code",
   "execution_count": null,
   "metadata": {
    "collapsed": true
   },
   "outputs": [],
   "source": []
  },
  {
   "cell_type": "code",
   "execution_count": null,
   "metadata": {
    "collapsed": false
   },
   "outputs": [],
   "source": []
  },
  {
   "cell_type": "code",
   "execution_count": null,
   "metadata": {
    "collapsed": true
   },
   "outputs": [],
   "source": []
  }
 ],
 "metadata": {
  "kernelspec": {
   "display_name": "Python 3",
   "language": "python",
   "name": "python3"
  },
  "language_info": {
   "codemirror_mode": {
    "name": "ipython",
    "version": 3
   },
   "file_extension": ".py",
   "mimetype": "text/x-python",
   "name": "python",
   "nbconvert_exporter": "python",
   "pygments_lexer": "ipython3",
   "version": "3.6.0"
  }
 },
 "nbformat": 4,
 "nbformat_minor": 2
}
