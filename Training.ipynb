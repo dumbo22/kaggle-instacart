{
 "cells": [
  {
   "cell_type": "markdown",
   "metadata": {},
   "source": [
    "![train](http://cliparting.com/wp-content/uploads/2016/06/Train-clipart-for-kids-free-free-clipart-images.gif)"
   ]
  },
  {
   "cell_type": "code",
   "execution_count": null,
   "metadata": {
    "collapsed": false
   },
   "outputs": [],
   "source": [
    "import numpy as np\n",
    "np.random.seed(1019)\n",
    "\n",
    "import pandas as pd\n",
    "import matplotlib.pyplot as plt\n",
    "import seaborn as sns\n",
    "\n",
    "%matplotlib inline\n",
    "\n",
    "import xgboost\n",
    "\n",
    "import sklearn\n",
    "from sklearn.model_selection import train_test_split \n",
    "\n",
    "import sys, os, gc, types\n",
    "import time\n",
    "from subprocess import check_output"
   ]
  },
  {
   "cell_type": "code",
   "execution_count": null,
   "metadata": {
    "collapsed": false
   },
   "outputs": [],
   "source": [
    "sys.path.append('./utils')\n",
    "\n",
    "from training import cv, train\n",
    "from plotting import plot_importance\n",
    "from data import Data"
   ]
  },
  {
   "cell_type": "code",
   "execution_count": null,
   "metadata": {
    "collapsed": false
   },
   "outputs": [],
   "source": [
    "root_paths = [\n",
    "    \"/data/kaggle-instacart\",\n",
    "    \"/Users/jiayou/Dropbox/珺珺的程序/Kaggle/Instacart\",\n",
    "    \"/Users/jiayou/Dropbox/Documents/珺珺的程序/Kaggle/Instacart\"\n",
    "]\n",
    "root = None\n",
    "for p in root_paths:\n",
    "    if os.path.exists(p):\n",
    "        root = p\n",
    "        break"
   ]
  },
  {
   "cell_type": "code",
   "execution_count": null,
   "metadata": {
    "collapsed": false
   },
   "outputs": [],
   "source": []
  },
  {
   "cell_type": "markdown",
   "metadata": {},
   "source": [
    "# Hyper-Parameter Search"
   ]
  },
  {
   "cell_type": "code",
   "execution_count": null,
   "metadata": {
    "collapsed": true
   },
   "outputs": [],
   "source": [
    "name = 'v11-r0'\n",
    "down_sample = None\n",
    "test_size = 0.01\n",
    "num_searches = 1\n",
    "boosting_rounds = 3500\n",
    "stopping_rounds = None\n",
    "aug = True\n",
    "\n",
    "xgb_params_search = {\n",
    "#     \"learning_rate\"    : lambda: int(10**np.random.uniform(-2, -1) * 1e4) / 1e4,\n",
    "#     \"max_depth\"        : lambda: np.random.randint(12, 13),\n",
    "#     \"subsample\"        : [0.5],\n",
    "    \"tree_method\"      : [\"hist\"],\n",
    "    \"seed\"             : list(range(10000))\n",
    "}"
   ]
  },
  {
   "cell_type": "markdown",
   "metadata": {},
   "source": [
    "-----------"
   ]
  },
  {
   "cell_type": "code",
   "execution_count": null,
   "metadata": {
    "collapsed": true
   },
   "outputs": [],
   "source": [
    "X_train, X_val, y_train, y_val = Data.train_val(down_sample=down_sample, test_size=test_size, aug=aug)"
   ]
  },
  {
   "cell_type": "code",
   "execution_count": null,
   "metadata": {
    "collapsed": false
   },
   "outputs": [],
   "source": [
    "PANDAS_DTYPE_MAPPER = {'int8': 'int', 'int16': 'int', 'int32': 'int', 'int64': 'int',\n",
    "                       'uint8': 'int', 'uint16': 'int', 'uint32': 'int', 'uint64': 'int',\n",
    "                       'float16': 'float', 'float32': 'float', 'float64': 'float',\n",
    "                       'bool': 'i'}\n",
    "\n",
    "dtrain = xgboost.DMatrix(\n",
    "    data=X_train.values.astype(np.float32), label=y_train, \n",
    "    feature_names=X_train.columns.format(), \n",
    "    feature_types=[PANDAS_DTYPE_MAPPER[dtype.name] for dtype in X_train.dtypes])\n",
    "\n",
    "\n",
    "dval = xgboost.DMatrix(\n",
    "    data=X_val.values.astype(np.float32), label=y_val, \n",
    "    feature_names=X_val.columns.format(), \n",
    "    feature_types=[PANDAS_DTYPE_MAPPER[dtype.name] for dtype in X_val.dtypes])\n",
    "\n",
    "gc.collect()\n",
    "print(dtrain.num_row(), dtrain.num_col())\n",
    "print(dval.num_row(), dval.num_col())"
   ]
  },
  {
   "cell_type": "code",
   "execution_count": null,
   "metadata": {
    "collapsed": false
   },
   "outputs": [],
   "source": [
    "def get_params(default, search):\n",
    "    np.random.seed(int(time.time()))\n",
    "    p = dict(default)\n",
    "    for k, gen in search.items():\n",
    "        v = None\n",
    "        if type(gen) == list:\n",
    "            v = gen[np.random.randint(0, len(gen))]\n",
    "        elif type(gen) == types.LambdaType:\n",
    "            v = gen()\n",
    "        p[k] = v\n",
    "    return p\n",
    "\n",
    "def print_params(params, keys):\n",
    "    print()\n",
    "    print([\"{} = {}\".format(k, params[k]) for k in keys])\n",
    "    print()"
   ]
  },
  {
   "cell_type": "code",
   "execution_count": null,
   "metadata": {
    "collapsed": false
   },
   "outputs": [],
   "source": [
    "xgb_params_default = {\n",
    "    \"booster\"          : \"gbtree\",\n",
    "    \"tree_method\"      : \"auto\",\n",
    "    \"learning_rate\"    : 0.1,\n",
    "    \"max_depth\"        : 6,\n",
    "    \"min_child_weight\" : 10, # hessian weight\n",
    "    \"subsample\"        : 0.7,\n",
    "    \"colsample_bytree\" : 0.9,\n",
    "        \n",
    "    \"objective\"        : \"reg:logistic\",\n",
    "    \"eval_metric\"      : \"logloss\",\n",
    "    \n",
    "    \"min_split_loss\"   : 0.7, # ?\n",
    "    \"reg_alpha\"        : 2e-05,\n",
    "    \"reg_lambda\"       : 10\n",
    "#     \"grow_policy\"      : [\"lossguide\"]\n",
    "}"
   ]
  },
  {
   "cell_type": "code",
   "execution_count": null,
   "metadata": {
    "collapsed": true
   },
   "outputs": [],
   "source": [
    "def lr_schedule(env):\n",
    "    bst, r = env.model, env.iteration\n",
    "    if r == 300:\n",
    "        bst.set_param('learning_rate', 0.05)\n",
    "    elif r == 500:\n",
    "        bst.set_param('learning_rate', 0.01)\n",
    "        \n",
    "def save_checkpoint(env):\n",
    "    bst, r = env.model, env.iteration\n",
    "    if r % 300 == 0:\n",
    "        bst.save_model(os.path.join(root, 'train-checkpoint.bst'))"
   ]
  },
  {
   "cell_type": "code",
   "execution_count": null,
   "metadata": {
    "collapsed": false,
    "scrolled": true
   },
   "outputs": [],
   "source": [
    "results = []\n",
    "for i in range(num_searches):\n",
    "    xgb_params = get_params(default=xgb_params_default, search=xgb_params_search)\n",
    "    print_params(xgb_params, keys=xgb_params_search.keys())\n",
    "    \n",
    "    h = {}\n",
    "    callbacks = [xgboost.callback.record_evaluation(h)]\n",
    "    callbacks.append(save_checkpoint)\n",
    "    if stopping_rounds is not None:\n",
    "        callbacks.append(xgboost.callback.early_stop(stopping_rounds=stopping_rounds))\n",
    "    \n",
    "    bst = train(\n",
    "        xgb_params, dtrain, num_boost_round=boosting_rounds,\n",
    "        evals=[(dtrain, 'train'), (dval, 'val')],\n",
    "        callbacks=callbacks)\n",
    "    \n",
    "    bst.save_model(os.path.join(root, 'train-{}-n{}.bst'.format(name, i)))\n",
    "    results.append([xgb_params, h])\n",
    "    \n",
    "    _, axes = plt.subplots(nrows=1, ncols=5, figsize=(25,30))\n",
    "    measures = ['weight', 'gain', 'cover']\n",
    "    for i in range(3):\n",
    "        plot_importance(bst, height=1, ax=axes[2*i], importance_type=measures[i], title=measures[i])\n",
    "    plt.show()"
   ]
  },
  {
   "cell_type": "markdown",
   "metadata": {},
   "source": [
    "----"
   ]
  },
  {
   "cell_type": "code",
   "execution_count": null,
   "metadata": {
    "collapsed": false
   },
   "outputs": [],
   "source": [
    "# Save search results\n",
    "params = []\n",
    "histories = []\n",
    "for i in range(num_searches):\n",
    "    p = dict(results[i][0])\n",
    "    h = pd.DataFrame({\n",
    "        'train-logloss': results[i][1]['train']['logloss'],\n",
    "        'val-logloss': results[i][1]['val']['logloss']    \n",
    "    })\n",
    "    \n",
    "    p['search_id'] = i\n",
    "    p['boost_rounds'] = h.shape[0]\n",
    "    p['last_val-logloss'] = h['val-logloss'][len(h) - 1]\n",
    "    p['last_train-logloss'] = h['train-logloss'][len(h) - 1]\n",
    "    params.append(p)\n",
    "    \n",
    "    h['search_id'] = i\n",
    "    h['boost_round'] = range(h.shape[0])\n",
    "    histories.append(h)\n",
    "    \n",
    "p = pd.DataFrame(params)\n",
    "p.to_csv(os.path.join(root, 'train-{}-params.csv'.format(name)), index=False)\n",
    "\n",
    "h = pd.concat(histories)\n",
    "h.to_csv(os.path.join(root, 'train-{}-histories.csv'.format(name)), index=False)"
   ]
  },
  {
   "cell_type": "code",
   "execution_count": null,
   "metadata": {
    "collapsed": false
   },
   "outputs": [],
   "source": []
  },
  {
   "cell_type": "code",
   "execution_count": null,
   "metadata": {
    "collapsed": false
   },
   "outputs": [],
   "source": [
    "plt.figure(figsize=(18, 12))\n",
    "plt.ylim((0.23, 0.25))\n",
    "for i in range(num_searches):\n",
    "    plt.plot(h['boost_round'][h.search_id == i], h['val-logloss'][h.search_id == i])\n",
    "    plt.plot(h['boost_round'][h.search_id == i], h['train-logloss'][h.search_id == i], '--')\n",
    "plt.show()"
   ]
  },
  {
   "cell_type": "code",
   "execution_count": null,
   "metadata": {
    "collapsed": false
   },
   "outputs": [],
   "source": [
    "p.sort_values(by='last_val-logloss')"
   ]
  },
  {
   "cell_type": "code",
   "execution_count": null,
   "metadata": {
    "collapsed": false
   },
   "outputs": [],
   "source": []
  },
  {
   "cell_type": "code",
   "execution_count": null,
   "metadata": {
    "collapsed": true
   },
   "outputs": [],
   "source": []
  },
  {
   "cell_type": "code",
   "execution_count": null,
   "metadata": {
    "collapsed": false
   },
   "outputs": [],
   "source": []
  },
  {
   "cell_type": "code",
   "execution_count": null,
   "metadata": {
    "collapsed": false
   },
   "outputs": [],
   "source": []
  },
  {
   "cell_type": "code",
   "execution_count": null,
   "metadata": {
    "collapsed": false
   },
   "outputs": [],
   "source": []
  },
  {
   "cell_type": "code",
   "execution_count": null,
   "metadata": {
    "collapsed": true
   },
   "outputs": [],
   "source": []
  }
 ],
 "metadata": {
  "kernelspec": {
   "display_name": "Python 3",
   "language": "python",
   "name": "python3"
  },
  "language_info": {
   "codemirror_mode": {
    "name": "ipython",
    "version": 3
   },
   "file_extension": ".py",
   "mimetype": "text/x-python",
   "name": "python",
   "nbconvert_exporter": "python",
   "pygments_lexer": "ipython3",
   "version": "3.6.0"
  }
 },
 "nbformat": 4,
 "nbformat_minor": 2
}
