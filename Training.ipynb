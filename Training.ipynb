{
 "cells": [
  {
   "cell_type": "markdown",
   "metadata": {},
   "source": [
    "![train](http://cliparting.com/wp-content/uploads/2016/06/Train-clipart-for-kids-free-free-clipart-images.gif)"
   ]
  },
  {
   "cell_type": "code",
   "execution_count": 4,
   "metadata": {
    "collapsed": false
   },
   "outputs": [],
   "source": [
    "import numpy as np\n",
    "np.random.seed(1019)\n",
    "\n",
    "import pandas as pd\n",
    "import matplotlib.pyplot as plt\n",
    "import seaborn as sns\n",
    "\n",
    "%matplotlib inline\n",
    "\n",
    "import xgboost\n",
    "\n",
    "import sklearn\n",
    "from sklearn.model_selection import train_test_split \n",
    "\n",
    "import sys, os, gc\n",
    "import time\n",
    "from subprocess import check_output"
   ]
  },
  {
   "cell_type": "code",
   "execution_count": 7,
   "metadata": {
    "collapsed": false
   },
   "outputs": [],
   "source": [
    "root_paths = [\n",
    "    \"/data/kaggle-instacart\",\n",
    "    \"/Users/jiayou/Dropbox/珺珺的程序/Kaggle/Instacart\",\n",
    "    \"/Users/jiayou/Dropbox/Documents/珺珺的程序/Kaggle/Instacart\"\n",
    "]\n",
    "root = None\n",
    "for p in root_paths:\n",
    "    if os.path.exists(p):\n",
    "        root = p\n",
    "        break"
   ]
  },
  {
   "cell_type": "markdown",
   "metadata": {},
   "source": [
    "# Training"
   ]
  },
  {
   "cell_type": "code",
   "execution_count": 11,
   "metadata": {
    "collapsed": true
   },
   "outputs": [],
   "source": [
    "def get_data(down_sample=None):\n",
    "    data = pd.read_csv(os.path.join(root, 'abt.csv'))\n",
    "    \n",
    "    n = data.shape[0]\n",
    "    data['rand_uniform'] = np.random.uniform(0, 1, n)\n",
    "    data['rand_normal'] = np.random.normal(0, 1, n)\n",
    "    \n",
    "    train = data.loc[data.eval_set == \"train\",:]\n",
    "    test = data.loc[data.eval_set == \"test\",:]\n",
    "    \n",
    "    if down_sample is not None:\n",
    "        train = train[train.user_id % down_sample == 0]\n",
    "        test = test[test.user_id % down_sample == 0]\n",
    "    \n",
    "    return (train, test)"
   ]
  },
  {
   "cell_type": "code",
   "execution_count": null,
   "metadata": {
    "collapsed": true
   },
   "outputs": [],
   "source": [
    "train, test = get_data()\n",
    "train.['reordered'] = train.reordered.fillna(0)"
   ]
  },
  {
   "cell_type": "code",
   "execution_count": 14,
   "metadata": {
    "collapsed": false,
    "scrolled": true
   },
   "outputs": [],
   "source": [
    "X_train, X_val, y_train, y_val = train_test_split(\n",
    "    train.drop(['eval_set', 'user_id', 'product_id', 'order_id', 'reordered'], axis=1), \n",
    "    train.reordered,\n",
    "    test_size=0, random_state=1019)\n",
    "\n",
    "d_train = xgboost.DMatrix(X_train, y_train)"
   ]
  },
  {
   "cell_type": "code",
   "execution_count": null,
   "metadata": {
    "collapsed": true
   },
   "outputs": [],
   "source": [
    "def get_params(default, search):\n",
    "    return {}"
   ]
  },
  {
   "cell_type": "code",
   "execution_count": 10,
   "metadata": {
    "collapsed": false
   },
   "outputs": [],
   "source": [
    "xgb_params_default = {\n",
    "    \"booster\"          : \"gbtree\",\n",
    "    \"tree_method\"      : \"auto\",\n",
    "    \"learning_rate\"    : 0.1,\n",
    "    \"min_split_loss\"   : 0.70, # ?\n",
    "    \"max_depth\"        : 6,\n",
    "    \"min_child_weight\" : 10, # hessian weight\n",
    "    \"subsample\"        : 0.7,\n",
    "    \"colsample_bytree\" : 0.9,\n",
    "    \"reg_alpha\"        : 2e-05,\n",
    "    \"reg_lambda\"       : 10,\n",
    "    \n",
    "    \"objective\"        : \"reg:logistic\",\n",
    "    \"eval_metric\"      : \"logloss\"\n",
    "}\n",
    "xgb_params_search = {\n",
    "    \"learning_rate\"    : lambda: 10**np.random.uniform(-2, -1),\n",
    "    \"max_depth\"        : lambda: np.random.randint(3, 7),\n",
    "    \"min_split_loss\"   : [0, 0.70],\n",
    "    \"min_child_weight\" : [1, 10],\n",
    "}\n",
    "\n",
    "print('Running random param search with cross validation...')\n",
    "results = []\n",
    "for i in range(30):\n",
    "    xgb_params = get_params(default=xgb_params_default, search=xgb_params_search)\n",
    "    print()\n",
    "    print([\"{} = {}\".format(k, xgb_params[k]) for k in xgb_params_search.keys()])\n",
    "    print()\n",
    "    h = xgboost.cv(\n",
    "        xgb_params, d_train, num_boost_round=80, nfold=4,\n",
    "        metrics={'logloss'}, seed = 1019,\n",
    "        callbacks=[\n",
    "            xgboost.callback.print_evaluation(show_stdv=True),\n",
    "            xgboost.callback.early_stop(stopping_rounds=5)\n",
    "        ])\n",
    "    results.append([xgb_params, h])"
   ]
  },
  {
   "cell_type": "code",
   "execution_count": null,
   "metadata": {
    "collapsed": true
   },
   "outputs": [],
   "source": [
    "# watchlist= [(d_train, \"train\")]\n",
    "# bst = xgboost.train(params=xgb_params, dtrain=d_train, num_boost_round=80, evals=watchlist, verbose_eval=10)\n",
    "# xgboost.plot_importance(bst)"
   ]
  },
  {
   "cell_type": "markdown",
   "metadata": {
    "collapsed": false
   },
   "source": [
    "# Prediction and Submission"
   ]
  },
  {
   "cell_type": "code",
   "execution_count": 12,
   "metadata": {
    "collapsed": false
   },
   "outputs": [],
   "source": [
    "# Prediction\n",
    "d_test = xgboost.DMatrix(test.drop(['eval_set', 'user_id', 'order_id', 'reordered', 'product_id'], axis=1))\n",
    "pred = bst.predict(d_test)"
   ]
  },
  {
   "cell_type": "code",
   "execution_count": null,
   "metadata": {
    "collapsed": true
   },
   "outputs": [],
   "source": [
    "# Thresholding\n",
    "test['reordered'] = (pred > 0.21).astype(int)\n",
    "# submit = ka_add_groupby_features_n_vs_1(\n",
    "#     test[test.reordered == 1], \n",
    "#     group_columns_list=['order_id'],\n",
    "#     target_columns_list= ['product_id'],\n",
    "#     methods_list=[lambda x: ' '.join(set(x))], \n",
    "#     keep_only_stats=True)"
   ]
  },
  {
   "cell_type": "code",
   "execution_count": 13,
   "metadata": {
    "collapsed": false
   },
   "outputs": [],
   "source": [
    "# Submission file\n",
    "test['product_id'] = test.product_id.astype(str)\n",
    "submit = test[test.reordered == 1]\n",
    "    .groupby('order_id')['product_id']\n",
    "    .agg([lambda x: ' '.join(set(x))])\n",
    "    .reset_index()\n",
    "sample_submission = pd.read_csv(os.path.join(root, 'sample_submission.csv'))\n",
    "submit.columns = sample_submission.columns.tolist()\n",
    "submit_final = sample_submission[['order_id']].merge(submit, how='left').fillna('None')\n",
    "submit_final.to_csv(\"submission.csv\", index=False)"
   ]
  },
  {
   "cell_type": "code",
   "execution_count": 100,
   "metadata": {
    "collapsed": false
   },
   "outputs": [],
   "source": [
    "# Stats\n",
    "print('{} pred orders; {} of them non-empty'.format(submit_final.shape[0], submit.shape[0]))\n",
    "empty_order_ratio = (submit_final.shape[0] - submit.shape[0]) * 100. / submit_final.shape[0]\n",
    "print('Empty order ratio is {:.2f}%'.format(empty_order_ratio)"
   ]
  },
  {
   "cell_type": "code",
   "execution_count": null,
   "metadata": {
    "collapsed": false
   },
   "outputs": [],
   "source": []
  },
  {
   "cell_type": "code",
   "execution_count": 42,
   "metadata": {
    "collapsed": false
   },
   "outputs": [
    {
     "data": {
      "text/plain": [
       "True"
      ]
     },
     "execution_count": 42,
     "metadata": {},
     "output_type": "execute_result"
    }
   ],
   "source": [
    "import types\n",
    "type(lambda:x) == types.FunctionType"
   ]
  },
  {
   "cell_type": "code",
   "execution_count": null,
   "metadata": {
    "collapsed": true
   },
   "outputs": [],
   "source": []
  }
 ],
 "metadata": {
  "kernelspec": {
   "display_name": "Python 3",
   "language": "python",
   "name": "python3"
  },
  "language_info": {
   "codemirror_mode": {
    "name": "ipython",
    "version": 3
   },
   "file_extension": ".py",
   "mimetype": "text/x-python",
   "name": "python",
   "nbconvert_exporter": "python",
   "pygments_lexer": "ipython3",
   "version": "3.6.0"
  }
 },
 "nbformat": 4,
 "nbformat_minor": 2
}
