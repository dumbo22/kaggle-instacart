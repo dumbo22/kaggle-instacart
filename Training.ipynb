{
 "cells": [
  {
   "cell_type": "markdown",
   "metadata": {},
   "source": [
    "![train](http://cliparting.com/wp-content/uploads/2016/06/Train-clipart-for-kids-free-free-clipart-images.gif)"
   ]
  },
  {
   "cell_type": "code",
   "execution_count": 54,
   "metadata": {
    "collapsed": false
   },
   "outputs": [],
   "source": [
    "import numpy as np\n",
    "np.random.seed(1019)\n",
    "\n",
    "import pandas as pd\n",
    "import matplotlib.pyplot as plt\n",
    "import seaborn as sns\n",
    "\n",
    "%matplotlib inline\n",
    "\n",
    "import xgboost\n",
    "\n",
    "import sklearn\n",
    "from sklearn.model_selection import train_test_split \n",
    "\n",
    "import sys, os, gc, types\n",
    "import time\n",
    "from subprocess import check_output"
   ]
  },
  {
   "cell_type": "code",
   "execution_count": 73,
   "metadata": {
    "collapsed": false
   },
   "outputs": [],
   "source": [
    "sys.path.append('./utils')\n",
    "\n",
    "from training import cv\n",
    "from plotting import plot_importance"
   ]
  },
  {
   "cell_type": "code",
   "execution_count": 7,
   "metadata": {
    "collapsed": false
   },
   "outputs": [],
   "source": [
    "root_paths = [\n",
    "    \"/data/kaggle-instacart\",\n",
    "    \"/Users/jiayou/Dropbox/珺珺的程序/Kaggle/Instacart\",\n",
    "    \"/Users/jiayou/Dropbox/Documents/珺珺的程序/Kaggle/Instacart\"\n",
    "]\n",
    "root = None\n",
    "for p in root_paths:\n",
    "    if os.path.exists(p):\n",
    "        root = p\n",
    "        break"
   ]
  },
  {
   "cell_type": "code",
   "execution_count": 11,
   "metadata": {
    "collapsed": true
   },
   "outputs": [],
   "source": [
    "def get_data(down_sample=None):\n",
    "    data = pd.read_csv(\n",
    "        os.path.join(root, 'abt.csv'),\n",
    "        dtype={\n",
    "            'product_id': np.int32,\n",
    "            'up_order_count': np.int16,\n",
    "            'up_first_order_number': np.int16,\n",
    "            'up_last_order_number': np.int16,\n",
    "            'up_average_cart_position': np.float32,\n",
    "            'up_days_since_last_order': np.float32,\n",
    "            'prod_total_cnt': np.int32,\n",
    "            'prod_reorder_total_cnt': np.float32,\n",
    "            'prod_user_cnt': np.int32,\n",
    "            'prod_return_user_cnt': np.int32,\n",
    "            'prod_user_reorder_ratio': np.float32,\n",
    "            'prod_product_reorder_ratio': np.float32,\n",
    "            'user_total_orders': np.int16,\n",
    "            'user_sum_days_since_prior_order': np.float32,\n",
    "            'user_mean_days_since_prior_order': np.float32,\n",
    "            'user_reorder_ratio': np.float32,\n",
    "            'user_total_products': np.int16,\n",
    "            'user_distinct_products': np.int16,\n",
    "            'user_average_basket': np.float32,\n",
    "            'order_id': np.int32,\n",
    "            'eval_set': str,\n",
    "            'time_since_last_order': np.float32,\n",
    "            'cat_total_bought_cnt': np.int32,\n",
    "            'cat_reorder_total_cnt': np.float32,\n",
    "            'cat_user_cnt': np.int32,\n",
    "            'cat_return_user_cnt': np.int32,\n",
    "            'cat_user_reorder_ratio': np.float32,\n",
    "            'cat_product_reorder_ratio': np.float32,\n",
    "            'cat_num_of_prods_a_user_buys_in_this_cat_mean': np.float32,\n",
    "            'cat_num_of_prods_a_user_buys_in_this_cat_std': np.float32,\n",
    "            'cat_num_of_prods_a_user_buys_in_this_cat_max': np.int16,\n",
    "            'cat_num_of_prods_a_user_buys_in_this_cat_median': np.int16,\n",
    "            'up_order_rate': np.float32,\n",
    "            'up_order_since_last_order': np.int16,\n",
    "            'up_order_rate_since_first_order': np.float32,\n",
    "            'reordered': np.float32,\n",
    "            'prod_market_share_hod': np.float32,\n",
    "            'prod_market_share_dow': np.float32\n",
    "        })\n",
    "    \n",
    "    n = data.shape[0]\n",
    "    data['rand_uniform'] = np.random.uniform(0, 1, n)\n",
    "    data['rand_normal'] = np.random.normal(0, 1, n)\n",
    "    \n",
    "    train = data.loc[data.eval_set == \"train\",:]\n",
    "    test = data.loc[data.eval_set == \"test\",:]\n",
    "    \n",
    "    if down_sample is not None:\n",
    "        train = train[train.user_id % down_sample == 0]\n",
    "        test = test[test.user_id % down_sample == 0]\n",
    "        \n",
    "    train['reordered'] = train.reordered.fillna(0)\n",
    "    \n",
    "    X_train, X_val, y_train, y_val = train_test_split(\n",
    "        train.drop(['eval_set', 'product_id', 'order_id', 'reordered'], axis=1), \n",
    "        train.reordered,\n",
    "        test_size=0, random_state=1019)\n",
    "\n",
    "    d_train = xgboost.DMatrix(X_train, y_train)\n",
    "    \n",
    "    return (d_train, test)"
   ]
  },
  {
   "cell_type": "markdown",
   "metadata": {},
   "source": [
    "# Hyper-Parameter Search"
   ]
  },
  {
   "cell_type": "code",
   "execution_count": 65,
   "metadata": {
    "collapsed": true
   },
   "outputs": [],
   "source": [
    "name = 'v2-r0'\n",
    "down_sample = None\n",
    "num_searches = 1\n",
    "boosting_rounds = 150\n",
    "stopping_rounds = 5\n",
    "\n",
    "xgb_params_search = {\n",
    "#     \"learning_rate\"    : lambda: int(10**np.random.uniform(-2, -1) * 1e4) / 1e4,\n",
    "#     \"max_depth\"        : lambda: np.random.randint(3, 7),\n",
    "#     \"min_split_loss\"   : [0, 0.70],\n",
    "#     \"min_child_weight\" : [1, 10],\n",
    "}"
   ]
  },
  {
   "cell_type": "markdown",
   "metadata": {},
   "source": [
    "-----------"
   ]
  },
  {
   "cell_type": "code",
   "execution_count": null,
   "metadata": {
    "collapsed": true
   },
   "outputs": [],
   "source": [
    "d_train, test = get_data(down_sample)\n",
    "\n",
    "gc.collect()\n",
    "print(d_train.num_row(), d_train.num_col())\n",
    "print(test.shape)"
   ]
  },
  {
   "cell_type": "code",
   "execution_count": 55,
   "metadata": {
    "collapsed": false
   },
   "outputs": [],
   "source": [
    "def get_params(default, search):\n",
    "    np.random.seed(int(time.time()))\n",
    "    p = dict(default)\n",
    "    for k, gen in search.items():\n",
    "        v = None\n",
    "        if type(gen) == list:\n",
    "            v = gen[np.random.randint(0, len(gen))]\n",
    "        elif type(gen) == types.LambdaType:\n",
    "            v = gen()\n",
    "        p[k] = v\n",
    "    return p\n",
    "\n",
    "def print_params(params, keys):\n",
    "    print()\n",
    "    print([\"{} = {}\".format(k, params[k]) for k in keys])\n",
    "    print()"
   ]
  },
  {
   "cell_type": "code",
   "execution_count": 74,
   "metadata": {
    "collapsed": false
   },
   "outputs": [],
   "source": [
    "xgb_params_default = {\n",
    "    \"booster\"          : \"gbtree\",\n",
    "    \"tree_method\"      : \"auto\",\n",
    "    \"learning_rate\"    : 0.1,\n",
    "    \"min_split_loss\"   : 0.7, # ?\n",
    "    \"max_depth\"        : 6,\n",
    "    \"min_child_weight\" : 10, # hessian weight\n",
    "    \"subsample\"        : 0.7,\n",
    "    \"colsample_bytree\" : 0.9,\n",
    "    \"reg_alpha\"        : 2e-05,\n",
    "    \"reg_lambda\"       : 10,\n",
    "    \n",
    "    \"objective\"        : \"reg:logistic\",\n",
    "    \"eval_metric\"      : \"logloss\"\n",
    "}"
   ]
  },
  {
   "cell_type": "code",
   "execution_count": 10,
   "metadata": {
    "collapsed": false
   },
   "outputs": [],
   "source": [
    "results = []\n",
    "cvfolds = None\n",
    "for i in range(num_searches):\n",
    "    xgb_params = get_params(default=xgb_params_default, search=xgb_params_search)\n",
    "    print_params(xgb_params, keys=xgb_params_search.keys())\n",
    "    h, cvfolds = cv(\n",
    "        xgb_params, d_train, num_boost_round=boosting_rounds, nfold=5,\n",
    "        metrics={'logloss'}, seed = 1019,\n",
    "        callbacks=[\n",
    "            xgboost.callback.print_evaluation(show_stdv=True),\n",
    "            xgboost.callback.early_stop(stopping_rounds=stopping_rounds)\n",
    "        ])\n",
    "    results.append([xgb_params, h])\n",
    "    \n",
    "    for f in cvfolds:\n",
    "        _, axes = plt.subplots(nrows=1, ncols=3, figsize=(18,18))\n",
    "        measures = ['weight', 'gain', 'cover']\n",
    "        for i in range(3):\n",
    "            plot_importance(f.bst, height=1, ax=axes[i], importance_type=measures[i], title=measures[i])\n",
    "        plt.show()"
   ]
  },
  {
   "cell_type": "markdown",
   "metadata": {},
   "source": [
    "----"
   ]
  },
  {
   "cell_type": "code",
   "execution_count": 64,
   "metadata": {
    "collapsed": false
   },
   "outputs": [],
   "source": [
    "# Save search results\n",
    "params = []\n",
    "histories = []\n",
    "for i in range(num_searches):\n",
    "    p = dict(results[i][0])\n",
    "    h = results[i][1].copy()\n",
    "    \n",
    "    p['search_id'] = i\n",
    "    params.append(p)\n",
    "    \n",
    "    h['search_id'] = i\n",
    "    h['boost_round'] = range(h.shape[0])\n",
    "    histories.append(h)\n",
    "    \n",
    "p = pd.DataFrame(params)\n",
    "p.to_csv(os.path.join(root, 'train-{}-params.csv'.format(name)), index=False)\n",
    "\n",
    "h = pd.concat(histories)\n",
    "h.to_csv(os.path.join(root, 'train-{}-histories.csv'.format(name)), index=False)"
   ]
  },
  {
   "cell_type": "code",
   "execution_count": null,
   "metadata": {
    "collapsed": true
   },
   "outputs": [],
   "source": []
  },
  {
   "cell_type": "markdown",
   "metadata": {
    "collapsed": false
   },
   "source": [
    "# Prediction and Submission"
   ]
  },
  {
   "cell_type": "code",
   "execution_count": 75,
   "metadata": {
    "collapsed": false
   },
   "outputs": [],
   "source": [
    "def predict(bst):\n",
    "    d_test = xgboost.DMatrix(\n",
    "        test.drop(['eval_set', 'order_id', 'reordered', 'product_id'], axis=1))\n",
    "    return bst.predict(d_test)\n",
    "\n",
    "def ensemble(preds):\n",
    "    # Average ensemble\n",
    "    r = None\n",
    "    for p in preds:\n",
    "        if r is None:\n",
    "            r = p\n",
    "        else:\n",
    "            r += p\n",
    "    return r / len(preds)\n",
    "\n",
    "def ensemble_predict(bsts):\n",
    "    preds = []\n",
    "    for bst in bsts:\n",
    "        preds.append(predict(bst))\n",
    "    return ensemble(preds)\n",
    "\n",
    "def thresholding(pred):\n",
    "    return (pred > 0.21).astype(int)"
   ]
  },
  {
   "cell_type": "code",
   "execution_count": null,
   "metadata": {
    "collapsed": true
   },
   "outputs": [],
   "source": [
    "# Prediction\n",
    "test['reordered'] = thresholding(ensemble_predict([f.bst for f in cvfolds]))"
   ]
  },
  {
   "cell_type": "code",
   "execution_count": 13,
   "metadata": {
    "collapsed": false
   },
   "outputs": [],
   "source": [
    "# Submission file\n",
    "test['product_id'] = test.product_id.astype(str)\n",
    "submit = test[test.reordered == 1].groupby('order_id')['product_id'].agg([lambda x: ' '.join(set(x))]).reset_index()\n",
    "sample_submission = pd.read_csv(os.path.join(root, 'sample_submission.csv'))\n",
    "submit.columns = sample_submission.columns.tolist()\n",
    "submit_final = sample_submission[['order_id']].merge(submit, how='left').fillna('None')\n",
    "submit_final.to_csv(\"submission-{}.csv\".format(name), index=False)"
   ]
  },
  {
   "cell_type": "code",
   "execution_count": 100,
   "metadata": {
    "collapsed": false
   },
   "outputs": [],
   "source": [
    "# Stats\n",
    "print('{} pred orders; {} of them non-empty'.format(submit_final.shape[0], submit.shape[0]))\n",
    "empty_order_ratio = (submit_final.shape[0] - submit.shape[0]) * 100. / submit_final.shape[0]\n",
    "print('Empty order ratio is {:.2f}%'.format(empty_order_ratio))"
   ]
  },
  {
   "cell_type": "code",
   "execution_count": null,
   "metadata": {
    "collapsed": false
   },
   "outputs": [],
   "source": []
  },
  {
   "cell_type": "code",
   "execution_count": null,
   "metadata": {
    "collapsed": false
   },
   "outputs": [],
   "source": []
  },
  {
   "cell_type": "code",
   "execution_count": null,
   "metadata": {
    "collapsed": false
   },
   "outputs": [],
   "source": []
  },
  {
   "cell_type": "code",
   "execution_count": 77,
   "metadata": {
    "collapsed": false
   },
   "outputs": [],
   "source": [
    "t = pd.DataFrame([{'a': 1, 'b': 'bbb'}])\n",
    "t.to_csv('test.csv', index=False)"
   ]
  },
  {
   "cell_type": "code",
   "execution_count": 86,
   "metadata": {
    "collapsed": false
   },
   "outputs": [
    {
     "data": {
      "text/html": [
       "<div>\n",
       "<table border=\"1\" class=\"dataframe\">\n",
       "  <thead>\n",
       "    <tr style=\"text-align: right;\">\n",
       "      <th></th>\n",
       "      <th>a</th>\n",
       "      <th>b</th>\n",
       "    </tr>\n",
       "  </thead>\n",
       "  <tbody>\n",
       "    <tr>\n",
       "      <th>0</th>\n",
       "      <td>1</td>\n",
       "      <td>bbb</td>\n",
       "    </tr>\n",
       "  </tbody>\n",
       "</table>\n",
       "</div>"
      ],
      "text/plain": [
       "   a    b\n",
       "0  1  bbb"
      ]
     },
     "execution_count": 86,
     "metadata": {},
     "output_type": "execute_result"
    }
   ],
   "source": [
    "t = pd.read_csv('test.csv', dtype={'a':np.int64, 'b':np.object})\n",
    "t"
   ]
  },
  {
   "cell_type": "code",
   "execution_count": 87,
   "metadata": {
    "collapsed": false
   },
   "outputs": [
    {
     "data": {
      "text/plain": [
       "a     int64\n",
       "b    object\n",
       "dtype: object"
      ]
     },
     "execution_count": 87,
     "metadata": {},
     "output_type": "execute_result"
    }
   ],
   "source": [
    "t.dtypes"
   ]
  },
  {
   "cell_type": "code",
   "execution_count": null,
   "metadata": {
    "collapsed": true
   },
   "outputs": [],
   "source": []
  }
 ],
 "metadata": {
  "kernelspec": {
   "display_name": "Python 3",
   "language": "python",
   "name": "python3"
  },
  "language_info": {
   "codemirror_mode": {
    "name": "ipython",
    "version": 3
   },
   "file_extension": ".py",
   "mimetype": "text/x-python",
   "name": "python",
   "nbconvert_exporter": "python",
   "pygments_lexer": "ipython3",
   "version": "3.6.0"
  }
 },
 "nbformat": 4,
 "nbformat_minor": 2
}
