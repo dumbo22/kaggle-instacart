{
 "cells": [
  {
   "cell_type": "markdown",
   "metadata": {},
   "source": [
    "# Feature engineering"
   ]
  },
  {
   "cell_type": "code",
   "execution_count": 1,
   "metadata": {
    "collapsed": false
   },
   "outputs": [],
   "source": [
    "import numpy as np\n",
    "import pandas as pd\n",
    "import matplotlib.pyplot as plt\n",
    "import seaborn as sns\n",
    "color = sns.color_palette()\n",
    "%matplotlib inline\n",
    "\n",
    "import xgboost\n",
    "\n",
    "import sklearn\n",
    "from sklearn.model_selection import train_test_split\n",
    "\n",
    "import sys, os, gc, types\n",
    "import time\n",
    "from subprocess import check_output"
   ]
  },
  {
   "cell_type": "code",
   "execution_count": 39,
   "metadata": {
    "collapsed": false
   },
   "outputs": [],
   "source": [
    "root_paths = [\n",
    "    \"/data/kaggle-instacart/\",\n",
    "    \"/Users/jiayou/Dropbox/珺珺的程序/Kaggle/Instacart/\",\n",
    "    \"/Users/jiayou/Dropbox/Documents/珺珺的程序/Kaggle/Instacart/\"\n",
    "]\n",
    "root = None\n",
    "for p in root_paths:\n",
    "    if os.path.exists(p):\n",
    "        root = p\n",
    "        break\n",
    "# print(check_output([\"ls\", root]).decode(\"utf8\"))"
   ]
  },
  {
   "cell_type": "code",
   "execution_count": 3,
   "metadata": {
    "collapsed": true
   },
   "outputs": [],
   "source": [
    "def load_data(path_data):\n",
    "    priors = pd.read_csv(path_data + 'order_products__prior.csv', \n",
    "                     dtype={\n",
    "                            'order_id': np.int32,\n",
    "                            'product_id': np.uint16,\n",
    "                            'add_to_cart_order': np.int16,\n",
    "                            'reordered': np.int8})\n",
    "    train = pd.read_csv(path_data + 'order_products__train.csv', \n",
    "                    dtype={\n",
    "                            'order_id': np.int32,\n",
    "                            'product_id': np.uint16,\n",
    "                            'add_to_cart_order': np.int16,\n",
    "                            'reordered': np.int8})\n",
    "    orders = pd.read_csv(path_data + 'orders.csv', \n",
    "                         dtype={\n",
    "                                'order_id': np.int32,\n",
    "                                'user_id': np.int64,\n",
    "                                'eval_set': 'category',\n",
    "                                'order_number': np.int16,\n",
    "                                'order_dow': np.int8,\n",
    "                                'order_hour_of_day': np.int8,\n",
    "                                'days_since_prior_order': np.float32})\n",
    "    \n",
    "    products = pd.read_csv(path_data + 'products.csv')\n",
    "    aisles = pd.read_csv(path_data + \"aisles.csv\")\n",
    "    departments = pd.read_csv(path_data + \"departments.csv\")\n",
    "    sample_submission = pd.read_csv(path_data + \"sample_submission.csv\")\n",
    "    \n",
    "    return priors, train, orders, products, aisles, departments, sample_submission\n"
   ]
  },
  {
   "cell_type": "code",
   "execution_count": 4,
   "metadata": {
    "collapsed": false
   },
   "outputs": [],
   "source": [
    "class tick_tock:\n",
    "    def __init__(self, process_name, verbose=1):\n",
    "        self.process_name = process_name\n",
    "        self.verbose = verbose\n",
    "    def __enter__(self):\n",
    "        if self.verbose:\n",
    "            print(self.process_name + \" begin ......\")\n",
    "            self.begin_time = time.time()\n",
    "    def __exit__(self, type, value, traceback):\n",
    "        if self.verbose:\n",
    "            end_time = time.time()\n",
    "            print(self.process_name + \" end ......\")\n",
    "            print('time lapsing {0} s \\n'.format(end_time - self.begin_time))\n",
    "            \n",
    "def ka_add_groupby_features_1_vs_n(df, group_columns_list, agg_dict, only_new_feature=True):\n",
    "    with tick_tock(\"add stats features\"):\n",
    "        try:\n",
    "            if type(group_columns_list) == list:\n",
    "                pass\n",
    "            else:\n",
    "                raise TypeError(k + \"should be a list\")\n",
    "        except TypeError as e:\n",
    "            print(e)\n",
    "            raise\n",
    "\n",
    "        df_new = df.copy()\n",
    "        grouped = df_new.groupby(group_columns_list)\n",
    "\n",
    "        the_stats = grouped.agg(agg_dict)\n",
    "        the_stats.columns = the_stats.columns.droplevel(0)\n",
    "        the_stats.reset_index(inplace=True)\n",
    "        if only_new_feature:\n",
    "            df_new = the_stats\n",
    "        else:\n",
    "            df_new = pd.merge(left=df_new, right=the_stats, on=group_columns_list, how='left')\n",
    "\n",
    "    return df_new\n",
    "\n",
    "def ka_add_groupby_features_n_vs_1(df, group_columns_list, target_columns_list, methods_list, keep_only_stats=True, verbose=1):\n",
    "    with tick_tock(\"add stats features\", verbose):\n",
    "        dicts = {\"group_columns_list\": group_columns_list , \"target_columns_list\": target_columns_list, \"methods_list\" :methods_list}\n",
    "\n",
    "        for k, v in dicts.items():\n",
    "            try:\n",
    "                if type(v) == list:\n",
    "                    pass\n",
    "                else:\n",
    "                    raise TypeError(k + \"should be a list\")\n",
    "            except TypeError as e:\n",
    "                print(e)\n",
    "                raise\n",
    "\n",
    "        grouped_name = ''.join(group_columns_list)\n",
    "        target_name = ''.join(target_columns_list)\n",
    "        combine_name = [[grouped_name] + [method_name] + [target_name] for method_name in methods_list]\n",
    "\n",
    "        df_new = df.copy()\n",
    "        grouped = df_new.groupby(group_columns_list)\n",
    "\n",
    "        the_stats = grouped[target_name].agg(methods_list).reset_index()\n",
    "        the_stats.columns = [grouped_name] + \\\n",
    "                            ['_%s_%s_by_%s' % (grouped_name, method_name, target_name) \\\n",
    "                             for (grouped_name, method_name, target_name) in combine_name]\n",
    "        if keep_only_stats:\n",
    "            return the_stats\n",
    "        else:\n",
    "            df_new = pd.merge(left=df_new, right=the_stats, on=group_columns_list, how='left')\n",
    "        return df_new\n"
   ]
  },
  {
   "cell_type": "code",
   "execution_count": 5,
   "metadata": {
    "collapsed": false
   },
   "outputs": [],
   "source": [
    "priors, train, orders, products, aisles, departments, sample_submission = load_data(root)"
   ]
  },
  {
   "cell_type": "code",
   "execution_count": null,
   "metadata": {
    "collapsed": false
   },
   "outputs": [],
   "source": []
  },
  {
   "cell_type": "code",
   "execution_count": null,
   "metadata": {
    "collapsed": false
   },
   "outputs": [],
   "source": []
  },
  {
   "cell_type": "markdown",
   "metadata": {},
   "source": [
    "# Product feature engineering"
   ]
  },
  {
   "cell_type": "code",
   "execution_count": 9,
   "metadata": {
    "collapsed": false
   },
   "outputs": [],
   "source": [
    "# build days_to_last_order\n",
    "dsfo = orders.groupby('user_id').days_since_prior_order.cumsum().fillna(0)\n",
    "orders['days_since_first_order'] = dsfo\n",
    "max_days = orders.groupby('user_id').days_since_first_order.agg({'max_days':'max'}).reset_index()\n",
    "orders = orders.merge(max_days, on = 'user_id', how = 'left')\n",
    "orders['days_to_last_order'] = orders.max_days - orders.days_since_first_order\n",
    "orders['hod_group'] = (orders.order_hour_of_day / 4).astype('int')"
   ]
  },
  {
   "cell_type": "code",
   "execution_count": 10,
   "metadata": {
    "collapsed": false
   },
   "outputs": [
    {
     "data": {
      "text/html": [
       "<div>\n",
       "<table border=\"1\" class=\"dataframe\">\n",
       "  <thead>\n",
       "    <tr style=\"text-align: right;\">\n",
       "      <th></th>\n",
       "      <th>order_id</th>\n",
       "      <th>user_id</th>\n",
       "      <th>eval_set</th>\n",
       "      <th>order_number</th>\n",
       "      <th>order_dow</th>\n",
       "      <th>order_hour_of_day</th>\n",
       "      <th>days_since_prior_order</th>\n",
       "      <th>days_to_last_order</th>\n",
       "      <th>hod_group</th>\n",
       "    </tr>\n",
       "  </thead>\n",
       "  <tbody>\n",
       "    <tr>\n",
       "      <th>0</th>\n",
       "      <td>2539329</td>\n",
       "      <td>1</td>\n",
       "      <td>prior</td>\n",
       "      <td>1</td>\n",
       "      <td>2</td>\n",
       "      <td>8</td>\n",
       "      <td>NaN</td>\n",
       "      <td>190.0</td>\n",
       "      <td>2</td>\n",
       "    </tr>\n",
       "    <tr>\n",
       "      <th>1</th>\n",
       "      <td>2398795</td>\n",
       "      <td>1</td>\n",
       "      <td>prior</td>\n",
       "      <td>2</td>\n",
       "      <td>3</td>\n",
       "      <td>7</td>\n",
       "      <td>15.0</td>\n",
       "      <td>175.0</td>\n",
       "      <td>1</td>\n",
       "    </tr>\n",
       "    <tr>\n",
       "      <th>2</th>\n",
       "      <td>473747</td>\n",
       "      <td>1</td>\n",
       "      <td>prior</td>\n",
       "      <td>3</td>\n",
       "      <td>3</td>\n",
       "      <td>12</td>\n",
       "      <td>21.0</td>\n",
       "      <td>154.0</td>\n",
       "      <td>3</td>\n",
       "    </tr>\n",
       "    <tr>\n",
       "      <th>3</th>\n",
       "      <td>2254736</td>\n",
       "      <td>1</td>\n",
       "      <td>prior</td>\n",
       "      <td>4</td>\n",
       "      <td>4</td>\n",
       "      <td>7</td>\n",
       "      <td>29.0</td>\n",
       "      <td>125.0</td>\n",
       "      <td>1</td>\n",
       "    </tr>\n",
       "    <tr>\n",
       "      <th>4</th>\n",
       "      <td>431534</td>\n",
       "      <td>1</td>\n",
       "      <td>prior</td>\n",
       "      <td>5</td>\n",
       "      <td>4</td>\n",
       "      <td>15</td>\n",
       "      <td>28.0</td>\n",
       "      <td>97.0</td>\n",
       "      <td>3</td>\n",
       "    </tr>\n",
       "  </tbody>\n",
       "</table>\n",
       "</div>"
      ],
      "text/plain": [
       "   order_id  user_id eval_set  order_number  order_dow  order_hour_of_day  \\\n",
       "0   2539329        1    prior             1          2                  8   \n",
       "1   2398795        1    prior             2          3                  7   \n",
       "2    473747        1    prior             3          3                 12   \n",
       "3   2254736        1    prior             4          4                  7   \n",
       "4    431534        1    prior             5          4                 15   \n",
       "\n",
       "   days_since_prior_order  days_to_last_order  hod_group  \n",
       "0                     NaN               190.0          2  \n",
       "1                    15.0               175.0          1  \n",
       "2                    21.0               154.0          3  \n",
       "3                    29.0               125.0          1  \n",
       "4                    28.0                97.0          3  "
      ]
     },
     "execution_count": 10,
     "metadata": {},
     "output_type": "execute_result"
    }
   ],
   "source": [
    "orders.drop(['days_since_first_order', 'max_days'], axis=1, inplace=True)\n",
    "orders.head()"
   ]
  },
  {
   "cell_type": "code",
   "execution_count": 11,
   "metadata": {
    "collapsed": false
   },
   "outputs": [
    {
     "name": "stdout",
     "output_type": "stream",
     "text": [
      "add stats features begin ......\n",
      "add stats features end ......\n",
      "time lapsing 318.8975019454956 s \n",
      "\n"
     ]
    }
   ],
   "source": [
    "priors_orders_detail = orders.merge(right=priors, how='inner', on='order_id').merge(products[['product_id','aisle_id']], how = 'left', on = 'product_id')\n",
    "priors_orders_detail.loc[:,'user_buy_product_times'] = priors_orders_detail.groupby(['user_id', 'product_id']).cumcount() + 1\n",
    "priors_orders_detail.loc[:,'user_buy_category_times'] = priors_orders_detail.groupby(['user_id', 'aisle_id']).cumcount() + 1\n",
    "agg_dict = {'user_id':{'prod_total_cnt':'count'}, \n",
    "            'reordered':{'prod_reorder_total_cnt':'sum'}, \n",
    "            'user_buy_product_times': {'prod_user_cnt':lambda x: sum(x==1),\n",
    "                                        'prod_return_user_cnt':lambda x: sum(x==2)}}\n",
    "prd = ka_add_groupby_features_1_vs_n(priors_orders_detail, ['product_id'], agg_dict)\n",
    "\n",
    "prd['prod_user_reorder_ratio'] = prd.prod_return_user_cnt / prd.prod_user_cnt\n",
    "prd['prod_product_reorder_ratio'] = prd.prod_reorder_total_cnt / prd.prod_total_cnt"
   ]
  },
  {
   "cell_type": "code",
   "execution_count": 12,
   "metadata": {
    "collapsed": false
   },
   "outputs": [
    {
     "data": {
      "text/html": [
       "<div>\n",
       "<table border=\"1\" class=\"dataframe\">\n",
       "  <thead>\n",
       "    <tr style=\"text-align: right;\">\n",
       "      <th></th>\n",
       "      <th>product_id</th>\n",
       "      <th>prod_total_cnt</th>\n",
       "      <th>prod_reorder_total_cnt</th>\n",
       "      <th>prod_user_cnt</th>\n",
       "      <th>prod_return_user_cnt</th>\n",
       "      <th>prod_user_reorder_ratio</th>\n",
       "      <th>prod_product_reorder_ratio</th>\n",
       "    </tr>\n",
       "  </thead>\n",
       "  <tbody>\n",
       "    <tr>\n",
       "      <th>0</th>\n",
       "      <td>1</td>\n",
       "      <td>1852</td>\n",
       "      <td>1136.0</td>\n",
       "      <td>716</td>\n",
       "      <td>276</td>\n",
       "      <td>0.385475</td>\n",
       "      <td>0.613391</td>\n",
       "    </tr>\n",
       "    <tr>\n",
       "      <th>1</th>\n",
       "      <td>2</td>\n",
       "      <td>90</td>\n",
       "      <td>12.0</td>\n",
       "      <td>78</td>\n",
       "      <td>8</td>\n",
       "      <td>0.102564</td>\n",
       "      <td>0.133333</td>\n",
       "    </tr>\n",
       "    <tr>\n",
       "      <th>2</th>\n",
       "      <td>3</td>\n",
       "      <td>277</td>\n",
       "      <td>203.0</td>\n",
       "      <td>74</td>\n",
       "      <td>36</td>\n",
       "      <td>0.486486</td>\n",
       "      <td>0.732852</td>\n",
       "    </tr>\n",
       "    <tr>\n",
       "      <th>3</th>\n",
       "      <td>4</td>\n",
       "      <td>329</td>\n",
       "      <td>147.0</td>\n",
       "      <td>182</td>\n",
       "      <td>64</td>\n",
       "      <td>0.351648</td>\n",
       "      <td>0.446809</td>\n",
       "    </tr>\n",
       "    <tr>\n",
       "      <th>4</th>\n",
       "      <td>5</td>\n",
       "      <td>15</td>\n",
       "      <td>9.0</td>\n",
       "      <td>6</td>\n",
       "      <td>4</td>\n",
       "      <td>0.666667</td>\n",
       "      <td>0.600000</td>\n",
       "    </tr>\n",
       "  </tbody>\n",
       "</table>\n",
       "</div>"
      ],
      "text/plain": [
       "   product_id  prod_total_cnt  prod_reorder_total_cnt  prod_user_cnt  \\\n",
       "0           1            1852                  1136.0            716   \n",
       "1           2              90                    12.0             78   \n",
       "2           3             277                   203.0             74   \n",
       "3           4             329                   147.0            182   \n",
       "4           5              15                     9.0              6   \n",
       "\n",
       "   prod_return_user_cnt  prod_user_reorder_ratio  prod_product_reorder_ratio  \n",
       "0                   276                 0.385475                    0.613391  \n",
       "1                     8                 0.102564                    0.133333  \n",
       "2                    36                 0.486486                    0.732852  \n",
       "3                    64                 0.351648                    0.446809  \n",
       "4                     4                 0.666667                    0.600000  "
      ]
     },
     "execution_count": 12,
     "metadata": {},
     "output_type": "execute_result"
    }
   ],
   "source": [
    "prd.head()"
   ]
  },
  {
   "cell_type": "code",
   "execution_count": 13,
   "metadata": {
    "collapsed": false,
    "scrolled": true
   },
   "outputs": [
    {
     "data": {
      "text/html": [
       "<div>\n",
       "<table border=\"1\" class=\"dataframe\">\n",
       "  <thead>\n",
       "    <tr style=\"text-align: right;\">\n",
       "      <th></th>\n",
       "      <th>order_id</th>\n",
       "      <th>user_id</th>\n",
       "      <th>eval_set</th>\n",
       "      <th>order_number</th>\n",
       "      <th>order_dow</th>\n",
       "      <th>order_hour_of_day</th>\n",
       "      <th>days_since_prior_order</th>\n",
       "      <th>days_to_last_order</th>\n",
       "      <th>hod_group</th>\n",
       "      <th>product_id</th>\n",
       "      <th>add_to_cart_order</th>\n",
       "      <th>reordered</th>\n",
       "      <th>aisle_id</th>\n",
       "      <th>user_buy_product_times</th>\n",
       "      <th>user_buy_category_times</th>\n",
       "    </tr>\n",
       "  </thead>\n",
       "  <tbody>\n",
       "    <tr>\n",
       "      <th>0</th>\n",
       "      <td>2539329</td>\n",
       "      <td>1</td>\n",
       "      <td>prior</td>\n",
       "      <td>1</td>\n",
       "      <td>2</td>\n",
       "      <td>8</td>\n",
       "      <td>NaN</td>\n",
       "      <td>190.0</td>\n",
       "      <td>2</td>\n",
       "      <td>196</td>\n",
       "      <td>1</td>\n",
       "      <td>0</td>\n",
       "      <td>77</td>\n",
       "      <td>1</td>\n",
       "      <td>1</td>\n",
       "    </tr>\n",
       "    <tr>\n",
       "      <th>1</th>\n",
       "      <td>2539329</td>\n",
       "      <td>1</td>\n",
       "      <td>prior</td>\n",
       "      <td>1</td>\n",
       "      <td>2</td>\n",
       "      <td>8</td>\n",
       "      <td>NaN</td>\n",
       "      <td>190.0</td>\n",
       "      <td>2</td>\n",
       "      <td>14084</td>\n",
       "      <td>2</td>\n",
       "      <td>0</td>\n",
       "      <td>91</td>\n",
       "      <td>1</td>\n",
       "      <td>1</td>\n",
       "    </tr>\n",
       "    <tr>\n",
       "      <th>2</th>\n",
       "      <td>2539329</td>\n",
       "      <td>1</td>\n",
       "      <td>prior</td>\n",
       "      <td>1</td>\n",
       "      <td>2</td>\n",
       "      <td>8</td>\n",
       "      <td>NaN</td>\n",
       "      <td>190.0</td>\n",
       "      <td>2</td>\n",
       "      <td>12427</td>\n",
       "      <td>3</td>\n",
       "      <td>0</td>\n",
       "      <td>23</td>\n",
       "      <td>1</td>\n",
       "      <td>1</td>\n",
       "    </tr>\n",
       "    <tr>\n",
       "      <th>3</th>\n",
       "      <td>2539329</td>\n",
       "      <td>1</td>\n",
       "      <td>prior</td>\n",
       "      <td>1</td>\n",
       "      <td>2</td>\n",
       "      <td>8</td>\n",
       "      <td>NaN</td>\n",
       "      <td>190.0</td>\n",
       "      <td>2</td>\n",
       "      <td>26088</td>\n",
       "      <td>4</td>\n",
       "      <td>0</td>\n",
       "      <td>23</td>\n",
       "      <td>1</td>\n",
       "      <td>2</td>\n",
       "    </tr>\n",
       "    <tr>\n",
       "      <th>4</th>\n",
       "      <td>2539329</td>\n",
       "      <td>1</td>\n",
       "      <td>prior</td>\n",
       "      <td>1</td>\n",
       "      <td>2</td>\n",
       "      <td>8</td>\n",
       "      <td>NaN</td>\n",
       "      <td>190.0</td>\n",
       "      <td>2</td>\n",
       "      <td>26405</td>\n",
       "      <td>5</td>\n",
       "      <td>0</td>\n",
       "      <td>54</td>\n",
       "      <td>1</td>\n",
       "      <td>1</td>\n",
       "    </tr>\n",
       "  </tbody>\n",
       "</table>\n",
       "</div>"
      ],
      "text/plain": [
       "   order_id  user_id eval_set  order_number  order_dow  order_hour_of_day  \\\n",
       "0   2539329        1    prior             1          2                  8   \n",
       "1   2539329        1    prior             1          2                  8   \n",
       "2   2539329        1    prior             1          2                  8   \n",
       "3   2539329        1    prior             1          2                  8   \n",
       "4   2539329        1    prior             1          2                  8   \n",
       "\n",
       "   days_since_prior_order  days_to_last_order  hod_group  product_id  \\\n",
       "0                     NaN               190.0          2         196   \n",
       "1                     NaN               190.0          2       14084   \n",
       "2                     NaN               190.0          2       12427   \n",
       "3                     NaN               190.0          2       26088   \n",
       "4                     NaN               190.0          2       26405   \n",
       "\n",
       "   add_to_cart_order  reordered  aisle_id  user_buy_product_times  \\\n",
       "0                  1          0        77                       1   \n",
       "1                  2          0        91                       1   \n",
       "2                  3          0        23                       1   \n",
       "3                  4          0        23                       1   \n",
       "4                  5          0        54                       1   \n",
       "\n",
       "   user_buy_category_times  \n",
       "0                        1  \n",
       "1                        1  \n",
       "2                        1  \n",
       "3                        2  \n",
       "4                        1  "
      ]
     },
     "execution_count": 13,
     "metadata": {},
     "output_type": "execute_result"
    }
   ],
   "source": [
    "priors_orders_detail.head()"
   ]
  },
  {
   "cell_type": "markdown",
   "metadata": {},
   "source": [
    "# Product-Timeline feature engineering"
   ]
  },
  {
   "cell_type": "code",
   "execution_count": 24,
   "metadata": {
    "collapsed": false
   },
   "outputs": [
    {
     "name": "stdout",
     "output_type": "stream",
     "text": [
      "add stats features begin ......\n",
      "add stats features end ......\n",
      "time lapsing 11.197552919387817 s \n",
      "\n",
      "add stats features begin ......\n",
      "add stats features end ......\n",
      "time lapsing 11.516964197158813 s \n",
      "\n"
     ]
    }
   ],
   "source": [
    "agg_dict_8 = {'order_id':{'prod_cnt_by_hod':'count'}}\n",
    "prod_hod = ka_add_groupby_features_1_vs_n(priors_orders_detail, ['product_id', 'hod_group'], agg_dict_8)\n",
    "prod_hod = prod_hod.merge(prd[['product_id', 'prod_total_cnt']], on = 'product_id', how = 'left')\n",
    "prod_hod['prod_market_share_hod'] = prod_hod['prod_cnt_by_hod'] / prod_hod['prod_total_cnt']\n",
    "prod_hod.drop(['prod_cnt_by_hod', 'prod_total_cnt'], inplace = True, axis=1)\n",
    "\n",
    "agg_dict_9 = {'order_id':{'prod_cnt_by_dow':'count'}}\n",
    "prod_dow = ka_add_groupby_features_1_vs_n(priors_orders_detail, ['product_id', 'order_dow'], agg_dict_9)\n",
    "prod_dow = prod_dow.merge(prd[['product_id', 'prod_total_cnt']], on = 'product_id', how = 'left')\n",
    "prod_dow['prod_market_share_dow'] = prod_dow['prod_cnt_by_dow'] / prod_dow['prod_total_cnt']\n",
    "prod_dow.drop(['prod_cnt_by_dow', 'prod_total_cnt'], inplace = True, axis=1)"
   ]
  },
  {
   "cell_type": "code",
   "execution_count": 34,
   "metadata": {
    "collapsed": false
   },
   "outputs": [
    {
     "data": {
      "text/html": [
       "<div>\n",
       "<table border=\"1\" class=\"dataframe\">\n",
       "  <thead>\n",
       "    <tr style=\"text-align: right;\">\n",
       "      <th></th>\n",
       "      <th>product_id</th>\n",
       "      <th>hod_group</th>\n",
       "      <th>prod_market_share_hod</th>\n",
       "    </tr>\n",
       "  </thead>\n",
       "  <tbody>\n",
       "    <tr>\n",
       "      <th>0</th>\n",
       "      <td>1</td>\n",
       "      <td>0</td>\n",
       "      <td>0.019978</td>\n",
       "    </tr>\n",
       "    <tr>\n",
       "      <th>1</th>\n",
       "      <td>1</td>\n",
       "      <td>1</td>\n",
       "      <td>0.032937</td>\n",
       "    </tr>\n",
       "    <tr>\n",
       "      <th>2</th>\n",
       "      <td>1</td>\n",
       "      <td>2</td>\n",
       "      <td>0.315335</td>\n",
       "    </tr>\n",
       "    <tr>\n",
       "      <th>3</th>\n",
       "      <td>1</td>\n",
       "      <td>3</td>\n",
       "      <td>0.336393</td>\n",
       "    </tr>\n",
       "    <tr>\n",
       "      <th>4</th>\n",
       "      <td>1</td>\n",
       "      <td>4</td>\n",
       "      <td>0.212203</td>\n",
       "    </tr>\n",
       "  </tbody>\n",
       "</table>\n",
       "</div>"
      ],
      "text/plain": [
       "   product_id  hod_group  prod_market_share_hod\n",
       "0           1          0               0.019978\n",
       "1           1          1               0.032937\n",
       "2           1          2               0.315335\n",
       "3           1          3               0.336393\n",
       "4           1          4               0.212203"
      ]
     },
     "execution_count": 34,
     "metadata": {},
     "output_type": "execute_result"
    }
   ],
   "source": [
    "prod_hod.head()"
   ]
  },
  {
   "cell_type": "markdown",
   "metadata": {},
   "source": [
    "# Category feature engineering"
   ]
  },
  {
   "cell_type": "code",
   "execution_count": 16,
   "metadata": {
    "collapsed": false
   },
   "outputs": [
    {
     "name": "stdout",
     "output_type": "stream",
     "text": [
      "add stats features begin ......\n",
      "add stats features end ......\n",
      "time lapsing 295.7515540122986 s \n",
      "\n",
      "add stats features begin ......\n",
      "add stats features end ......\n",
      "time lapsing 13.978679895401001 s \n",
      "\n",
      "add stats features begin ......\n",
      "add stats features end ......\n",
      "time lapsing 0.8720319271087646 s \n",
      "\n"
     ]
    },
    {
     "data": {
      "text/html": [
       "<div>\n",
       "<table border=\"1\" class=\"dataframe\">\n",
       "  <thead>\n",
       "    <tr style=\"text-align: right;\">\n",
       "      <th></th>\n",
       "      <th>aisle_id</th>\n",
       "      <th>cat_total_bought_cnt</th>\n",
       "      <th>cat_reorder_total_cnt</th>\n",
       "      <th>cat_user_cnt</th>\n",
       "      <th>cat_return_user_cnt</th>\n",
       "      <th>cat_user_reorder_ratio</th>\n",
       "      <th>cat_product_reorder_ratio</th>\n",
       "      <th>cat_num_of_prods_a_user_buys_in_this_cat_mean</th>\n",
       "      <th>cat_num_of_prods_a_user_buys_in_this_cat_std</th>\n",
       "      <th>cat_num_of_prods_a_user_buys_in_this_cat_max</th>\n",
       "      <th>cat_num_of_prods_a_user_buys_in_this_cat_median</th>\n",
       "    </tr>\n",
       "  </thead>\n",
       "  <tbody>\n",
       "    <tr>\n",
       "      <th>0</th>\n",
       "      <td>1</td>\n",
       "      <td>71928</td>\n",
       "      <td>42912.0</td>\n",
       "      <td>20711</td>\n",
       "      <td>10885</td>\n",
       "      <td>0.525566</td>\n",
       "      <td>0.596597</td>\n",
       "      <td>3.472937</td>\n",
       "      <td>6.222165</td>\n",
       "      <td>254</td>\n",
       "      <td>2</td>\n",
       "    </tr>\n",
       "    <tr>\n",
       "      <th>1</th>\n",
       "      <td>2</td>\n",
       "      <td>82491</td>\n",
       "      <td>40365.0</td>\n",
       "      <td>31222</td>\n",
       "      <td>14935</td>\n",
       "      <td>0.478349</td>\n",
       "      <td>0.489326</td>\n",
       "      <td>2.642079</td>\n",
       "      <td>3.614434</td>\n",
       "      <td>111</td>\n",
       "      <td>1</td>\n",
       "    </tr>\n",
       "    <tr>\n",
       "      <th>2</th>\n",
       "      <td>3</td>\n",
       "      <td>456386</td>\n",
       "      <td>272922.0</td>\n",
       "      <td>63592</td>\n",
       "      <td>46666</td>\n",
       "      <td>0.733834</td>\n",
       "      <td>0.598007</td>\n",
       "      <td>7.176783</td>\n",
       "      <td>14.744941</td>\n",
       "      <td>585</td>\n",
       "      <td>3</td>\n",
       "    </tr>\n",
       "    <tr>\n",
       "      <th>3</th>\n",
       "      <td>4</td>\n",
       "      <td>200687</td>\n",
       "      <td>98243.0</td>\n",
       "      <td>53892</td>\n",
       "      <td>33716</td>\n",
       "      <td>0.625622</td>\n",
       "      <td>0.489533</td>\n",
       "      <td>3.723874</td>\n",
       "      <td>4.740843</td>\n",
       "      <td>86</td>\n",
       "      <td>2</td>\n",
       "    </tr>\n",
       "    <tr>\n",
       "      <th>4</th>\n",
       "      <td>5</td>\n",
       "      <td>62510</td>\n",
       "      <td>17542.0</td>\n",
       "      <td>32312</td>\n",
       "      <td>12655</td>\n",
       "      <td>0.391650</td>\n",
       "      <td>0.280627</td>\n",
       "      <td>1.934575</td>\n",
       "      <td>2.003322</td>\n",
       "      <td>60</td>\n",
       "      <td>1</td>\n",
       "    </tr>\n",
       "  </tbody>\n",
       "</table>\n",
       "</div>"
      ],
      "text/plain": [
       "   aisle_id  cat_total_bought_cnt  cat_reorder_total_cnt  cat_user_cnt  \\\n",
       "0         1                 71928                42912.0         20711   \n",
       "1         2                 82491                40365.0         31222   \n",
       "2         3                456386               272922.0         63592   \n",
       "3         4                200687                98243.0         53892   \n",
       "4         5                 62510                17542.0         32312   \n",
       "\n",
       "   cat_return_user_cnt  cat_user_reorder_ratio  cat_product_reorder_ratio  \\\n",
       "0                10885                0.525566                   0.596597   \n",
       "1                14935                0.478349                   0.489326   \n",
       "2                46666                0.733834                   0.598007   \n",
       "3                33716                0.625622                   0.489533   \n",
       "4                12655                0.391650                   0.280627   \n",
       "\n",
       "   cat_num_of_prods_a_user_buys_in_this_cat_mean  \\\n",
       "0                                       3.472937   \n",
       "1                                       2.642079   \n",
       "2                                       7.176783   \n",
       "3                                       3.723874   \n",
       "4                                       1.934575   \n",
       "\n",
       "   cat_num_of_prods_a_user_buys_in_this_cat_std  \\\n",
       "0                                      6.222165   \n",
       "1                                      3.614434   \n",
       "2                                     14.744941   \n",
       "3                                      4.740843   \n",
       "4                                      2.003322   \n",
       "\n",
       "   cat_num_of_prods_a_user_buys_in_this_cat_max  \\\n",
       "0                                           254   \n",
       "1                                           111   \n",
       "2                                           585   \n",
       "3                                            86   \n",
       "4                                            60   \n",
       "\n",
       "   cat_num_of_prods_a_user_buys_in_this_cat_median  \n",
       "0                                                2  \n",
       "1                                                1  \n",
       "2                                                3  \n",
       "3                                                2  \n",
       "4                                                1  "
      ]
     },
     "execution_count": 16,
     "metadata": {},
     "output_type": "execute_result"
    }
   ],
   "source": [
    "agg_dict_5 = {'user_id':{'cat_total_bought_cnt':'count'}, \n",
    "            'reordered':{'cat_reorder_total_cnt':'sum'}, \n",
    "            'user_buy_category_times': {'cat_user_cnt':lambda x: sum(x==1),\n",
    "                                        'cat_return_user_cnt':lambda x: sum(x==2)}}\n",
    "cat = ka_add_groupby_features_1_vs_n(priors_orders_detail, ['aisle_id'], agg_dict_5)\n",
    "\n",
    "cat['cat_user_reorder_ratio'] = cat.cat_return_user_cnt / cat.cat_user_cnt\n",
    "cat['cat_product_reorder_ratio'] = cat.cat_reorder_total_cnt / cat.cat_total_bought_cnt\n",
    "\n",
    "agg_dict_6 = {'user_buy_category_times':{'cat_user_bought_cnts':'max'}}\n",
    "cat_agg = ka_add_groupby_features_1_vs_n(priors_orders_detail, ['aisle_id', 'user_id'], agg_dict_6)\n",
    "\n",
    "agg_dict_7 = {'cat_user_bought_cnts':{'cat_num_of_prods_a_user_buys_in_this_cat_mean':'mean',\n",
    "                                     'cat_num_of_prods_a_user_buys_in_this_cat_std':'std',\n",
    "                                     'cat_num_of_prods_a_user_buys_in_this_cat_max':'max',\n",
    "                                     'cat_num_of_prods_a_user_buys_in_this_cat_median':'median'}}\n",
    "category_agg = ka_add_groupby_features_1_vs_n(cat_agg, ['aisle_id'], agg_dict_7)\n",
    "category = cat.merge(category_agg, on = 'aisle_id', how = 'left')\n",
    "category.head()"
   ]
  },
  {
   "cell_type": "markdown",
   "metadata": {},
   "source": [
    "# Product, product-timeline, category feature output"
   ]
  },
  {
   "cell_type": "code",
   "execution_count": 36,
   "metadata": {
    "collapsed": false,
    "scrolled": true
   },
   "outputs": [],
   "source": [
    "def output_feature(data, name):\n",
    "    for col in data.columns:\n",
    "        if data[col].dtypes == 'float64':\n",
    "            data[col] = data[col].astype('float32')\n",
    "        if data[col].dtypes == 'int64':\n",
    "            data[col] = data[col].astype('int32')\n",
    "    data.to_csv(os.path.join(root, 'feature_{}.csv'.format(name)), index = None)"
   ]
  },
  {
   "cell_type": "code",
   "execution_count": 37,
   "metadata": {
    "collapsed": false
   },
   "outputs": [],
   "source": [
    "output_feature(prd, 'prod')\n",
    "output_feature(prod_dow, 'prod_dow')\n",
    "output_feature(prod_hod, 'prod_hod')\n",
    "output_feature(category, 'category')"
   ]
  },
  {
   "cell_type": "code",
   "execution_count": 38,
   "metadata": {
    "collapsed": false
   },
   "outputs": [
    {
     "data": {
      "text/plain": [
       "885"
      ]
     },
     "execution_count": 38,
     "metadata": {},
     "output_type": "execute_result"
    }
   ],
   "source": [
    "del priors_orders_detail, orders\n",
    "gc.collect()"
   ]
  },
  {
   "cell_type": "code",
   "execution_count": null,
   "metadata": {
    "collapsed": false
   },
   "outputs": [],
   "source": []
  },
  {
   "cell_type": "code",
   "execution_count": null,
   "metadata": {
    "collapsed": false
   },
   "outputs": [],
   "source": []
  },
  {
   "cell_type": "code",
   "execution_count": null,
   "metadata": {
    "collapsed": true
   },
   "outputs": [],
   "source": []
  },
  {
   "cell_type": "code",
   "execution_count": null,
   "metadata": {
    "collapsed": false
   },
   "outputs": [],
   "source": []
  },
  {
   "cell_type": "code",
   "execution_count": null,
   "metadata": {
    "collapsed": true
   },
   "outputs": [],
   "source": []
  },
  {
   "cell_type": "code",
   "execution_count": null,
   "metadata": {
    "collapsed": true
   },
   "outputs": [],
   "source": []
  }
 ],
 "metadata": {
  "kernelspec": {
   "display_name": "Python 3",
   "language": "python",
   "name": "python3"
  },
  "language_info": {
   "codemirror_mode": {
    "name": "ipython",
    "version": 3
   },
   "file_extension": ".py",
   "mimetype": "text/x-python",
   "name": "python",
   "nbconvert_exporter": "python",
   "pygments_lexer": "ipython3",
   "version": "3.6.0"
  }
 },
 "nbformat": 4,
 "nbformat_minor": 2
}
