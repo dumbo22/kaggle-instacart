{
 "cells": [
  {
   "cell_type": "code",
   "execution_count": 1,
   "metadata": {
    "collapsed": true
   },
   "outputs": [],
   "source": [
    "import os\n",
    "\n",
    "root_paths = [\n",
    "    \"/data/kaggle-instacart\",\n",
    "    \"/Users/jiayou/Dropbox/珺珺的程序/Kaggle/Instacart\",\n",
    "    \"/Users/jiayou/Dropbox/Documents/珺珺的程序/Kaggle/Instacart\"\n",
    "]\n",
    "root = None\n",
    "for p in root_paths:\n",
    "    if os.path.exists(p):\n",
    "        root = p\n",
    "        break\n",
    "path = root\n",
    "sbpath = os.path.join(root, 'sb')"
   ]
  },
  {
   "cell_type": "code",
   "execution_count": 2,
   "metadata": {
    "collapsed": false
   },
   "outputs": [],
   "source": [
    "import pandas as pd\n",
    "import numpy as np\n",
    "\n",
    "gorders = pd.read_csv(os.path.join(path, \"orders.csv\"), dtype={'order_id': np.uint32,\n",
    "                                                              'user_id': np.uint32,\n",
    "                                                              'eval_set': 'category',\n",
    "                                                              'order_number': np.uint8,\n",
    "                                                              'order_dow': np.uint8,\n",
    "                                                              'order_hour_of_day': np.uint8\n",
    "                                                              })\n",
    "\n",
    "gorder_prior = pd.read_csv(os.path.join(path, \"order_products__prior.csv\"), dtype={'order_id': np.uint32,\n",
    "                                                                                  'product_id': np.uint16,\n",
    "                                                                                  'add_to_cart_order': np.uint8,\n",
    "                                                                                  'reordered': bool})\n",
    "gorder_prior = gorder_prior.merge(gorders[['order_id', 'user_id']], on='order_id', how='left')\n",
    "\n",
    "gorder_train = pd.read_csv(os.path.join(path, \"order_products__train.csv\"), dtype={'order_id': np.uint32,\n",
    "                                                                                  'product_id': np.uint16,\n",
    "                                                                                  'add_to_cart_order': np.uint8,\n",
    "                                                                                  'reordered': bool})\n",
    "gorder_train = gorder_train.merge(gorders[['order_id', 'user_id']], on='order_id', how='left')"
   ]
  },
  {
   "cell_type": "code",
   "execution_count": 3,
   "metadata": {
    "collapsed": true
   },
   "outputs": [],
   "source": [
    "def load(shard=0, nshards=1000):\n",
    "    global gorders, gorder_prior, gorder_train\n",
    "    orders = gorders.loc[gorders.user_id % nshards == shard, :]\n",
    "    order_prior = gorder_prior.loc[gorder_prior.user_id % nshards == shard, :]\n",
    "    order_prior.drop('user_id', inplace = True, axis=1)\n",
    "    order_train = gorder_train.loc[gorder_train.user_id % nshards == shard, :]\n",
    "    order_train.drop('user_id', inplace = True, axis=1)\n",
    "    return (orders, order_prior, order_train)"
   ]
  },
  {
   "cell_type": "code",
   "execution_count": null,
   "metadata": {
    "collapsed": true
   },
   "outputs": [],
   "source": []
  },
  {
   "cell_type": "code",
   "execution_count": 8,
   "metadata": {
    "collapsed": true
   },
   "outputs": [],
   "source": [
    "# user's product list\n",
    "\n",
    "import gc\n",
    "import pandas as pd\n",
    "import numpy as np\n",
    "import os\n",
    "\n",
    "def create_products():\n",
    "    orders, order_prior, order_train = load()\n",
    "\n",
    "    print('loaded')\n",
    "\n",
    "    orders = orders.loc[orders.eval_set == 'prior', :]\n",
    "    orders_user = orders[['order_id', 'user_id']]\n",
    "    labels = pd.merge(order_prior, orders_user, on='order_id')\n",
    "    labels = labels.loc[:, ['user_id', 'product_id']].drop_duplicates()\n",
    "\n",
    "    print('save')\n",
    "    print(labels.shape)\n",
    "    print(labels.columns)\n",
    "    labels.to_pickle('sb/previous_products.pkl')\n",
    "    return labels"
   ]
  },
  {
   "cell_type": "code",
   "execution_count": 9,
   "metadata": {
    "collapsed": false
   },
   "outputs": [
    {
     "name": "stdout",
     "output_type": "stream",
     "text": [
      "loaded\n",
      "save\n",
      "(14046, 2)\n",
      "Index(['user_id', 'product_id'], dtype='object')\n"
     ]
    },
    {
     "name": "stderr",
     "output_type": "stream",
     "text": [
      "/Users/jiayou/anaconda/lib/python3.6/site-packages/ipykernel/__main__.py:28: SettingWithCopyWarning: \n",
      "A value is trying to be set on a copy of a slice from a DataFrame\n",
      "\n",
      "See the caveats in the documentation: http://pandas.pydata.org/pandas-docs/stable/indexing.html#indexing-view-versus-copy\n",
      "/Users/jiayou/anaconda/lib/python3.6/site-packages/ipykernel/__main__.py:30: SettingWithCopyWarning: \n",
      "A value is trying to be set on a copy of a slice from a DataFrame\n",
      "\n",
      "See the caveats in the documentation: http://pandas.pydata.org/pandas-docs/stable/indexing.html#indexing-view-versus-copy\n"
     ]
    }
   ],
   "source": [
    "labels = create_products()"
   ]
  },
  {
   "cell_type": "code",
   "execution_count": null,
   "metadata": {
    "collapsed": false
   },
   "outputs": [],
   "source": []
  },
  {
   "cell_type": "code",
   "execution_count": 10,
   "metadata": {
    "collapsed": true
   },
   "outputs": [],
   "source": [
    "# abt skeleton without features\n",
    "\n",
    "import gc\n",
    "import pandas as pd\n",
    "import numpy as np\n",
    "import os\n",
    "\n",
    "def split_data_set():\n",
    "    path = root\n",
    "    folds = 1\n",
    "\n",
    "    aisles = pd.read_csv(os.path.join(path, \"aisles.csv\"), dtype={'aisle_id': np.uint8, 'aisle':'category'})\n",
    "    departments = pd.read_csv(os.path.join(path, \"departments.csv\"), dtype={'department_id':np.uint8, 'department': 'category'})\n",
    "    \n",
    "    orders, order_prior, order_train = load()\n",
    "\n",
    "    products = pd.read_csv(os.path.join(path, \"products.csv\"), dtype={'product_id': np.uint16,\n",
    "                                                                      'aisle_id': np.uint8,\n",
    "                                                                      'department_id': np.uint8})\n",
    "\n",
    "    labels = pd.read_pickle('sb/previous_products.pkl')\n",
    "    orders = orders.loc[(orders.eval_set == 'train') | (orders.eval_set == 'test'), :]\n",
    "    labels = pd.merge(labels, orders[['order_id', 'user_id', 'eval_set']], on='user_id').drop(['user_id'], axis=1)\n",
    "\n",
    "    order_train.drop(['add_to_cart_order'], axis=1, inplace=True)\n",
    "\n",
    "    print('data is loaded')\n",
    "\n",
    "    orders = np.unique(labels.order_id)\n",
    "\n",
    "    size = orders.shape[0] // folds\n",
    "\n",
    "    ret = []\n",
    "    for fold in range(folds):\n",
    "\n",
    "        current = orders[fold * size:(fold + 1) * size]\n",
    "\n",
    "        current = labels.loc[np.in1d(labels.order_id, current), :]\n",
    "\n",
    "        current = pd.merge(order_train, current, on=['order_id', 'product_id'], how='right')\n",
    "        current.reordered.fillna(False, inplace=True)\n",
    "        print(current.columns)\n",
    "        print(current.shape)\n",
    "\n",
    "        current.to_pickle('sb/chunk_{}.pkl'.format(fold))\n",
    "        ret.append(current)\n",
    "    return ret"
   ]
  },
  {
   "cell_type": "code",
   "execution_count": 11,
   "metadata": {
    "collapsed": false
   },
   "outputs": [
    {
     "name": "stderr",
     "output_type": "stream",
     "text": [
      "/Users/jiayou/anaconda/lib/python3.6/site-packages/ipykernel/__main__.py:28: SettingWithCopyWarning: \n",
      "A value is trying to be set on a copy of a slice from a DataFrame\n",
      "\n",
      "See the caveats in the documentation: http://pandas.pydata.org/pandas-docs/stable/indexing.html#indexing-view-versus-copy\n",
      "/Users/jiayou/anaconda/lib/python3.6/site-packages/ipykernel/__main__.py:30: SettingWithCopyWarning: \n",
      "A value is trying to be set on a copy of a slice from a DataFrame\n",
      "\n",
      "See the caveats in the documentation: http://pandas.pydata.org/pandas-docs/stable/indexing.html#indexing-view-versus-copy\n",
      "/Users/jiayou/anaconda/lib/python3.6/site-packages/ipykernel/__main__.py:25: SettingWithCopyWarning: \n",
      "A value is trying to be set on a copy of a slice from a DataFrame\n",
      "\n",
      "See the caveats in the documentation: http://pandas.pydata.org/pandas-docs/stable/indexing.html#indexing-view-versus-copy\n"
     ]
    },
    {
     "name": "stdout",
     "output_type": "stream",
     "text": [
      "data is loaded\n",
      "Index(['order_id', 'product_id', 'reordered', 'eval_set'], dtype='object')\n",
      "(14046, 4)\n"
     ]
    }
   ],
   "source": [
    "folds = split_data_set()"
   ]
  },
  {
   "cell_type": "code",
   "execution_count": null,
   "metadata": {
    "collapsed": false
   },
   "outputs": [],
   "source": []
  },
  {
   "cell_type": "code",
   "execution_count": 12,
   "metadata": {
    "collapsed": true
   },
   "outputs": [],
   "source": [
    "# intervals a user purchases a product\n",
    "\n",
    "import gc\n",
    "import pandas as pd\n",
    "import numpy as np\n",
    "import os\n",
    "import json\n",
    "import sklearn.metrics\n",
    "from sklearn.metrics import f1_score\n",
    "from sklearn.model_selection import train_test_split\n",
    "from scipy.sparse import dok_matrix, coo_matrix\n",
    "from sklearn.utils.multiclass import  type_of_target\n",
    "\n",
    "def orders_comsum():\n",
    "    path = root\n",
    "    sbpath = os.path.join(root, 'sb')\n",
    "\n",
    "    aisles = pd.read_csv(os.path.join(path, \"aisles.csv\"), dtype={'aisle_id': np.uint8, 'aisle': 'category'})\n",
    "    departments = pd.read_csv(os.path.join(path, \"departments.csv\"),\n",
    "                              dtype={'department_id': np.uint8, 'department': 'category'})\n",
    "    orders, order_prior, order_train = load()\n",
    "\n",
    "    products = pd.read_csv(os.path.join(path, \"products.csv\"), dtype={'product_id': np.uint16,\n",
    "                                                                      'aisle_id': np.uint8,\n",
    "                                                                      'department_id': np.uint8})\n",
    "\n",
    "    labels = pd.read_pickle(os.path.join(sbpath, 'chunk_0.pkl'))\n",
    "    user_product = pd.read_pickle(os.path.join(sbpath, 'previous_products.pkl'))\n",
    "\n",
    "    order_comsum = orders[['user_id', 'order_number', 'days_since_prior_order']].groupby(['user_id', 'order_number'])\\\n",
    "            ['days_since_prior_order'].sum().groupby(level=[0]).cumsum().reset_index().rename(columns={'days_since_prior_order':'days_since_prior_order_comsum'})\n",
    "\n",
    "    # order_comsum['days_since_prior_order_comsum'].fillna(0, inplace=True)\n",
    "    order_comsum.to_pickle('sb/orders_comsum.pkl')\n",
    "\n",
    "    order_comsum2 = pd.merge(order_comsum, orders, on=['user_id', 'order_number'])[['user_id', 'order_number', 'days_since_prior_order_comsum', 'order_id']]\n",
    "\n",
    "    order_product = pd.merge(order_prior, orders, on='order_id')[['order_id', 'product_id', 'eval_set']]\n",
    "    order_product_train_test = labels[['order_id', 'product_id', 'eval_set']]\n",
    "\n",
    "    order_product = pd.concat([order_product, order_product_train_test])\n",
    "\n",
    "    order_product = pd.merge(order_product, order_comsum2, on='order_id')\n",
    "\n",
    "    print(order_product.columns)\n",
    "\n",
    "    order_product = pd.merge(order_product, user_product, on=['user_id', 'product_id'])\n",
    "\n",
    "    temp = order_product.groupby(['user_id', 'product_id', 'order_number'])['days_since_prior_order_comsum'].sum().groupby(level=[0, 1]).apply(lambda x: np.diff(np.nan_to_num(x)))\n",
    "    temp = temp.to_frame('periods').reset_index()\n",
    "\n",
    "    temp.to_pickle('sb/product_period.pkl')\n",
    "\n",
    "    aggregated = temp.copy()\n",
    "    aggregated['last'] = aggregated.periods.apply(lambda x: x[-1])\n",
    "    aggregated['prev1'] = aggregated.periods.apply(lambda x: x[-2] if len(x) > 1 else np.nan)\n",
    "    aggregated['prev2'] = aggregated.periods.apply(lambda x: x[-3] if len(x) > 2 else np.nan)\n",
    "    aggregated['median'] = aggregated.periods.apply(lambda x: np.median(x[:-1]))\n",
    "    aggregated['mean'] = aggregated.periods.apply(lambda x: np.mean(x[:-1]))\n",
    "    aggregated.drop('periods', axis=1, inplace=True)\n",
    "\n",
    "    aggregated.to_pickle('sb/product_periods_stat.pkl')\n",
    "    \n",
    "    return (order_comsum, temp, aggregated)"
   ]
  },
  {
   "cell_type": "code",
   "execution_count": 13,
   "metadata": {
    "collapsed": false
   },
   "outputs": [
    {
     "name": "stderr",
     "output_type": "stream",
     "text": [
      "/Users/jiayou/anaconda/lib/python3.6/site-packages/ipykernel/__main__.py:28: SettingWithCopyWarning: \n",
      "A value is trying to be set on a copy of a slice from a DataFrame\n",
      "\n",
      "See the caveats in the documentation: http://pandas.pydata.org/pandas-docs/stable/indexing.html#indexing-view-versus-copy\n",
      "/Users/jiayou/anaconda/lib/python3.6/site-packages/ipykernel/__main__.py:30: SettingWithCopyWarning: \n",
      "A value is trying to be set on a copy of a slice from a DataFrame\n",
      "\n",
      "See the caveats in the documentation: http://pandas.pydata.org/pandas-docs/stable/indexing.html#indexing-view-versus-copy\n"
     ]
    },
    {
     "name": "stdout",
     "output_type": "stream",
     "text": [
      "Index(['order_id', 'product_id', 'eval_set', 'user_id', 'order_number',\n",
      "       'days_since_prior_order_comsum'],\n",
      "      dtype='object')\n"
     ]
    },
    {
     "name": "stderr",
     "output_type": "stream",
     "text": [
      "/Users/jiayou/anaconda/lib/python3.6/site-packages/numpy/core/fromnumeric.py:2909: RuntimeWarning: Mean of empty slice.\n",
      "  out=out, **kwargs)\n"
     ]
    }
   ],
   "source": [
    "oc = orders_comsum()"
   ]
  },
  {
   "cell_type": "code",
   "execution_count": null,
   "metadata": {
    "collapsed": false
   },
   "outputs": [],
   "source": []
  },
  {
   "cell_type": "code",
   "execution_count": 21,
   "metadata": {
    "collapsed": true
   },
   "outputs": [],
   "source": [
    "# user_dep_stat and user_aisle_stat\n",
    "\n",
    "import gc\n",
    "import pandas as pd\n",
    "import numpy as np\n",
    "import os\n",
    "import json\n",
    "import sklearn.metrics\n",
    "from sklearn.metrics import f1_score\n",
    "from sklearn.model_selection import train_test_split\n",
    "from scipy.sparse import dok_matrix, coo_matrix\n",
    "from sklearn.utils.multiclass import  type_of_target\n",
    "\n",
    "def user_product_rank():\n",
    "    path = root\n",
    "    sbpath = os.path.join(root, 'sb')\n",
    "\n",
    "    aisles = pd.read_csv(os.path.join(path, \"aisles.csv\"), dtype={'aisle_id': np.uint8, 'aisle': 'category'})\n",
    "    departments = pd.read_csv(os.path.join(path, \"departments.csv\"),\n",
    "                              dtype={'department_id': np.uint8, 'department': 'category'})\n",
    "\n",
    "    orders, order_prior, order_train = load()\n",
    "\n",
    "    products = pd.read_csv(os.path.join(path, \"products.csv\"), dtype={'product_id': np.uint16,\n",
    "                                                                      'aisle_id': np.uint8,\n",
    "                                                                      'department_id': np.uint8})\n",
    "\n",
    "    order_train = pd.read_pickle(os.path.join(sbpath, 'chunk_0.pkl'))\n",
    "\n",
    "    \n",
    "    orders_products = pd.merge(orders, order_prior, on=\"order_id\")\n",
    "\n",
    "    orders_products_products = pd.merge(orders_products, products[['product_id', 'department_id', 'aisle_id']],\n",
    "                                        on='product_id')\n",
    "\n",
    "    user_dep_stat = orders_products_products.groupby(['user_id', 'department_id']).agg(\n",
    "        {'product_id': lambda x: x.nunique(),\n",
    "         'reordered': 'sum'\n",
    "         })\n",
    "    user_dep_stat.rename(columns={'product_id': 'dep_products',\n",
    "                                  'reordered': 'dep_reordered'}, inplace=True)\n",
    "    user_dep_stat.reset_index(inplace=True)\n",
    "    print(user_dep_stat.columns)\n",
    "    user_dep_stat.to_pickle('sb/user_department_products.pkl')\n",
    "\n",
    "    user_aisle_stat = orders_products_products.groupby(['user_id', 'aisle_id']).agg(\n",
    "        {'product_id': lambda x: x.nunique(),\n",
    "         'reordered': 'sum'\n",
    "         })\n",
    "    user_aisle_stat.rename(columns={'product_id': 'aisle_products',\n",
    "                                    'reordered': 'aisle_reordered'}, inplace=True)\n",
    "    user_aisle_stat.reset_index(inplace=True)\n",
    "    print(user_aisle_stat.columns)\n",
    "    user_aisle_stat.to_pickle('sb/user_aisle_products.pkl')\n",
    "    \n",
    "    return (user_dep_stat, user_aisle_stat)"
   ]
  },
  {
   "cell_type": "code",
   "execution_count": 22,
   "metadata": {
    "collapsed": false
   },
   "outputs": [
    {
     "name": "stderr",
     "output_type": "stream",
     "text": [
      "/Users/jiayou/anaconda/lib/python3.6/site-packages/ipykernel/__main__.py:28: SettingWithCopyWarning: \n",
      "A value is trying to be set on a copy of a slice from a DataFrame\n",
      "\n",
      "See the caveats in the documentation: http://pandas.pydata.org/pandas-docs/stable/indexing.html#indexing-view-versus-copy\n",
      "/Users/jiayou/anaconda/lib/python3.6/site-packages/ipykernel/__main__.py:30: SettingWithCopyWarning: \n",
      "A value is trying to be set on a copy of a slice from a DataFrame\n",
      "\n",
      "See the caveats in the documentation: http://pandas.pydata.org/pandas-docs/stable/indexing.html#indexing-view-versus-copy\n"
     ]
    },
    {
     "name": "stdout",
     "output_type": "stream",
     "text": [
      "Index(['user_id', 'department_id', 'dep_products', 'dep_reordered'], dtype='object')\n",
      "Index(['user_id', 'aisle_id', 'aisle_products', 'aisle_reordered'], dtype='object')\n"
     ]
    }
   ],
   "source": [
    "upr = user_product_rank()"
   ]
  },
  {
   "cell_type": "code",
   "execution_count": null,
   "metadata": {
    "collapsed": true
   },
   "outputs": [],
   "source": []
  },
  {
   "cell_type": "code",
   "execution_count": null,
   "metadata": {
    "collapsed": true
   },
   "outputs": [],
   "source": []
  },
  {
   "cell_type": "code",
   "execution_count": null,
   "metadata": {
    "collapsed": true
   },
   "outputs": [],
   "source": []
  },
  {
   "cell_type": "code",
   "execution_count": null,
   "metadata": {
    "collapsed": true
   },
   "outputs": [],
   "source": []
  }
 ],
 "metadata": {
  "kernelspec": {
   "display_name": "Python 3",
   "language": "python",
   "name": "python3"
  },
  "language_info": {
   "codemirror_mode": {
    "name": "ipython",
    "version": 3
   },
   "file_extension": ".py",
   "mimetype": "text/x-python",
   "name": "python",
   "nbconvert_exporter": "python",
   "pygments_lexer": "ipython3",
   "version": "3.6.0"
  }
 },
 "nbformat": 4,
 "nbformat_minor": 2
}
