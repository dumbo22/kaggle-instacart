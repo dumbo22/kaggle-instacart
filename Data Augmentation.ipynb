{
 "cells": [
  {
   "cell_type": "markdown",
   "metadata": {},
   "source": [
    "![img](https://www.artetrama.com/uploads/articles/andy-warhol-marilyn-series.jpeg)"
   ]
  },
  {
   "cell_type": "code",
   "execution_count": 1,
   "metadata": {
    "collapsed": false
   },
   "outputs": [],
   "source": [
    "import numpy as np\n",
    "import pandas as pd\n",
    "import matplotlib.pyplot as plt\n",
    "%matplotlib inline\n",
    "\n",
    "import sys, os, gc, types\n",
    "import time\n",
    "import math"
   ]
  },
  {
   "cell_type": "code",
   "execution_count": 2,
   "metadata": {
    "collapsed": false
   },
   "outputs": [],
   "source": [
    "root_paths = [\n",
    "    \"/data/kaggle-instacart/\",\n",
    "    \"/Users/jiayou/Dropbox/珺珺的程序/Kaggle/Instacart/\",\n",
    "    \"/Users/jiayou/Dropbox/Documents/珺珺的程序/Kaggle/Instacart/\"\n",
    "]\n",
    "root = None\n",
    "for p in root_paths:\n",
    "    if os.path.exists(p):\n",
    "        root = p\n",
    "        break"
   ]
  },
  {
   "cell_type": "code",
   "execution_count": 3,
   "metadata": {
    "collapsed": true
   },
   "outputs": [],
   "source": [
    "def load_data(path_data):\n",
    "    priors = pd.read_csv(path_data + 'order_products__prior.csv', \n",
    "                     dtype={\n",
    "                            'order_id': np.int32,\n",
    "                            'product_id': np.uint16,\n",
    "                            'add_to_cart_order': np.int16,\n",
    "                            'reordered': np.int8})\n",
    "    train = pd.read_csv(path_data + 'order_products__train.csv', \n",
    "                    dtype={\n",
    "                            'order_id': np.int32,\n",
    "                            'product_id': np.uint16,\n",
    "                            'add_to_cart_order': np.int16,\n",
    "                            'reordered': np.int8})\n",
    "    orders = pd.read_csv(path_data + 'orders.csv', \n",
    "                         dtype={\n",
    "                                'order_id': np.int32,\n",
    "                                'user_id': np.int64,\n",
    "                                'eval_set': 'category',\n",
    "                                'order_number': np.int16,\n",
    "                                'order_dow': np.int8,\n",
    "                                'order_hour_of_day': np.int8,\n",
    "                                'days_since_prior_order': np.float32})    \n",
    "    return priors, train, orders"
   ]
  },
  {
   "cell_type": "code",
   "execution_count": 4,
   "metadata": {
    "collapsed": false
   },
   "outputs": [],
   "source": [
    "da_start = 4\n",
    "da_step = 1\n",
    "n_shards = 4\n",
    "shard = 0"
   ]
  },
  {
   "cell_type": "code",
   "execution_count": 5,
   "metadata": {
    "collapsed": false
   },
   "outputs": [],
   "source": [
    "priors, train, orders = load_data(root)"
   ]
  },
  {
   "cell_type": "code",
   "execution_count": 6,
   "metadata": {
    "collapsed": false
   },
   "outputs": [
    {
     "data": {
      "text/plain": [
       "7"
      ]
     },
     "execution_count": 6,
     "metadata": {},
     "output_type": "execute_result"
    }
   ],
   "source": [
    "priors = priors.merge(orders[['order_id', 'user_id']], on='order_id', how='left')\n",
    "train = train.merge(orders[['order_id', 'user_id']], on='order_id', how='left')\n",
    "    \n",
    "orders = orders[orders.user_id % n_shards == shard]\n",
    "priors = priors[priors.user_id % n_shards == shard]\n",
    "train = train[train.user_id % n_shards == shard]\n",
    "\n",
    "priors.drop('user_id', inplace = True, axis=1)\n",
    "train.drop('user_id', inplace = True, axis=1)\n",
    "\n",
    "priors = priors.set_index('order_id', drop=False)\n",
    "gc.collect()"
   ]
  },
  {
   "cell_type": "code",
   "execution_count": null,
   "metadata": {
    "collapsed": true
   },
   "outputs": [],
   "source": [
    "\n"
   ]
  },
  {
   "cell_type": "code",
   "execution_count": 7,
   "metadata": {
    "collapsed": false
   },
   "outputs": [],
   "source": [
    "def gen_id():\n",
    "    n = int(1e8) + shard\n",
    "    while True:\n",
    "        yield n\n",
    "        n += n_shards\n",
    "gid = gen_id()"
   ]
  },
  {
   "cell_type": "code",
   "execution_count": 33,
   "metadata": {
    "collapsed": true
   },
   "outputs": [],
   "source": [
    "def copy_order_products(old_oid, new_oid, results):\n",
    "    data = priors.loc[old_oid, :]\n",
    "    if type(data) == pd.core.series.Series:\n",
    "        r = data.to_dict()\n",
    "        r['order_id'] = new_oid\n",
    "        results.append(r)\n",
    "    else:\n",
    "        for index, row in data.iterrows():\n",
    "            r = row.to_dict()\n",
    "            r['order_id'] = new_oid\n",
    "            results.append(r)\n",
    "        "
   ]
  },
  {
   "cell_type": "code",
   "execution_count": 44,
   "metadata": {
    "collapsed": false,
    "scrolled": true
   },
   "outputs": [],
   "source": [
    "class Timeit:\n",
    "    def __init__(self, process_name, verbose=1):\n",
    "        self.process_name = process_name\n",
    "        self.verbose = verbose\n",
    "    def __enter__(self):\n",
    "        if self.verbose:\n",
    "            print(self.process_name + \" starts...\")\n",
    "            self.begin_time = time.time()\n",
    "    def __exit__(self, type, value, traceback):\n",
    "        if self.verbose:\n",
    "            end_time = time.time()\n",
    "            # print(self.process_name + \" ended.\")\n",
    "            print('{}: {:.2f}s'.format(self.process_name, end_time - self.begin_time))\n",
    "\n",
    "aug_orders = []\n",
    "aug_priors = []\n",
    "aug_train = []\n",
    "\n",
    "cur_microshard = 0\n",
    "\n",
    "def save_microshard():\n",
    "    global aug_orders\n",
    "    global aug_priors\n",
    "    global aug_train\n",
    "    global cur_microshard\n",
    "    with Timeit('mk df'):\n",
    "        priors_df = pd.DataFrame(aug_priors)\n",
    "        train_df = pd.DataFrame(aug_train)\n",
    "        orders_df = pd.DataFrame(aug_orders)\n",
    "    \n",
    "    with Timeit('to csv'):\n",
    "        priors_df.to_csv(os.path.join(root, 'aug', 'order_products__prior.aug{}-{}.csv'.format(shard, cur_microshard)), index = False)\n",
    "        train_df.to_csv(os.path.join(root, 'aug', 'order_products__train.aug{}-{}.csv'.format(shard, cur_microshard)), index = False)\n",
    "        orders_df.to_csv(os.path.join(root, 'aug', 'orders.aug{}-{}.csv'.format(shard, cur_microshard)), index = False)\n",
    "    \n",
    "    cur_microshard += 1\n",
    "    \n",
    "    aug_orders = []\n",
    "    aug_priors = []\n",
    "    aug_train = []\n",
    "    \n",
    "\n",
    "cnt = 0\n",
    "n_user = orders.user_id.nunique()\n",
    "start_time = time.time()\n",
    "\n",
    "for _, group in orders.groupby('user_id'):\n",
    "    group = group.sort_values(by='order_number')\n",
    "    cur_priors = []\n",
    "    for _, row in group.iterrows():\n",
    "        if row.order_number >= da_start \\\n",
    "                and row.order_number < len(group) \\\n",
    "                and (row.order_number - da_start) % da_step == 0:\n",
    "            user_id = next(gid)\n",
    "            order_id = next(gid)\n",
    "            \n",
    "            for order in cur_priors:\n",
    "                od = dict(order)\n",
    "                od['order_id'] = next(gid)\n",
    "                od['user_id'] = user_id\n",
    "                aug_orders.append(od)\n",
    "                \n",
    "                copy_order_products(order['order_id'], od['order_id'], aug_priors)\n",
    "            \n",
    "            od = row.to_dict()\n",
    "            od['user_id'] = user_id\n",
    "            od['order_id'] = order_id\n",
    "            od['eval_set'] = 'train'\n",
    "            aug_orders.append(od)\n",
    "            \n",
    "            copy_order_products(row.order_id, order_id, aug_train)\n",
    "            \n",
    "        cur_priors.append(row.to_dict())\n",
    "        \n",
    "    cnt += 1\n",
    "    if cnt % 100 == 0:\n",
    "        remaining_time = (time.time() - start_time) / cnt * (n_user - cnt)\n",
    "        print(\"{} users processed\\t{:.2f}s remaining\".format(cnt, remaining_time))\n",
    "        \n",
    "    if cnt % 1000 == 0:\n",
    "        save_microshard()\n",
    "        with Timeit('gc'):\n",
    "            gc.collect()\n",
    "\n",
    "if cnt % 1000 != 0:\n",
    "    save_microshard()\n",
    "    gc.collect()\n",
    "    \n",
    "print(\"{} users processed\\nDone\".format(cnt))"
   ]
  },
  {
   "cell_type": "code",
   "execution_count": null,
   "metadata": {
    "collapsed": false,
    "scrolled": false
   },
   "outputs": [],
   "source": []
  },
  {
   "cell_type": "code",
   "execution_count": null,
   "metadata": {
    "collapsed": true
   },
   "outputs": [],
   "source": []
  },
  {
   "cell_type": "code",
   "execution_count": null,
   "metadata": {
    "collapsed": true
   },
   "outputs": [],
   "source": []
  },
  {
   "cell_type": "markdown",
   "metadata": {},
   "source": [
    "----\n",
    "\n",
    "# Explore"
   ]
  },
  {
   "cell_type": "code",
   "execution_count": 73,
   "metadata": {
    "collapsed": false
   },
   "outputs": [
    {
     "data": {
      "text/plain": [
       "2596247"
      ]
     },
     "execution_count": 73,
     "metadata": {},
     "output_type": "execute_result"
    }
   ],
   "source": [
    "import math\n",
    "da_nnew_order = np.array([math.ceil((x - da_start) / da_step) for x in orders.groupby('user_id').order_id.count()]).sum()\n",
    "da_nnew_order"
   ]
  },
  {
   "cell_type": "code",
   "execution_count": 59,
   "metadata": {
    "collapsed": false
   },
   "outputs": [
    {
     "data": {
      "text/plain": [
       "eval_set\n",
       "prior    3214874\n",
       "test       75000\n",
       "train     131209\n",
       "Name: order_id, dtype: int64"
      ]
     },
     "execution_count": 59,
     "metadata": {},
     "output_type": "execute_result"
    }
   ],
   "source": [
    "orders.groupby('eval_set')['order_id'].count()"
   ]
  },
  {
   "cell_type": "code",
   "execution_count": 55,
   "metadata": {
    "collapsed": false
   },
   "outputs": [
    {
     "data": {
      "text/plain": [
       "3421083"
      ]
     },
     "execution_count": 55,
     "metadata": {},
     "output_type": "execute_result"
    }
   ],
   "source": [
    "orders.groupby('user_id').order_id.count().sum()"
   ]
  },
  {
   "cell_type": "code",
   "execution_count": 32,
   "metadata": {
    "collapsed": false
   },
   "outputs": [
    {
     "data": {
      "text/plain": [
       "{'add_to_cart_order': 1, 'order_id': 1, 'product_id': 49302, 'reordered': 1}"
      ]
     },
     "execution_count": 32,
     "metadata": {},
     "output_type": "execute_result"
    }
   ],
   "source": [
    "train.iloc[0].to_dict() #.memory_usage(deep=True)"
   ]
  },
  {
   "cell_type": "code",
   "execution_count": 53,
   "metadata": {
    "collapsed": false
   },
   "outputs": [
    {
     "data": {
      "text/plain": [
       "True"
      ]
     },
     "execution_count": 53,
     "metadata": {},
     "output_type": "execute_result"
    }
   ],
   "source": [
    "type(orders.loc[0]) == pd.core.series.Series"
   ]
  },
  {
   "cell_type": "code",
   "execution_count": 7,
   "metadata": {
    "collapsed": false
   },
   "outputs": [
    {
     "data": {
      "text/plain": [
       "206209"
      ]
     },
     "execution_count": 7,
     "metadata": {},
     "output_type": "execute_result"
    }
   ],
   "source": [
    "orders.user_id.nunique()"
   ]
  },
  {
   "cell_type": "code",
   "execution_count": 46,
   "metadata": {
    "collapsed": false
   },
   "outputs": [],
   "source": [
    "uocnt = orders.groupby('user_id').agg({'order_number': {'user_order_cnt': 'max'}})\n",
    "uocnt.columns = uocnt.columns.droplevel(0)\n",
    "uocnt.reset_index(inplace=True, drop=False)\n",
    "\n",
    "odf = priors.groupby('order_id').count().reset_index(drop=False)[['order_id', 'product_id']]\n",
    "odf['prod_cnt'] = odf.product_id\n",
    "odf = odf.merge(orders[['order_id', 'user_id', 'order_number']], how='left', on='order_id')\n",
    "odf = odf.merge(uocnt, how='left', on='user_id')\n",
    "odf.drop(['product_id', 'user_id'], axis=1, inplace=True)"
   ]
  },
  {
   "cell_type": "code",
   "execution_count": 47,
   "metadata": {
    "collapsed": false
   },
   "outputs": [
    {
     "data": {
      "text/html": [
       "<div>\n",
       "<table border=\"1\" class=\"dataframe\">\n",
       "  <thead>\n",
       "    <tr style=\"text-align: right;\">\n",
       "      <th></th>\n",
       "      <th>order_id</th>\n",
       "      <th>prod_cnt</th>\n",
       "      <th>order_number</th>\n",
       "      <th>user_order_cnt</th>\n",
       "    </tr>\n",
       "  </thead>\n",
       "  <tbody>\n",
       "    <tr>\n",
       "      <th>0</th>\n",
       "      <td>4</td>\n",
       "      <td>13</td>\n",
       "      <td>36</td>\n",
       "      <td>57</td>\n",
       "    </tr>\n",
       "    <tr>\n",
       "      <th>1</th>\n",
       "      <td>6</td>\n",
       "      <td>3</td>\n",
       "      <td>4</td>\n",
       "      <td>9</td>\n",
       "    </tr>\n",
       "    <tr>\n",
       "      <th>2</th>\n",
       "      <td>9</td>\n",
       "      <td>15</td>\n",
       "      <td>14</td>\n",
       "      <td>24</td>\n",
       "    </tr>\n",
       "    <tr>\n",
       "      <th>3</th>\n",
       "      <td>16</td>\n",
       "      <td>3</td>\n",
       "      <td>18</td>\n",
       "      <td>20</td>\n",
       "    </tr>\n",
       "    <tr>\n",
       "      <th>4</th>\n",
       "      <td>18</td>\n",
       "      <td>28</td>\n",
       "      <td>3</td>\n",
       "      <td>48</td>\n",
       "    </tr>\n",
       "  </tbody>\n",
       "</table>\n",
       "</div>"
      ],
      "text/plain": [
       "   order_id  prod_cnt  order_number  user_order_cnt\n",
       "0         4        13            36              57\n",
       "1         6         3             4               9\n",
       "2         9        15            14              24\n",
       "3        16         3            18              20\n",
       "4        18        28             3              48"
      ]
     },
     "execution_count": 47,
     "metadata": {},
     "output_type": "execute_result"
    }
   ],
   "source": [
    "odf.head()"
   ]
  },
  {
   "cell_type": "code",
   "execution_count": 38,
   "metadata": {
    "collapsed": false
   },
   "outputs": [
    {
     "data": {
      "text/plain": [
       "516048640"
      ]
     },
     "execution_count": 38,
     "metadata": {},
     "output_type": "execute_result"
    }
   ],
   "source": [
    "n_new_priors = np.multiply((odf.user_order_cnt - odf.order_number - 1), odf.prod_cnt).sum()\n",
    "n_new_priors"
   ]
  },
  {
   "cell_type": "code",
   "execution_count": 48,
   "metadata": {
    "collapsed": false
   },
   "outputs": [
    {
     "data": {
      "text/plain": [
       "4"
      ]
     },
     "execution_count": 48,
     "metadata": {},
     "output_type": "execute_result"
    }
   ],
   "source": [
    "orders.user_id.min()"
   ]
  },
  {
   "cell_type": "code",
   "execution_count": null,
   "metadata": {
    "collapsed": true
   },
   "outputs": [],
   "source": []
  }
 ],
 "metadata": {
  "kernelspec": {
   "display_name": "Python 3",
   "language": "python",
   "name": "python3"
  },
  "language_info": {
   "codemirror_mode": {
    "name": "ipython",
    "version": 3
   },
   "file_extension": ".py",
   "mimetype": "text/x-python",
   "name": "python",
   "nbconvert_exporter": "python",
   "pygments_lexer": "ipython3",
   "version": "3.6.0"
  }
 },
 "nbformat": 4,
 "nbformat_minor": 2
}
