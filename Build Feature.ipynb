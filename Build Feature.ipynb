{
 "cells": [
  {
   "cell_type": "markdown",
   "metadata": {},
   "source": [
    "# Feature engineering"
   ]
  },
  {
   "cell_type": "code",
   "execution_count": 1,
   "metadata": {
    "collapsed": false
   },
   "outputs": [],
   "source": [
    "import numpy as np\n",
    "import pandas as pd\n",
    "import matplotlib.pyplot as plt\n",
    "import seaborn as sns\n",
    "color = sns.color_palette()\n",
    "%matplotlib inline\n",
    "\n",
    "import xgboost\n",
    "\n",
    "import sklearn\n",
    "from sklearn.model_selection import train_test_split "
   ]
  },
  {
   "cell_type": "code",
   "execution_count": 2,
   "metadata": {
    "collapsed": false
   },
   "outputs": [
    {
     "name": "stdout",
     "output_type": "stream",
     "text": [
      "Build Feature.ipynb\n",
      "Instacart Data Exploration.ipynb\n",
      "README.md\n",
      "Sample Train.ipynb\n",
      "Tasks.ipynb\n",
      "Toy DF.ipynb\n",
      "aisles.csv\n",
      "departments.csv\n",
      "order_products__prior.csv\n",
      "order_products__train.csv\n",
      "orders.csv\n",
      "products.csv\n",
      "sample_submission.csv\n",
      "sample_train_submission.csv\n",
      "training-logs\n",
      "\n"
     ]
    }
   ],
   "source": [
    "import gc\n",
    "import time\n",
    "from subprocess import check_output\n",
    "print(check_output([\"ls\", \"/Users/jiayou/Dropbox/珺珺的程序/Kaggle/Instacart\"]).decode(\"utf8\"))"
   ]
  },
  {
   "cell_type": "code",
   "execution_count": 3,
   "metadata": {
    "collapsed": true
   },
   "outputs": [],
   "source": [
    "def load_data(path_data):\n",
    "    priors = pd.read_csv(path_data + 'order_products__prior.csv', \n",
    "                     dtype={\n",
    "                            'order_id': np.int32,\n",
    "                            'product_id': np.uint16,\n",
    "                            'add_to_cart_order': np.int16,\n",
    "                            'reordered': np.int8})\n",
    "    train = pd.read_csv(path_data + 'order_products__train.csv', \n",
    "                    dtype={\n",
    "                            'order_id': np.int32,\n",
    "                            'product_id': np.uint16,\n",
    "                            'add_to_cart_order': np.int16,\n",
    "                            'reordered': np.int8})\n",
    "    orders = pd.read_csv(path_data + 'orders.csv', \n",
    "                         dtype={\n",
    "                                'order_id': np.int32,\n",
    "                                'user_id': np.int64,\n",
    "                                'eval_set': 'category',\n",
    "                                'order_number': np.int16,\n",
    "                                'order_dow': np.int8,\n",
    "                                'order_hour_of_day': np.int8,\n",
    "                                'days_since_prior_order': np.float32})\n",
    "    \n",
    "    products = pd.read_csv(path_data + 'products.csv')\n",
    "    aisles = pd.read_csv(path_data + \"aisles.csv\")\n",
    "    departments = pd.read_csv(path_data + \"departments.csv\")\n",
    "    sample_submission = pd.read_csv(path_data + \"sample_submission.csv\")\n",
    "    \n",
    "    return priors, train, orders, products, aisles, departments, sample_submission\n",
    "\n",
    "# orders_df and order_products__prior/train_df shares the 'order_id'\n",
    "# order_products__prior/train_df and products_df shares the 'product_id'\n",
    "# products_df and aisles_df shares the 'aisles_id'\n",
    "# products_df and departments_df shares the 'department id'"
   ]
  },
  {
   "cell_type": "code",
   "execution_count": 4,
   "metadata": {
    "collapsed": false
   },
   "outputs": [],
   "source": [
    "class tick_tock:\n",
    "    def __init__(self, process_name, verbose=1):\n",
    "        self.process_name = process_name\n",
    "        self.verbose = verbose\n",
    "    def __enter__(self):\n",
    "        if self.verbose:\n",
    "            print(self.process_name + \" begin ......\")\n",
    "            self.begin_time = time.time()\n",
    "    def __exit__(self, type, value, traceback):\n",
    "        if self.verbose:\n",
    "            end_time = time.time()\n",
    "            print(self.process_name + \" end ......\")\n",
    "            print('time lapsing {0} s \\n'.format(end_time - self.begin_time))\n",
    "            \n",
    "def ka_add_groupby_features_1_vs_n(df, group_columns_list, agg_dict, only_new_feature=True):\n",
    "    with tick_tock(\"add stats features\"):\n",
    "        try:\n",
    "            if type(group_columns_list) == list:\n",
    "                pass\n",
    "            else:\n",
    "                raise TypeError(k + \"should be a list\")\n",
    "        except TypeError as e:\n",
    "            print(e)\n",
    "            raise\n",
    "\n",
    "        df_new = df.copy()\n",
    "        grouped = df_new.groupby(group_columns_list)\n",
    "\n",
    "        the_stats = grouped.agg(agg_dict)\n",
    "        the_stats.columns = the_stats.columns.droplevel(0)\n",
    "        the_stats.reset_index(inplace=True)\n",
    "        if only_new_feature:\n",
    "            df_new = the_stats\n",
    "        else:\n",
    "            df_new = pd.merge(left=df_new, right=the_stats, on=group_columns_list, how='left')\n",
    "\n",
    "    return df_new\n",
    "\n",
    "def ka_add_groupby_features_n_vs_1(df, group_columns_list, target_columns_list, methods_list, keep_only_stats=True, verbose=1):\n",
    "    with tick_tock(\"add stats features\", verbose):\n",
    "        dicts = {\"group_columns_list\": group_columns_list , \"target_columns_list\": target_columns_list, \"methods_list\" :methods_list}\n",
    "\n",
    "        for k, v in dicts.items():\n",
    "            try:\n",
    "                if type(v) == list:\n",
    "                    pass\n",
    "                else:\n",
    "                    raise TypeError(k + \"should be a list\")\n",
    "            except TypeError as e:\n",
    "                print(e)\n",
    "                raise\n",
    "\n",
    "        grouped_name = ''.join(group_columns_list)\n",
    "        target_name = ''.join(target_columns_list)\n",
    "        combine_name = [[grouped_name] + [method_name] + [target_name] for method_name in methods_list]\n",
    "\n",
    "        df_new = df.copy()\n",
    "        grouped = df_new.groupby(group_columns_list)\n",
    "\n",
    "        the_stats = grouped[target_name].agg(methods_list).reset_index()\n",
    "        the_stats.columns = [grouped_name] + \\\n",
    "                            ['_%s_%s_by_%s' % (grouped_name, method_name, target_name) \\\n",
    "                             for (grouped_name, method_name, target_name) in combine_name]\n",
    "        if keep_only_stats:\n",
    "            return the_stats\n",
    "        else:\n",
    "            df_new = pd.merge(left=df_new, right=the_stats, on=group_columns_list, how='left')\n",
    "        return df_new\n"
   ]
  },
  {
   "cell_type": "code",
   "execution_count": 5,
   "metadata": {
    "collapsed": false
   },
   "outputs": [],
   "source": [
    "path_data = \"/Users/jiayou/Dropbox/珺珺的程序/Kaggle/Instacart/\"\n",
    "priors, train, orders, products, aisles, departments, sample_submission = load_data(path_data)"
   ]
  },
  {
   "cell_type": "code",
   "execution_count": 9,
   "metadata": {
    "collapsed": false
   },
   "outputs": [
    {
     "data": {
      "text/plain": [
       "(49688, 4)"
      ]
     },
     "execution_count": 9,
     "metadata": {},
     "output_type": "execute_result"
    }
   ],
   "source": [
    "products.shape"
   ]
  },
  {
   "cell_type": "markdown",
   "metadata": {},
   "source": [
    "# Product feature engineering"
   ]
  },
  {
   "cell_type": "code",
   "execution_count": 28,
   "metadata": {
    "collapsed": false
   },
   "outputs": [
    {
     "data": {
      "text/html": [
       "<div>\n",
       "<table border=\"1\" class=\"dataframe\">\n",
       "  <thead>\n",
       "    <tr style=\"text-align: right;\">\n",
       "      <th></th>\n",
       "      <th>order_id</th>\n",
       "      <th>user_id</th>\n",
       "      <th>eval_set</th>\n",
       "      <th>order_number</th>\n",
       "      <th>order_dow</th>\n",
       "      <th>order_hour_of_day</th>\n",
       "      <th>days_since_prior_order</th>\n",
       "      <th>days_since_first_order</th>\n",
       "      <th>max_days</th>\n",
       "      <th>days_to_last_order</th>\n",
       "    </tr>\n",
       "  </thead>\n",
       "  <tbody>\n",
       "    <tr>\n",
       "      <th>0</th>\n",
       "      <td>2539329</td>\n",
       "      <td>1</td>\n",
       "      <td>prior</td>\n",
       "      <td>1</td>\n",
       "      <td>2</td>\n",
       "      <td>8</td>\n",
       "      <td>NaN</td>\n",
       "      <td>0.0</td>\n",
       "      <td>190.0</td>\n",
       "      <td>190.0</td>\n",
       "    </tr>\n",
       "    <tr>\n",
       "      <th>1</th>\n",
       "      <td>2398795</td>\n",
       "      <td>1</td>\n",
       "      <td>prior</td>\n",
       "      <td>2</td>\n",
       "      <td>3</td>\n",
       "      <td>7</td>\n",
       "      <td>15.0</td>\n",
       "      <td>15.0</td>\n",
       "      <td>190.0</td>\n",
       "      <td>175.0</td>\n",
       "    </tr>\n",
       "    <tr>\n",
       "      <th>2</th>\n",
       "      <td>473747</td>\n",
       "      <td>1</td>\n",
       "      <td>prior</td>\n",
       "      <td>3</td>\n",
       "      <td>3</td>\n",
       "      <td>12</td>\n",
       "      <td>21.0</td>\n",
       "      <td>36.0</td>\n",
       "      <td>190.0</td>\n",
       "      <td>154.0</td>\n",
       "    </tr>\n",
       "    <tr>\n",
       "      <th>3</th>\n",
       "      <td>2254736</td>\n",
       "      <td>1</td>\n",
       "      <td>prior</td>\n",
       "      <td>4</td>\n",
       "      <td>4</td>\n",
       "      <td>7</td>\n",
       "      <td>29.0</td>\n",
       "      <td>65.0</td>\n",
       "      <td>190.0</td>\n",
       "      <td>125.0</td>\n",
       "    </tr>\n",
       "    <tr>\n",
       "      <th>4</th>\n",
       "      <td>431534</td>\n",
       "      <td>1</td>\n",
       "      <td>prior</td>\n",
       "      <td>5</td>\n",
       "      <td>4</td>\n",
       "      <td>15</td>\n",
       "      <td>28.0</td>\n",
       "      <td>93.0</td>\n",
       "      <td>190.0</td>\n",
       "      <td>97.0</td>\n",
       "    </tr>\n",
       "  </tbody>\n",
       "</table>\n",
       "</div>"
      ],
      "text/plain": [
       "   order_id  user_id eval_set  order_number  order_dow  order_hour_of_day  \\\n",
       "0   2539329        1    prior             1          2                  8   \n",
       "1   2398795        1    prior             2          3                  7   \n",
       "2    473747        1    prior             3          3                 12   \n",
       "3   2254736        1    prior             4          4                  7   \n",
       "4    431534        1    prior             5          4                 15   \n",
       "\n",
       "   days_since_prior_order  days_since_first_order  max_days  \\\n",
       "0                     NaN                     0.0     190.0   \n",
       "1                    15.0                    15.0     190.0   \n",
       "2                    21.0                    36.0     190.0   \n",
       "3                    29.0                    65.0     190.0   \n",
       "4                    28.0                    93.0     190.0   \n",
       "\n",
       "   days_to_last_order  \n",
       "0               190.0  \n",
       "1               175.0  \n",
       "2               154.0  \n",
       "3               125.0  \n",
       "4                97.0  "
      ]
     },
     "execution_count": 28,
     "metadata": {},
     "output_type": "execute_result"
    }
   ],
   "source": [
    "# build days_to_last_order\n",
    "dsfo = orders.groupby('user_id').days_since_prior_order.cumsum().fillna(0)\n",
    "orders['days_since_first_order'] = dsfo\n",
    "max_days = orders.groupby('user_id').days_since_first_order.agg({'max_days':'max'}).reset_index()\n",
    "orders = orders.merge(max_days, on = 'user_id', how = 'left')\n",
    "orders['days_to_last_order'] = orders.max_days - orders.days_since_first_order\n",
    "orders.head()"
   ]
  },
  {
   "cell_type": "code",
   "execution_count": 31,
   "metadata": {
    "collapsed": false
   },
   "outputs": [
    {
     "data": {
      "text/html": [
       "<div>\n",
       "<table border=\"1\" class=\"dataframe\">\n",
       "  <thead>\n",
       "    <tr style=\"text-align: right;\">\n",
       "      <th></th>\n",
       "      <th>order_id</th>\n",
       "      <th>user_id</th>\n",
       "      <th>eval_set</th>\n",
       "      <th>order_number</th>\n",
       "      <th>order_dow</th>\n",
       "      <th>order_hour_of_day</th>\n",
       "      <th>days_since_prior_order</th>\n",
       "      <th>days_to_last_order</th>\n",
       "    </tr>\n",
       "  </thead>\n",
       "  <tbody>\n",
       "    <tr>\n",
       "      <th>0</th>\n",
       "      <td>2539329</td>\n",
       "      <td>1</td>\n",
       "      <td>prior</td>\n",
       "      <td>1</td>\n",
       "      <td>2</td>\n",
       "      <td>8</td>\n",
       "      <td>NaN</td>\n",
       "      <td>190.0</td>\n",
       "    </tr>\n",
       "    <tr>\n",
       "      <th>1</th>\n",
       "      <td>2398795</td>\n",
       "      <td>1</td>\n",
       "      <td>prior</td>\n",
       "      <td>2</td>\n",
       "      <td>3</td>\n",
       "      <td>7</td>\n",
       "      <td>15.0</td>\n",
       "      <td>175.0</td>\n",
       "    </tr>\n",
       "    <tr>\n",
       "      <th>2</th>\n",
       "      <td>473747</td>\n",
       "      <td>1</td>\n",
       "      <td>prior</td>\n",
       "      <td>3</td>\n",
       "      <td>3</td>\n",
       "      <td>12</td>\n",
       "      <td>21.0</td>\n",
       "      <td>154.0</td>\n",
       "    </tr>\n",
       "    <tr>\n",
       "      <th>3</th>\n",
       "      <td>2254736</td>\n",
       "      <td>1</td>\n",
       "      <td>prior</td>\n",
       "      <td>4</td>\n",
       "      <td>4</td>\n",
       "      <td>7</td>\n",
       "      <td>29.0</td>\n",
       "      <td>125.0</td>\n",
       "    </tr>\n",
       "    <tr>\n",
       "      <th>4</th>\n",
       "      <td>431534</td>\n",
       "      <td>1</td>\n",
       "      <td>prior</td>\n",
       "      <td>5</td>\n",
       "      <td>4</td>\n",
       "      <td>15</td>\n",
       "      <td>28.0</td>\n",
       "      <td>97.0</td>\n",
       "    </tr>\n",
       "  </tbody>\n",
       "</table>\n",
       "</div>"
      ],
      "text/plain": [
       "   order_id  user_id eval_set  order_number  order_dow  order_hour_of_day  \\\n",
       "0   2539329        1    prior             1          2                  8   \n",
       "1   2398795        1    prior             2          3                  7   \n",
       "2    473747        1    prior             3          3                 12   \n",
       "3   2254736        1    prior             4          4                  7   \n",
       "4    431534        1    prior             5          4                 15   \n",
       "\n",
       "   days_since_prior_order  days_to_last_order  \n",
       "0                     NaN               190.0  \n",
       "1                    15.0               175.0  \n",
       "2                    21.0               154.0  \n",
       "3                    29.0               125.0  \n",
       "4                    28.0                97.0  "
      ]
     },
     "execution_count": 31,
     "metadata": {},
     "output_type": "execute_result"
    }
   ],
   "source": [
    "orders.drop(['days_since_first_order', 'max_days'], axis=1, inplace=True)\n",
    "orders.head()"
   ]
  },
  {
   "cell_type": "code",
   "execution_count": 32,
   "metadata": {
    "collapsed": false
   },
   "outputs": [
    {
     "name": "stdout",
     "output_type": "stream",
     "text": [
      "add stats features begin ......\n",
      "add stats features end ......\n",
      "time lapsing 339.76322293281555 s \n",
      "\n"
     ]
    }
   ],
   "source": [
    "priors_orders_detail = orders.merge(right=priors, how='inner', on='order_id').merge(products[['product_id','aisle_id']], how = 'left', on = 'product_id')\n",
    "priors_orders_detail.loc[:,'user_buy_product_times'] = priors_orders_detail.groupby(['user_id', 'product_id']).cumcount() + 1\n",
    "priors_orders_detail.loc[:,'user_buy_category_times'] = priors_orders_detail.groupby(['user_id', 'aisle_id']).cumcount() + 1\n",
    "agg_dict = {'user_id':{'prod_total_cnt':'count'}, \n",
    "            'reordered':{'prod_reorder_total_cnt':'sum'}, \n",
    "            'user_buy_product_times': {'prod_user_cnt':lambda x: sum(x==1),\n",
    "                                        'prod_return_user_cnt':lambda x: sum(x==2)}}\n",
    "prd = ka_add_groupby_features_1_vs_n(priors_orders_detail, ['product_id'], agg_dict)\n",
    "\n",
    "prd['prod_user_reorder_ratio'] = prd.prod_return_user_cnt / prd.prod_user_cnt\n",
    "prd['prod_product_reorder_ratio'] = prd.prod_reorder_total_cnt / prd.prod_total_cnt"
   ]
  },
  {
   "cell_type": "code",
   "execution_count": 33,
   "metadata": {
    "collapsed": false
   },
   "outputs": [
    {
     "data": {
      "text/html": [
       "<div>\n",
       "<table border=\"1\" class=\"dataframe\">\n",
       "  <thead>\n",
       "    <tr style=\"text-align: right;\">\n",
       "      <th></th>\n",
       "      <th>product_id</th>\n",
       "      <th>prod_total_cnt</th>\n",
       "      <th>prod_reorder_total_cnt</th>\n",
       "      <th>prod_user_cnt</th>\n",
       "      <th>prod_return_user_cnt</th>\n",
       "      <th>prod_user_reorder_ratio</th>\n",
       "      <th>prod_product_reorder_ratio</th>\n",
       "    </tr>\n",
       "  </thead>\n",
       "  <tbody>\n",
       "    <tr>\n",
       "      <th>0</th>\n",
       "      <td>1</td>\n",
       "      <td>1852</td>\n",
       "      <td>1136.0</td>\n",
       "      <td>716</td>\n",
       "      <td>276</td>\n",
       "      <td>0.385475</td>\n",
       "      <td>0.613391</td>\n",
       "    </tr>\n",
       "    <tr>\n",
       "      <th>1</th>\n",
       "      <td>2</td>\n",
       "      <td>90</td>\n",
       "      <td>12.0</td>\n",
       "      <td>78</td>\n",
       "      <td>8</td>\n",
       "      <td>0.102564</td>\n",
       "      <td>0.133333</td>\n",
       "    </tr>\n",
       "    <tr>\n",
       "      <th>2</th>\n",
       "      <td>3</td>\n",
       "      <td>277</td>\n",
       "      <td>203.0</td>\n",
       "      <td>74</td>\n",
       "      <td>36</td>\n",
       "      <td>0.486486</td>\n",
       "      <td>0.732852</td>\n",
       "    </tr>\n",
       "    <tr>\n",
       "      <th>3</th>\n",
       "      <td>4</td>\n",
       "      <td>329</td>\n",
       "      <td>147.0</td>\n",
       "      <td>182</td>\n",
       "      <td>64</td>\n",
       "      <td>0.351648</td>\n",
       "      <td>0.446809</td>\n",
       "    </tr>\n",
       "    <tr>\n",
       "      <th>4</th>\n",
       "      <td>5</td>\n",
       "      <td>15</td>\n",
       "      <td>9.0</td>\n",
       "      <td>6</td>\n",
       "      <td>4</td>\n",
       "      <td>0.666667</td>\n",
       "      <td>0.600000</td>\n",
       "    </tr>\n",
       "  </tbody>\n",
       "</table>\n",
       "</div>"
      ],
      "text/plain": [
       "   product_id  prod_total_cnt  prod_reorder_total_cnt  prod_user_cnt  \\\n",
       "0           1            1852                  1136.0            716   \n",
       "1           2              90                    12.0             78   \n",
       "2           3             277                   203.0             74   \n",
       "3           4             329                   147.0            182   \n",
       "4           5              15                     9.0              6   \n",
       "\n",
       "   prod_return_user_cnt  prod_user_reorder_ratio  prod_product_reorder_ratio  \n",
       "0                   276                 0.385475                    0.613391  \n",
       "1                     8                 0.102564                    0.133333  \n",
       "2                    36                 0.486486                    0.732852  \n",
       "3                    64                 0.351648                    0.446809  \n",
       "4                     4                 0.666667                    0.600000  "
      ]
     },
     "execution_count": 33,
     "metadata": {},
     "output_type": "execute_result"
    }
   ],
   "source": [
    "prd.head()"
   ]
  },
  {
   "cell_type": "code",
   "execution_count": 37,
   "metadata": {
    "collapsed": false,
    "scrolled": true
   },
   "outputs": [
    {
     "data": {
      "text/html": [
       "<div>\n",
       "<table border=\"1\" class=\"dataframe\">\n",
       "  <thead>\n",
       "    <tr style=\"text-align: right;\">\n",
       "      <th></th>\n",
       "      <th>order_id</th>\n",
       "      <th>user_id</th>\n",
       "      <th>eval_set</th>\n",
       "      <th>order_number</th>\n",
       "      <th>order_dow</th>\n",
       "      <th>order_hour_of_day</th>\n",
       "      <th>days_since_prior_order</th>\n",
       "      <th>days_to_last_order</th>\n",
       "      <th>product_id</th>\n",
       "      <th>add_to_cart_order</th>\n",
       "      <th>reordered</th>\n",
       "      <th>aisle_id</th>\n",
       "      <th>user_buy_product_times</th>\n",
       "      <th>user_buy_category_times</th>\n",
       "    </tr>\n",
       "  </thead>\n",
       "  <tbody>\n",
       "    <tr>\n",
       "      <th>0</th>\n",
       "      <td>2539329</td>\n",
       "      <td>1</td>\n",
       "      <td>prior</td>\n",
       "      <td>1</td>\n",
       "      <td>2</td>\n",
       "      <td>8</td>\n",
       "      <td>NaN</td>\n",
       "      <td>190.0</td>\n",
       "      <td>196</td>\n",
       "      <td>1</td>\n",
       "      <td>0</td>\n",
       "      <td>77</td>\n",
       "      <td>1</td>\n",
       "      <td>1</td>\n",
       "    </tr>\n",
       "    <tr>\n",
       "      <th>1</th>\n",
       "      <td>2539329</td>\n",
       "      <td>1</td>\n",
       "      <td>prior</td>\n",
       "      <td>1</td>\n",
       "      <td>2</td>\n",
       "      <td>8</td>\n",
       "      <td>NaN</td>\n",
       "      <td>190.0</td>\n",
       "      <td>14084</td>\n",
       "      <td>2</td>\n",
       "      <td>0</td>\n",
       "      <td>91</td>\n",
       "      <td>1</td>\n",
       "      <td>1</td>\n",
       "    </tr>\n",
       "    <tr>\n",
       "      <th>2</th>\n",
       "      <td>2539329</td>\n",
       "      <td>1</td>\n",
       "      <td>prior</td>\n",
       "      <td>1</td>\n",
       "      <td>2</td>\n",
       "      <td>8</td>\n",
       "      <td>NaN</td>\n",
       "      <td>190.0</td>\n",
       "      <td>12427</td>\n",
       "      <td>3</td>\n",
       "      <td>0</td>\n",
       "      <td>23</td>\n",
       "      <td>1</td>\n",
       "      <td>1</td>\n",
       "    </tr>\n",
       "    <tr>\n",
       "      <th>3</th>\n",
       "      <td>2539329</td>\n",
       "      <td>1</td>\n",
       "      <td>prior</td>\n",
       "      <td>1</td>\n",
       "      <td>2</td>\n",
       "      <td>8</td>\n",
       "      <td>NaN</td>\n",
       "      <td>190.0</td>\n",
       "      <td>26088</td>\n",
       "      <td>4</td>\n",
       "      <td>0</td>\n",
       "      <td>23</td>\n",
       "      <td>1</td>\n",
       "      <td>2</td>\n",
       "    </tr>\n",
       "    <tr>\n",
       "      <th>4</th>\n",
       "      <td>2539329</td>\n",
       "      <td>1</td>\n",
       "      <td>prior</td>\n",
       "      <td>1</td>\n",
       "      <td>2</td>\n",
       "      <td>8</td>\n",
       "      <td>NaN</td>\n",
       "      <td>190.0</td>\n",
       "      <td>26405</td>\n",
       "      <td>5</td>\n",
       "      <td>0</td>\n",
       "      <td>54</td>\n",
       "      <td>1</td>\n",
       "      <td>1</td>\n",
       "    </tr>\n",
       "  </tbody>\n",
       "</table>\n",
       "</div>"
      ],
      "text/plain": [
       "   order_id  user_id eval_set  order_number  order_dow  order_hour_of_day  \\\n",
       "0   2539329        1    prior             1          2                  8   \n",
       "1   2539329        1    prior             1          2                  8   \n",
       "2   2539329        1    prior             1          2                  8   \n",
       "3   2539329        1    prior             1          2                  8   \n",
       "4   2539329        1    prior             1          2                  8   \n",
       "\n",
       "   days_since_prior_order  days_to_last_order  product_id  add_to_cart_order  \\\n",
       "0                     NaN               190.0         196                  1   \n",
       "1                     NaN               190.0       14084                  2   \n",
       "2                     NaN               190.0       12427                  3   \n",
       "3                     NaN               190.0       26088                  4   \n",
       "4                     NaN               190.0       26405                  5   \n",
       "\n",
       "   reordered  aisle_id  user_buy_product_times  user_buy_category_times  \n",
       "0          0        77                       1                        1  \n",
       "1          0        91                       1                        1  \n",
       "2          0        23                       1                        1  \n",
       "3          0        23                       1                        2  \n",
       "4          0        54                       1                        1  "
      ]
     },
     "execution_count": 37,
     "metadata": {},
     "output_type": "execute_result"
    }
   ],
   "source": [
    "priors_orders_detail.head()"
   ]
  },
  {
   "cell_type": "markdown",
   "metadata": {},
   "source": [
    "# Category feature engineering"
   ]
  },
  {
   "cell_type": "code",
   "execution_count": 35,
   "metadata": {
    "collapsed": false
   },
   "outputs": [
    {
     "name": "stdout",
     "output_type": "stream",
     "text": [
      "add stats features begin ......\n",
      "add stats features end ......\n",
      "time lapsing 315.11709094047546 s \n",
      "\n",
      "add stats features begin ......\n",
      "add stats features end ......\n",
      "time lapsing 16.96505880355835 s \n",
      "\n",
      "add stats features begin ......\n",
      "add stats features end ......\n",
      "time lapsing 1.059999942779541 s \n",
      "\n"
     ]
    },
    {
     "data": {
      "text/html": [
       "<div>\n",
       "<table border=\"1\" class=\"dataframe\">\n",
       "  <thead>\n",
       "    <tr style=\"text-align: right;\">\n",
       "      <th></th>\n",
       "      <th>aisle_id</th>\n",
       "      <th>cat_total_bought_cnt</th>\n",
       "      <th>cat_reorder_total_cnt</th>\n",
       "      <th>cat_user_cnt</th>\n",
       "      <th>cat_return_user_cnt</th>\n",
       "      <th>cat_user_reorder_ratio</th>\n",
       "      <th>cat_product_reorder_ratio</th>\n",
       "      <th>cat_num_of_prods_a_user_buys_in_this_cat_mean</th>\n",
       "      <th>cat_num_of_prods_a_user_buys_in_this_cat_std</th>\n",
       "      <th>cat_num_of_prods_a_user_buys_in_this_cat_max</th>\n",
       "      <th>cat_num_of_prods_a_user_buys_in_this_cat_median</th>\n",
       "    </tr>\n",
       "  </thead>\n",
       "  <tbody>\n",
       "    <tr>\n",
       "      <th>0</th>\n",
       "      <td>1</td>\n",
       "      <td>71928</td>\n",
       "      <td>42912.0</td>\n",
       "      <td>20711</td>\n",
       "      <td>10885</td>\n",
       "      <td>0.525566</td>\n",
       "      <td>0.596597</td>\n",
       "      <td>3.472937</td>\n",
       "      <td>6.222165</td>\n",
       "      <td>254</td>\n",
       "      <td>2</td>\n",
       "    </tr>\n",
       "    <tr>\n",
       "      <th>1</th>\n",
       "      <td>2</td>\n",
       "      <td>82491</td>\n",
       "      <td>40365.0</td>\n",
       "      <td>31222</td>\n",
       "      <td>14935</td>\n",
       "      <td>0.478349</td>\n",
       "      <td>0.489326</td>\n",
       "      <td>2.642079</td>\n",
       "      <td>3.614434</td>\n",
       "      <td>111</td>\n",
       "      <td>1</td>\n",
       "    </tr>\n",
       "    <tr>\n",
       "      <th>2</th>\n",
       "      <td>3</td>\n",
       "      <td>456386</td>\n",
       "      <td>272922.0</td>\n",
       "      <td>63592</td>\n",
       "      <td>46666</td>\n",
       "      <td>0.733834</td>\n",
       "      <td>0.598007</td>\n",
       "      <td>7.176783</td>\n",
       "      <td>14.744941</td>\n",
       "      <td>585</td>\n",
       "      <td>3</td>\n",
       "    </tr>\n",
       "    <tr>\n",
       "      <th>3</th>\n",
       "      <td>4</td>\n",
       "      <td>200687</td>\n",
       "      <td>98243.0</td>\n",
       "      <td>53892</td>\n",
       "      <td>33716</td>\n",
       "      <td>0.625622</td>\n",
       "      <td>0.489533</td>\n",
       "      <td>3.723874</td>\n",
       "      <td>4.740843</td>\n",
       "      <td>86</td>\n",
       "      <td>2</td>\n",
       "    </tr>\n",
       "    <tr>\n",
       "      <th>4</th>\n",
       "      <td>5</td>\n",
       "      <td>62510</td>\n",
       "      <td>17542.0</td>\n",
       "      <td>32312</td>\n",
       "      <td>12655</td>\n",
       "      <td>0.391650</td>\n",
       "      <td>0.280627</td>\n",
       "      <td>1.934575</td>\n",
       "      <td>2.003322</td>\n",
       "      <td>60</td>\n",
       "      <td>1</td>\n",
       "    </tr>\n",
       "  </tbody>\n",
       "</table>\n",
       "</div>"
      ],
      "text/plain": [
       "   aisle_id  cat_total_bought_cnt  cat_reorder_total_cnt  cat_user_cnt  \\\n",
       "0         1                 71928                42912.0         20711   \n",
       "1         2                 82491                40365.0         31222   \n",
       "2         3                456386               272922.0         63592   \n",
       "3         4                200687                98243.0         53892   \n",
       "4         5                 62510                17542.0         32312   \n",
       "\n",
       "   cat_return_user_cnt  cat_user_reorder_ratio  cat_product_reorder_ratio  \\\n",
       "0                10885                0.525566                   0.596597   \n",
       "1                14935                0.478349                   0.489326   \n",
       "2                46666                0.733834                   0.598007   \n",
       "3                33716                0.625622                   0.489533   \n",
       "4                12655                0.391650                   0.280627   \n",
       "\n",
       "   cat_num_of_prods_a_user_buys_in_this_cat_mean  \\\n",
       "0                                       3.472937   \n",
       "1                                       2.642079   \n",
       "2                                       7.176783   \n",
       "3                                       3.723874   \n",
       "4                                       1.934575   \n",
       "\n",
       "   cat_num_of_prods_a_user_buys_in_this_cat_std  \\\n",
       "0                                      6.222165   \n",
       "1                                      3.614434   \n",
       "2                                     14.744941   \n",
       "3                                      4.740843   \n",
       "4                                      2.003322   \n",
       "\n",
       "   cat_num_of_prods_a_user_buys_in_this_cat_max  \\\n",
       "0                                           254   \n",
       "1                                           111   \n",
       "2                                           585   \n",
       "3                                            86   \n",
       "4                                            60   \n",
       "\n",
       "   cat_num_of_prods_a_user_buys_in_this_cat_median  \n",
       "0                                                2  \n",
       "1                                                1  \n",
       "2                                                3  \n",
       "3                                                2  \n",
       "4                                                1  "
      ]
     },
     "execution_count": 35,
     "metadata": {},
     "output_type": "execute_result"
    }
   ],
   "source": [
    "agg_dict_5 = {'user_id':{'cat_total_bought_cnt':'count'}, \n",
    "            'reordered':{'cat_reorder_total_cnt':'sum'}, \n",
    "            'user_buy_category_times': {'cat_user_cnt':lambda x: sum(x==1),\n",
    "                                        'cat_return_user_cnt':lambda x: sum(x==2)}}\n",
    "cat = ka_add_groupby_features_1_vs_n(priors_orders_detail, ['aisle_id'], agg_dict_5)\n",
    "\n",
    "cat['cat_user_reorder_ratio'] = cat.cat_return_user_cnt / cat.cat_user_cnt\n",
    "cat['cat_product_reorder_ratio'] = cat.cat_reorder_total_cnt / cat.cat_total_bought_cnt\n",
    "\n",
    "agg_dict_6 = {'user_buy_category_times':{'cat_user_bought_cnts':'max'}}\n",
    "cat_agg = ka_add_groupby_features_1_vs_n(priors_orders_detail, ['aisle_id', 'user_id'], agg_dict_6)\n",
    "\n",
    "agg_dict_7 = {'cat_user_bought_cnts':{'cat_num_of_prods_a_user_buys_in_this_cat_mean':'mean',\n",
    "                                     'cat_num_of_prods_a_user_buys_in_this_cat_std':'std',\n",
    "                                     'cat_num_of_prods_a_user_buys_in_this_cat_max':'max',\n",
    "                                     'cat_num_of_prods_a_user_buys_in_this_cat_median':'median'}}\n",
    "category_agg = ka_add_groupby_features_1_vs_n(cat_agg, ['aisle_id'], agg_dict_7)\n",
    "category = cat.merge(category_agg, on = 'aisle_id', how = 'left')\n",
    "category.head()"
   ]
  },
  {
   "cell_type": "markdown",
   "metadata": {},
   "source": [
    "# User feature engineering"
   ]
  },
  {
   "cell_type": "code",
   "execution_count": 24,
   "metadata": {
    "collapsed": false
   },
   "outputs": [
    {
     "name": "stdout",
     "output_type": "stream",
     "text": [
      "add stats features begin ......\n",
      "add stats features end ......\n",
      "time lapsing 0.29865217208862305 s \n",
      "\n",
      "add stats features begin ......\n",
      "add stats features end ......\n",
      "time lapsing 909.687685251236 s \n",
      "\n"
     ]
    }
   ],
   "source": [
    "agg_dict_2 = {'order_number':{'user_total_orders':'max'},\n",
    "              'days_since_prior_order':{'user_sum_days_since_prior_order':'sum', \n",
    "                                        'user_mean_days_since_prior_order': 'mean'}}\n",
    "users = ka_add_groupby_features_1_vs_n(orders[orders.eval_set == 'prior'], ['user_id'], agg_dict_2)\n",
    "\n",
    "agg_dict_3 = {'reordered':\n",
    "              {'user_reorder_ratio': \n",
    "               lambda x: sum(priors_orders_detail.ix[x.index,'reordered']==1)/\n",
    "                         sum(priors_orders_detail.ix[x.index,'order_number'] > 1)},\n",
    "              'product_id':{'user_total_products':'count', \n",
    "                            'user_distinct_products':'nunique'}}\n",
    "us = ka_add_groupby_features_1_vs_n(priors_orders_detail, ['user_id'], agg_dict_3)\n",
    "users = users.merge(us, how='inner')"
   ]
  },
  {
   "cell_type": "code",
   "execution_count": 25,
   "metadata": {
    "collapsed": true
   },
   "outputs": [],
   "source": [
    "users['user_average_basket'] = users.user_total_products / users.user_total_orders\n",
    "\n",
    "us = orders[orders.eval_set != \"prior\"][['user_id', 'order_id', 'eval_set', 'days_since_prior_order']]\n",
    "us.rename(index=str, columns={'days_since_prior_order': 'time_since_last_order'}, inplace=True)\n",
    "\n",
    "users = users.merge(us, how='inner')"
   ]
  },
  {
   "cell_type": "code",
   "execution_count": 26,
   "metadata": {
    "collapsed": false
   },
   "outputs": [
    {
     "data": {
      "text/html": [
       "<div>\n",
       "<table border=\"1\" class=\"dataframe\">\n",
       "  <thead>\n",
       "    <tr style=\"text-align: right;\">\n",
       "      <th></th>\n",
       "      <th>user_id</th>\n",
       "      <th>order_id</th>\n",
       "      <th>eval_set</th>\n",
       "      <th>time_since_last_order</th>\n",
       "    </tr>\n",
       "  </thead>\n",
       "  <tbody>\n",
       "    <tr>\n",
       "      <th>10</th>\n",
       "      <td>1</td>\n",
       "      <td>1187899</td>\n",
       "      <td>train</td>\n",
       "      <td>14.0</td>\n",
       "    </tr>\n",
       "    <tr>\n",
       "      <th>25</th>\n",
       "      <td>2</td>\n",
       "      <td>1492625</td>\n",
       "      <td>train</td>\n",
       "      <td>30.0</td>\n",
       "    </tr>\n",
       "    <tr>\n",
       "      <th>38</th>\n",
       "      <td>3</td>\n",
       "      <td>2774568</td>\n",
       "      <td>test</td>\n",
       "      <td>11.0</td>\n",
       "    </tr>\n",
       "    <tr>\n",
       "      <th>44</th>\n",
       "      <td>4</td>\n",
       "      <td>329954</td>\n",
       "      <td>test</td>\n",
       "      <td>30.0</td>\n",
       "    </tr>\n",
       "    <tr>\n",
       "      <th>49</th>\n",
       "      <td>5</td>\n",
       "      <td>2196797</td>\n",
       "      <td>train</td>\n",
       "      <td>6.0</td>\n",
       "    </tr>\n",
       "  </tbody>\n",
       "</table>\n",
       "</div>"
      ],
      "text/plain": [
       "    user_id  order_id eval_set  time_since_last_order\n",
       "10        1   1187899    train                   14.0\n",
       "25        2   1492625    train                   30.0\n",
       "38        3   2774568     test                   11.0\n",
       "44        4    329954     test                   30.0\n",
       "49        5   2196797    train                    6.0"
      ]
     },
     "execution_count": 26,
     "metadata": {},
     "output_type": "execute_result"
    }
   ],
   "source": [
    "us.head()"
   ]
  },
  {
   "cell_type": "code",
   "execution_count": 27,
   "metadata": {
    "collapsed": false
   },
   "outputs": [
    {
     "data": {
      "text/html": [
       "<div>\n",
       "<table border=\"1\" class=\"dataframe\">\n",
       "  <thead>\n",
       "    <tr style=\"text-align: right;\">\n",
       "      <th></th>\n",
       "      <th>user_id</th>\n",
       "      <th>user_total_orders</th>\n",
       "      <th>user_sum_days_since_prior_order</th>\n",
       "      <th>user_mean_days_since_prior_order</th>\n",
       "      <th>user_reorder_ratio</th>\n",
       "      <th>user_total_products</th>\n",
       "      <th>user_distinct_products</th>\n",
       "      <th>user_average_basket</th>\n",
       "      <th>order_id</th>\n",
       "      <th>eval_set</th>\n",
       "      <th>time_since_last_order</th>\n",
       "    </tr>\n",
       "  </thead>\n",
       "  <tbody>\n",
       "    <tr>\n",
       "      <th>0</th>\n",
       "      <td>1</td>\n",
       "      <td>10</td>\n",
       "      <td>176.0</td>\n",
       "      <td>19.555555</td>\n",
       "      <td>0.759259</td>\n",
       "      <td>59</td>\n",
       "      <td>18</td>\n",
       "      <td>5.900000</td>\n",
       "      <td>1187899</td>\n",
       "      <td>train</td>\n",
       "      <td>14.0</td>\n",
       "    </tr>\n",
       "    <tr>\n",
       "      <th>1</th>\n",
       "      <td>2</td>\n",
       "      <td>14</td>\n",
       "      <td>198.0</td>\n",
       "      <td>15.230769</td>\n",
       "      <td>0.510989</td>\n",
       "      <td>195</td>\n",
       "      <td>102</td>\n",
       "      <td>13.928571</td>\n",
       "      <td>1492625</td>\n",
       "      <td>train</td>\n",
       "      <td>30.0</td>\n",
       "    </tr>\n",
       "    <tr>\n",
       "      <th>2</th>\n",
       "      <td>3</td>\n",
       "      <td>12</td>\n",
       "      <td>133.0</td>\n",
       "      <td>12.090909</td>\n",
       "      <td>0.705128</td>\n",
       "      <td>88</td>\n",
       "      <td>33</td>\n",
       "      <td>7.333333</td>\n",
       "      <td>2774568</td>\n",
       "      <td>test</td>\n",
       "      <td>11.0</td>\n",
       "    </tr>\n",
       "    <tr>\n",
       "      <th>3</th>\n",
       "      <td>4</td>\n",
       "      <td>5</td>\n",
       "      <td>55.0</td>\n",
       "      <td>13.750000</td>\n",
       "      <td>0.071429</td>\n",
       "      <td>18</td>\n",
       "      <td>17</td>\n",
       "      <td>3.600000</td>\n",
       "      <td>329954</td>\n",
       "      <td>test</td>\n",
       "      <td>30.0</td>\n",
       "    </tr>\n",
       "    <tr>\n",
       "      <th>4</th>\n",
       "      <td>5</td>\n",
       "      <td>4</td>\n",
       "      <td>40.0</td>\n",
       "      <td>13.333333</td>\n",
       "      <td>0.538462</td>\n",
       "      <td>37</td>\n",
       "      <td>23</td>\n",
       "      <td>9.250000</td>\n",
       "      <td>2196797</td>\n",
       "      <td>train</td>\n",
       "      <td>6.0</td>\n",
       "    </tr>\n",
       "  </tbody>\n",
       "</table>\n",
       "</div>"
      ],
      "text/plain": [
       "   user_id  user_total_orders  user_sum_days_since_prior_order  \\\n",
       "0        1                 10                            176.0   \n",
       "1        2                 14                            198.0   \n",
       "2        3                 12                            133.0   \n",
       "3        4                  5                             55.0   \n",
       "4        5                  4                             40.0   \n",
       "\n",
       "   user_mean_days_since_prior_order  user_reorder_ratio  user_total_products  \\\n",
       "0                         19.555555            0.759259                   59   \n",
       "1                         15.230769            0.510989                  195   \n",
       "2                         12.090909            0.705128                   88   \n",
       "3                         13.750000            0.071429                   18   \n",
       "4                         13.333333            0.538462                   37   \n",
       "\n",
       "   user_distinct_products  user_average_basket  order_id eval_set  \\\n",
       "0                      18             5.900000   1187899    train   \n",
       "1                     102            13.928571   1492625    train   \n",
       "2                      33             7.333333   2774568     test   \n",
       "3                      17             3.600000    329954     test   \n",
       "4                      23             9.250000   2196797    train   \n",
       "\n",
       "   time_since_last_order  \n",
       "0                   14.0  \n",
       "1                   30.0  \n",
       "2                   11.0  \n",
       "3                   30.0  \n",
       "4                    6.0  "
      ]
     },
     "execution_count": 27,
     "metadata": {},
     "output_type": "execute_result"
    }
   ],
   "source": [
    "users.head()"
   ]
  },
  {
   "cell_type": "markdown",
   "metadata": {},
   "source": [
    "# Aggregate product and user info to final dataframe"
   ]
  },
  {
   "cell_type": "code",
   "execution_count": 38,
   "metadata": {
    "collapsed": false,
    "scrolled": true
   },
   "outputs": [
    {
     "name": "stdout",
     "output_type": "stream",
     "text": [
      "add stats features begin ......\n",
      "add stats features end ......\n",
      "time lapsing 27.206926107406616 s \n",
      "\n"
     ]
    }
   ],
   "source": [
    "agg_dict_4 = {'order_number':{'up_order_count': 'count', \n",
    "                              'up_first_order_number': 'min', \n",
    "                              'up_last_order_number':'max'}, \n",
    "              'add_to_cart_order':{'up_average_cart_position': 'mean'},\n",
    "              'days_to_last_order':{'up_days_since_last_order':'min'}}\n",
    "\n",
    "data = ka_add_groupby_features_1_vs_n(df=priors_orders_detail, \n",
    "                                                      group_columns_list=['user_id', 'product_id', 'aisle_id'], \n",
    "                                                      agg_dict=agg_dict_4)\n",
    "\n",
    "data = data.merge(prd, how='inner', on='product_id').merge(users, how='inner', on='user_id').merge(category, how = 'inner', on='aisle_id')\n",
    "\n",
    "data['up_order_rate'] = data.up_order_count / data.user_total_orders\n",
    "data['up_order_since_last_order'] = data.user_total_orders - data.up_last_order_number\n",
    "data['up_order_rate_since_first_order'] = data.up_order_count / (data.user_total_orders - data.up_first_order_number + 1)\n",
    "\n",
    "train = train.merge(right=orders[['order_id', 'user_id']], how='left', on='order_id')\n",
    "data = data.merge(train[['user_id', 'product_id', 'reordered']], on=['user_id', 'product_id'], how='left')\n"
   ]
  },
  {
   "cell_type": "code",
   "execution_count": 39,
   "metadata": {
    "collapsed": false
   },
   "outputs": [
    {
     "data": {
      "text/plain": [
       "1419"
      ]
     },
     "execution_count": 39,
     "metadata": {},
     "output_type": "execute_result"
    }
   ],
   "source": [
    "del priors_orders_detail, orders\n",
    "gc.collect()"
   ]
  },
  {
   "cell_type": "code",
   "execution_count": 40,
   "metadata": {
    "collapsed": false
   },
   "outputs": [
    {
     "data": {
      "text/plain": [
       "(13307953, 38)"
      ]
     },
     "execution_count": 40,
     "metadata": {},
     "output_type": "execute_result"
    }
   ],
   "source": [
    "# data.to_csv('analytical_base_table.csv', index = None)\n",
    "data.shape\n",
    "# NaN in reordered column of data represent that the product is not purchased by user at the train_set (the last order)"
   ]
  },
  {
   "cell_type": "code",
   "execution_count": 103,
   "metadata": {
    "collapsed": false
   },
   "outputs": [
    {
     "data": {
      "text/plain": [
       "user_id                                int64\n",
       "product_id                             int64\n",
       "_up_order_count                        int64\n",
       "_up_first_order_number                 int16\n",
       "_up_last_order_number                  int16\n",
       "_up_average_cart_position            float64\n",
       "_prod_tot_cnts                         int64\n",
       "_prod_reorder_tot_cnts               float64\n",
       "_prod_buy_first_time_total_cnt         int64\n",
       "_prod_buy_second_time_total_cnt        int64\n",
       "_prod_reorder_prob                   float64\n",
       "_prod_reorder_ratio                  float64\n",
       "_prod_reorder_times                  float64\n",
       "_user_total_orders                     int16\n",
       "_user_sum_days_since_prior_order     float32\n",
       "_user_mean_days_since_prior_order    float32\n",
       "_user_reorder_ratio                  float64\n",
       "_user_total_products                   int64\n",
       "_user_distinct_products               uint16\n",
       "_user_average_basket                 float64\n",
       "order_id                               int32\n",
       "eval_set                              object\n",
       "time_since_last_order                float32\n",
       "_up_order_rate                       float64\n",
       "_up_order_since_last_order             int16\n",
       "_up_order_rate_since_first_order     float64\n",
       "reordered                            float64\n",
       "dtype: object"
      ]
     },
     "execution_count": 103,
     "metadata": {},
     "output_type": "execute_result"
    }
   ],
   "source": [
    "data.dtypes"
   ]
  },
  {
   "cell_type": "code",
   "execution_count": null,
   "metadata": {
    "collapsed": true
   },
   "outputs": [],
   "source": [
    "for col in data.columns:\n",
    "    if data[col].dtypes == 'float64':\n",
    "        data[col] = data[col].astype('float32')\n",
    "data.dtypes"
   ]
  },
  {
   "cell_type": "code",
   "execution_count": 41,
   "metadata": {
    "collapsed": false
   },
   "outputs": [],
   "source": [
    "data.to_csv(path_data+'abt.csv', index = None)"
   ]
  },
  {
   "cell_type": "markdown",
   "metadata": {},
   "source": [
    "# Data split and Training"
   ]
  },
  {
   "cell_type": "code",
   "execution_count": 9,
   "metadata": {
    "collapsed": false,
    "scrolled": true
   },
   "outputs": [
    {
     "name": "stderr",
     "output_type": "stream",
     "text": [
      "/Users/jiayou/anaconda/lib/python3.6/site-packages/ipykernel/__main__.py:2: SettingWithCopyWarning: \n",
      "A value is trying to be set on a copy of a slice from a DataFrame\n",
      "\n",
      "See the caveats in the documentation: http://pandas.pydata.org/pandas-docs/stable/indexing.html#indexing-view-versus-copy\n",
      "  from ipykernel import kernelapp as app\n",
      "/Users/jiayou/anaconda/lib/python3.6/site-packages/pandas/core/indexing.py:477: SettingWithCopyWarning: \n",
      "A value is trying to be set on a copy of a slice from a DataFrame.\n",
      "Try using .loc[row_indexer,col_indexer] = value instead\n",
      "\n",
      "See the caveats in the documentation: http://pandas.pydata.org/pandas-docs/stable/indexing.html#indexing-view-versus-copy\n",
      "  self.obj[item] = s\n"
     ]
    }
   ],
   "source": [
    "train = data.loc[data.eval_set == \"train\",:]\n",
    "train.drop(['eval_set', 'user_id', 'product_id', 'order_id'], axis=1, inplace=True)\n",
    "train.loc[:, 'reordered'] = train.reordered.fillna(0)\n",
    "\n",
    "X_test = data.loc[data.eval_set == \"test\",:]\n",
    "\n",
    "X_train, X_val, y_train, y_val = train_test_split(train.drop('reordered', axis=1), train.reordered,\n",
    "                                                    test_size=0.2, random_state=1019)\n",
    "# read in data\n",
    "d_train = xgboost.DMatrix(X_train, y_train)\n"
   ]
  },
  {
   "cell_type": "code",
   "execution_count": 42,
   "metadata": {
    "collapsed": false
   },
   "outputs": [],
   "source": [
    "#specify parameters via map\n",
    "xgb_params = {\n",
    "    \"objective\"         : \"reg:logistic\"\n",
    "    ,\"eval_metric\"      : \"logloss\"\n",
    "    ,\"eta\"              : 0.1\n",
    "    ,\"max_depth\"        : 6\n",
    "    ,\"min_child_weight\" :10\n",
    "    ,\"gamma\"            :0.70\n",
    "    ,\"subsample\"        :0.76\n",
    "    ,\"colsample_bytree\" :0.95\n",
    "    ,\"alpha\"            :2e-05\n",
    "    ,\"lambda\"           :10\n",
    "}\n",
    "\n",
    "\n",
    "# watchlist= [(d_train, \"train\")]\n",
    "# bst = xgboost.train(params=xgb_params, dtrain=d_train, num_boost_round=80, evals=watchlist, verbose_eval=10)\n",
    "\n",
    "print ('running cross validation')\n",
    "# do cross validation, this will print result out as\n",
    "# [iteration]  metric_name:mean_value+std_value\n",
    "# std_value is standard deviation of the metric\n",
    "bst = xgboost.cv(xgb_params, d_train, num_boost_round=80, nfold=5,\n",
    "       metrics={'logloss'}, seed = 1019,\n",
    "       callbacks=[xgboost.callback.print_evaluation(show_stdv=True)])\n",
    "\n",
    "print ('running cross validation, disable standard deviation display')\n",
    "xgboost.plot_importance(bst)\n"
   ]
  },
  {
   "cell_type": "code",
   "execution_count": 85,
   "metadata": {
    "collapsed": false
   },
   "outputs": [
    {
     "data": {
      "text/html": [
       "<div>\n",
       "<table border=\"1\" class=\"dataframe\">\n",
       "  <thead>\n",
       "    <tr style=\"text-align: right;\">\n",
       "      <th></th>\n",
       "      <th>user_id</th>\n",
       "      <th>product_id</th>\n",
       "      <th>_up_order_count</th>\n",
       "      <th>_up_first_order_number</th>\n",
       "      <th>_up_last_order_number</th>\n",
       "      <th>_up_average_cart_position</th>\n",
       "      <th>_prod_tot_cnts</th>\n",
       "      <th>_prod_reorder_tot_cnts</th>\n",
       "      <th>_prod_buy_first_time_total_cnt</th>\n",
       "      <th>_prod_buy_second_time_total_cnt</th>\n",
       "      <th>...</th>\n",
       "      <th>_user_total_products</th>\n",
       "      <th>_user_distinct_products</th>\n",
       "      <th>_user_average_basket</th>\n",
       "      <th>order_id</th>\n",
       "      <th>eval_set</th>\n",
       "      <th>time_since_last_order</th>\n",
       "      <th>_up_order_rate</th>\n",
       "      <th>_up_order_since_last_order</th>\n",
       "      <th>_up_order_rate_since_first_order</th>\n",
       "      <th>reordered</th>\n",
       "    </tr>\n",
       "  </thead>\n",
       "  <tbody>\n",
       "    <tr>\n",
       "      <th>18</th>\n",
       "      <td>15</td>\n",
       "      <td>196</td>\n",
       "      <td>5</td>\n",
       "      <td>15</td>\n",
       "      <td>22</td>\n",
       "      <td>2.200</td>\n",
       "      <td>35791</td>\n",
       "      <td>27791.0</td>\n",
       "      <td>8000</td>\n",
       "      <td>4660</td>\n",
       "      <td>...</td>\n",
       "      <td>72</td>\n",
       "      <td>13</td>\n",
       "      <td>3.272727</td>\n",
       "      <td>2161313</td>\n",
       "      <td>test</td>\n",
       "      <td>7.0</td>\n",
       "      <td>0.227273</td>\n",
       "      <td>0</td>\n",
       "      <td>0.625000</td>\n",
       "      <td>NaN</td>\n",
       "    </tr>\n",
       "    <tr>\n",
       "      <th>19</th>\n",
       "      <td>15</td>\n",
       "      <td>12427</td>\n",
       "      <td>10</td>\n",
       "      <td>1</td>\n",
       "      <td>20</td>\n",
       "      <td>2.100</td>\n",
       "      <td>6476</td>\n",
       "      <td>4797.0</td>\n",
       "      <td>1679</td>\n",
       "      <td>889</td>\n",
       "      <td>...</td>\n",
       "      <td>72</td>\n",
       "      <td>13</td>\n",
       "      <td>3.272727</td>\n",
       "      <td>2161313</td>\n",
       "      <td>test</td>\n",
       "      <td>7.0</td>\n",
       "      <td>0.454545</td>\n",
       "      <td>2</td>\n",
       "      <td>0.454545</td>\n",
       "      <td>NaN</td>\n",
       "    </tr>\n",
       "    <tr>\n",
       "      <th>20</th>\n",
       "      <td>15</td>\n",
       "      <td>1747</td>\n",
       "      <td>4</td>\n",
       "      <td>8</td>\n",
       "      <td>19</td>\n",
       "      <td>3.500</td>\n",
       "      <td>1448</td>\n",
       "      <td>886.0</td>\n",
       "      <td>562</td>\n",
       "      <td>221</td>\n",
       "      <td>...</td>\n",
       "      <td>72</td>\n",
       "      <td>13</td>\n",
       "      <td>3.272727</td>\n",
       "      <td>2161313</td>\n",
       "      <td>test</td>\n",
       "      <td>7.0</td>\n",
       "      <td>0.181818</td>\n",
       "      <td>3</td>\n",
       "      <td>0.266667</td>\n",
       "      <td>NaN</td>\n",
       "    </tr>\n",
       "    <tr>\n",
       "      <th>21</th>\n",
       "      <td>15</td>\n",
       "      <td>10441</td>\n",
       "      <td>8</td>\n",
       "      <td>1</td>\n",
       "      <td>22</td>\n",
       "      <td>2.375</td>\n",
       "      <td>2909</td>\n",
       "      <td>2042.0</td>\n",
       "      <td>867</td>\n",
       "      <td>465</td>\n",
       "      <td>...</td>\n",
       "      <td>72</td>\n",
       "      <td>13</td>\n",
       "      <td>3.272727</td>\n",
       "      <td>2161313</td>\n",
       "      <td>test</td>\n",
       "      <td>7.0</td>\n",
       "      <td>0.363636</td>\n",
       "      <td>0</td>\n",
       "      <td>0.363636</td>\n",
       "      <td>NaN</td>\n",
       "    </tr>\n",
       "    <tr>\n",
       "      <th>22</th>\n",
       "      <td>15</td>\n",
       "      <td>11266</td>\n",
       "      <td>10</td>\n",
       "      <td>1</td>\n",
       "      <td>19</td>\n",
       "      <td>1.600</td>\n",
       "      <td>4081</td>\n",
       "      <td>3000.0</td>\n",
       "      <td>1081</td>\n",
       "      <td>645</td>\n",
       "      <td>...</td>\n",
       "      <td>72</td>\n",
       "      <td>13</td>\n",
       "      <td>3.272727</td>\n",
       "      <td>2161313</td>\n",
       "      <td>test</td>\n",
       "      <td>7.0</td>\n",
       "      <td>0.454545</td>\n",
       "      <td>3</td>\n",
       "      <td>0.454545</td>\n",
       "      <td>NaN</td>\n",
       "    </tr>\n",
       "  </tbody>\n",
       "</table>\n",
       "<p>5 rows × 27 columns</p>\n",
       "</div>"
      ],
      "text/plain": [
       "    user_id  product_id  _up_order_count  _up_first_order_number  \\\n",
       "18       15         196                5                      15   \n",
       "19       15       12427               10                       1   \n",
       "20       15        1747                4                       8   \n",
       "21       15       10441                8                       1   \n",
       "22       15       11266               10                       1   \n",
       "\n",
       "    _up_last_order_number  _up_average_cart_position  _prod_tot_cnts  \\\n",
       "18                     22                      2.200           35791   \n",
       "19                     20                      2.100            6476   \n",
       "20                     19                      3.500            1448   \n",
       "21                     22                      2.375            2909   \n",
       "22                     19                      1.600            4081   \n",
       "\n",
       "    _prod_reorder_tot_cnts  _prod_buy_first_time_total_cnt  \\\n",
       "18                 27791.0                            8000   \n",
       "19                  4797.0                            1679   \n",
       "20                   886.0                             562   \n",
       "21                  2042.0                             867   \n",
       "22                  3000.0                            1081   \n",
       "\n",
       "    _prod_buy_second_time_total_cnt    ...      _user_total_products  \\\n",
       "18                             4660    ...                        72   \n",
       "19                              889    ...                        72   \n",
       "20                              221    ...                        72   \n",
       "21                              465    ...                        72   \n",
       "22                              645    ...                        72   \n",
       "\n",
       "    _user_distinct_products  _user_average_basket  order_id  eval_set  \\\n",
       "18                       13              3.272727   2161313      test   \n",
       "19                       13              3.272727   2161313      test   \n",
       "20                       13              3.272727   2161313      test   \n",
       "21                       13              3.272727   2161313      test   \n",
       "22                       13              3.272727   2161313      test   \n",
       "\n",
       "    time_since_last_order  _up_order_rate  _up_order_since_last_order  \\\n",
       "18                    7.0        0.227273                           0   \n",
       "19                    7.0        0.454545                           2   \n",
       "20                    7.0        0.181818                           3   \n",
       "21                    7.0        0.363636                           0   \n",
       "22                    7.0        0.454545                           3   \n",
       "\n",
       "    _up_order_rate_since_first_order  reordered  \n",
       "18                          0.625000        NaN  \n",
       "19                          0.454545        NaN  \n",
       "20                          0.266667        NaN  \n",
       "21                          0.363636        NaN  \n",
       "22                          0.454545        NaN  \n",
       "\n",
       "[5 rows x 27 columns]"
      ]
     },
     "execution_count": 85,
     "metadata": {},
     "output_type": "execute_result"
    }
   ],
   "source": [
    "X_test.head()"
   ]
  },
  {
   "cell_type": "code",
   "execution_count": 98,
   "metadata": {
    "collapsed": false
   },
   "outputs": [
    {
     "name": "stderr",
     "output_type": "stream",
     "text": [
      "/Users/jiayou/anaconda/lib/python3.6/site-packages/pandas/core/indexing.py:477: SettingWithCopyWarning: \n",
      "A value is trying to be set on a copy of a slice from a DataFrame.\n",
      "Try using .loc[row_indexer,col_indexer] = value instead\n",
      "\n",
      "See the caveats in the documentation: http://pandas.pydata.org/pandas-docs/stable/indexing.html#indexing-view-versus-copy\n",
      "  self.obj[item] = s\n"
     ]
    },
    {
     "name": "stdout",
     "output_type": "stream",
     "text": [
      "add stats features begin ......\n",
      "add stats features end ......\n",
      "time lapsing 5.928583860397339 s \n",
      "\n"
     ]
    }
   ],
   "source": [
    "d_test = xgboost.DMatrix(X_test.drop(['eval_set', 'user_id', 'order_id', 'reordered', 'product_id'], axis=1))\n",
    "X_test.loc[:,'reordered'] = (bst.predict(d_test) > 0.21).astype(int)\n",
    "X_test.loc[:, 'product_id'] = X_test.product_id.astype(str)\n",
    "submit = ka_add_groupby_features_n_vs_1(X_test[X_test.reordered == 1], \n",
    "                                               group_columns_list=['order_id'],\n",
    "                                               target_columns_list= ['product_id'],\n",
    "                                               methods_list=[lambda x: ' '.join(set(x))], keep_only_stats=True)"
   ]
  },
  {
   "cell_type": "code",
   "execution_count": 99,
   "metadata": {
    "collapsed": false
   },
   "outputs": [
    {
     "data": {
      "text/plain": [
       "(71172, 2)"
      ]
     },
     "execution_count": 99,
     "metadata": {},
     "output_type": "execute_result"
    }
   ],
   "source": [
    "submit.columns = sample_submission.columns.tolist()\n",
    "submit.shape"
   ]
  },
  {
   "cell_type": "code",
   "execution_count": 100,
   "metadata": {
    "collapsed": false
   },
   "outputs": [],
   "source": [
    "# there are some orders that does not have any predicted items, so the submit df does not contain them\n",
    "submit_final = sample_submission[['order_id']].merge(submit, how='left').fillna('None')\n",
    "submit_final.to_csv(\"sample_train_submission.csv\", index=False)"
   ]
  },
  {
   "cell_type": "code",
   "execution_count": 101,
   "metadata": {
    "collapsed": false
   },
   "outputs": [
    {
     "data": {
      "text/plain": [
       "(75000, 2)"
      ]
     },
     "execution_count": 101,
     "metadata": {},
     "output_type": "execute_result"
    }
   ],
   "source": [
    "submit_final.shape"
   ]
  },
  {
   "cell_type": "code",
   "execution_count": null,
   "metadata": {
    "collapsed": true
   },
   "outputs": [],
   "source": []
  }
 ],
 "metadata": {
  "kernelspec": {
   "display_name": "Python 3",
   "language": "python",
   "name": "python3"
  },
  "language_info": {
   "codemirror_mode": {
    "name": "ipython",
    "version": 3
   },
   "file_extension": ".py",
   "mimetype": "text/x-python",
   "name": "python",
   "nbconvert_exporter": "python",
   "pygments_lexer": "ipython3",
   "version": "3.6.0"
  }
 },
 "nbformat": 4,
 "nbformat_minor": 2
}
